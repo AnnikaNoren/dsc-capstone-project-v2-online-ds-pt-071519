{
 "cells": [
  {
   "cell_type": "markdown",
   "metadata": {
    "toc": true
   },
   "source": [
    "<h1>Table of Contents<span class=\"tocSkip\"></span></h1>\n",
    "<div class=\"toc\"><ul class=\"toc-item\"><li><span><a href=\"#Import-Libraries-and-dataframe\" data-toc-modified-id=\"Import-Libraries-and-dataframe-1\"><span class=\"toc-item-num\">1&nbsp;&nbsp;</span>Import Libraries and dataframe</a></span></li></ul></div>"
   ]
  },
  {
   "cell_type": "markdown",
   "metadata": {},
   "source": [
    "# Import Libraries and dataframe"
   ]
  },
  {
   "cell_type": "code",
   "execution_count": 1,
   "metadata": {},
   "outputs": [],
   "source": [
    "import numpy as np \n",
    "import pandas as pd\n",
    "\n",
    "import seaborn as sns\n",
    "from matplotlib import pyplot as plt\n",
    "from matplotlib.pylab import rcParams\n",
    "\n",
    "plt.style.use('ggplot')\n",
    "%matplotlib inline\n",
    "\n",
    "import warnings\n",
    "warnings.filterwarnings('ignore')\n",
    "\n",
    "from sklearn.linear_model import LogisticRegression\n",
    "from sklearn.model_selection import train_test_split\n",
    "from sklearn.preprocessing import StandardScaler\n",
    "\n",
    "import itertools\n",
    "import statsmodels.api as sm\n",
    "import operator\n",
    "\n",
    "from sklearn.metrics import precision_score, recall_score, accuracy_score, f1_score\n",
    "from sklearn.metrics import confusion_matrix, classification_report\n",
    "from sklearn.tree import DecisionTreeClassifier\n",
    "from sklearn.ensemble import BaggingClassifier, RandomForestClassifier\n",
    "from sklearn.model_selection import GridSearchCV\n",
    "from sklearn.neighbors import KNeighborsClassifier\n",
    "from sklearn.svm import SVC\n",
    "\n",
    "from sklearn.decomposition import PCA\n",
    "from sklearn.metrics import confusion_matrix\n",
    "\n",
    "import time\n",
    "\n",
    "import re\n",
    "from bs4 import BeautifulSoup\n",
    "import requests\n",
    "import urllib.request\n",
    "from urllib.request import Request, urlopen"
   ]
  },
  {
   "cell_type": "code",
   "execution_count": 2,
   "metadata": {},
   "outputs": [],
   "source": [
    "df = pd.read_csv('cleaned_coffee_reviews.csv')"
   ]
  },
  {
   "cell_type": "code",
   "execution_count": 4,
   "metadata": {},
   "outputs": [
    {
     "data": {
      "text/plain": [
       "Index(['Unnamed: 0', 'Coffee Name', 'Roaster Name', 'Roaster Location',\n",
       "       'Coffee Origin', 'Rating', 'Roast Level', 'Review Date', 'Price',\n",
       "       'Agtron', 'Flavor', 'Body', 'Aroma', 'Aftertaste', 'Acidity',\n",
       "       'Bottom Line', 'Prices Per Oz', 'Agtron Whole', 'Agtron Ground',\n",
       "       'Coffee Country'],\n",
       "      dtype='object')"
      ]
     },
     "execution_count": 4,
     "metadata": {},
     "output_type": "execute_result"
    }
   ],
   "source": [
    "df.columns"
   ]
  },
  {
   "cell_type": "code",
   "execution_count": 5,
   "metadata": {},
   "outputs": [],
   "source": [
    "df = df.drop(['Unnamed: 0'], axis=1)"
   ]
  },
  {
   "cell_type": "code",
   "execution_count": 6,
   "metadata": {},
   "outputs": [
    {
     "data": {
      "text/html": [
       "<div>\n",
       "<style scoped>\n",
       "    .dataframe tbody tr th:only-of-type {\n",
       "        vertical-align: middle;\n",
       "    }\n",
       "\n",
       "    .dataframe tbody tr th {\n",
       "        vertical-align: top;\n",
       "    }\n",
       "\n",
       "    .dataframe thead th {\n",
       "        text-align: right;\n",
       "    }\n",
       "</style>\n",
       "<table border=\"1\" class=\"dataframe\">\n",
       "  <thead>\n",
       "    <tr style=\"text-align: right;\">\n",
       "      <th></th>\n",
       "      <th>Coffee Name</th>\n",
       "      <th>Roaster Name</th>\n",
       "      <th>Roaster Location</th>\n",
       "      <th>Coffee Origin</th>\n",
       "      <th>Rating</th>\n",
       "      <th>Roast Level</th>\n",
       "      <th>Review Date</th>\n",
       "      <th>Price</th>\n",
       "      <th>Agtron</th>\n",
       "      <th>Flavor</th>\n",
       "      <th>Body</th>\n",
       "      <th>Aroma</th>\n",
       "      <th>Aftertaste</th>\n",
       "      <th>Acidity</th>\n",
       "      <th>Bottom Line</th>\n",
       "      <th>Prices Per Oz</th>\n",
       "      <th>Agtron Whole</th>\n",
       "      <th>Agtron Ground</th>\n",
       "      <th>Coffee Country</th>\n",
       "    </tr>\n",
       "  </thead>\n",
       "  <tbody>\n",
       "    <tr>\n",
       "      <th>0</th>\n",
       "      <td>Costa Rica Luis Campos Anaerobic</td>\n",
       "      <td>Revel Coffee</td>\n",
       "      <td>Billings, Montana</td>\n",
       "      <td>Tarrazu, Costa Rica</td>\n",
       "      <td>94</td>\n",
       "      <td>Medium-Light</td>\n",
       "      <td>April 2020</td>\n",
       "      <td>$23.00/12 ounces</td>\n",
       "      <td>58/76</td>\n",
       "      <td>9</td>\n",
       "      <td>9</td>\n",
       "      <td>9</td>\n",
       "      <td>8</td>\n",
       "      <td>9.0</td>\n",
       "      <td>Enjoying this Costa Rica evokes the pleasures ...</td>\n",
       "      <td>1.92</td>\n",
       "      <td>58</td>\n",
       "      <td>76</td>\n",
       "      <td>Costa Rica</td>\n",
       "    </tr>\n",
       "    <tr>\n",
       "      <th>1</th>\n",
       "      <td>Colombia Granja La Esperanza Tres Dragones</td>\n",
       "      <td>PT's Coffee Roasting Co.</td>\n",
       "      <td>Topeka, Kansas</td>\n",
       "      <td>Valle del Cauca growing region, Colombia</td>\n",
       "      <td>94</td>\n",
       "      <td>Medium-Light</td>\n",
       "      <td>April 2020</td>\n",
       "      <td>$23.50/12 ounces</td>\n",
       "      <td>60/74</td>\n",
       "      <td>9</td>\n",
       "      <td>9</td>\n",
       "      <td>9</td>\n",
       "      <td>8</td>\n",
       "      <td>9.0</td>\n",
       "      <td>A bombshell of a coffee with enough personalit...</td>\n",
       "      <td>1.96</td>\n",
       "      <td>60</td>\n",
       "      <td>74</td>\n",
       "      <td>Colombia</td>\n",
       "    </tr>\n",
       "    <tr>\n",
       "      <th>2</th>\n",
       "      <td>Colombia Finca La Loma Microlot</td>\n",
       "      <td>BeanFruit Coffee Co.</td>\n",
       "      <td>Jackson, Mississippi</td>\n",
       "      <td>Huila, Colombia</td>\n",
       "      <td>94</td>\n",
       "      <td>Medium-Light</td>\n",
       "      <td>March 2020</td>\n",
       "      <td>$16.50/12 ounces</td>\n",
       "      <td>58/76</td>\n",
       "      <td>9</td>\n",
       "      <td>9</td>\n",
       "      <td>9</td>\n",
       "      <td>8</td>\n",
       "      <td>9.0</td>\n",
       "      <td>An exceptional Colombia cup with sweet and tar...</td>\n",
       "      <td>1.38</td>\n",
       "      <td>58</td>\n",
       "      <td>76</td>\n",
       "      <td>Colombia</td>\n",
       "    </tr>\n",
       "    <tr>\n",
       "      <th>3</th>\n",
       "      <td>Dukunde Kawa Rwanda</td>\n",
       "      <td>JBC Coffee Roasters</td>\n",
       "      <td>Madison, Wisconsin</td>\n",
       "      <td>Musasa, Rwanda</td>\n",
       "      <td>93</td>\n",
       "      <td>Medium-Light</td>\n",
       "      <td>March 2020</td>\n",
       "      <td>$16.25/12 ounces</td>\n",
       "      <td>56/74</td>\n",
       "      <td>9</td>\n",
       "      <td>9</td>\n",
       "      <td>9</td>\n",
       "      <td>8</td>\n",
       "      <td>8.0</td>\n",
       "      <td>A deep yet delicate cup redolent with crisp fr...</td>\n",
       "      <td>1.35</td>\n",
       "      <td>56</td>\n",
       "      <td>74</td>\n",
       "      <td>Rwanda</td>\n",
       "    </tr>\n",
       "    <tr>\n",
       "      <th>4</th>\n",
       "      <td>Buzira Burundi Natural</td>\n",
       "      <td>JBC Coffee Roasters</td>\n",
       "      <td>Madison, Wisconsin</td>\n",
       "      <td>Murutra, Kayanza Province, Burundi</td>\n",
       "      <td>92</td>\n",
       "      <td>Medium-Light</td>\n",
       "      <td>March 2020</td>\n",
       "      <td>$18.20/12 ounces</td>\n",
       "      <td>58/76</td>\n",
       "      <td>9</td>\n",
       "      <td>8</td>\n",
       "      <td>9</td>\n",
       "      <td>8</td>\n",
       "      <td>8.0</td>\n",
       "      <td>An exceptionally cleanly expressed natural-pro...</td>\n",
       "      <td>1.52</td>\n",
       "      <td>58</td>\n",
       "      <td>76</td>\n",
       "      <td>Burundi</td>\n",
       "    </tr>\n",
       "  </tbody>\n",
       "</table>\n",
       "</div>"
      ],
      "text/plain": [
       "                                  Coffee Name              Roaster Name  \\\n",
       "0            Costa Rica Luis Campos Anaerobic              Revel Coffee   \n",
       "1  Colombia Granja La Esperanza Tres Dragones  PT's Coffee Roasting Co.   \n",
       "2             Colombia Finca La Loma Microlot      BeanFruit Coffee Co.   \n",
       "3                         Dukunde Kawa Rwanda       JBC Coffee Roasters   \n",
       "4                      Buzira Burundi Natural       JBC Coffee Roasters   \n",
       "\n",
       "       Roaster Location                             Coffee Origin  Rating  \\\n",
       "0     Billings, Montana                       Tarrazu, Costa Rica      94   \n",
       "1        Topeka, Kansas  Valle del Cauca growing region, Colombia      94   \n",
       "2  Jackson, Mississippi                           Huila, Colombia      94   \n",
       "3    Madison, Wisconsin                            Musasa, Rwanda      93   \n",
       "4    Madison, Wisconsin        Murutra, Kayanza Province, Burundi      92   \n",
       "\n",
       "    Roast Level Review Date             Price Agtron  Flavor  Body  Aroma  \\\n",
       "0  Medium-Light  April 2020  $23.00/12 ounces  58/76       9     9      9   \n",
       "1  Medium-Light  April 2020  $23.50/12 ounces  60/74       9     9      9   \n",
       "2  Medium-Light  March 2020  $16.50/12 ounces  58/76       9     9      9   \n",
       "3  Medium-Light  March 2020  $16.25/12 ounces  56/74       9     9      9   \n",
       "4  Medium-Light  March 2020  $18.20/12 ounces  58/76       9     8      9   \n",
       "\n",
       "   Aftertaste  Acidity                                        Bottom Line  \\\n",
       "0           8      9.0  Enjoying this Costa Rica evokes the pleasures ...   \n",
       "1           8      9.0  A bombshell of a coffee with enough personalit...   \n",
       "2           8      9.0  An exceptional Colombia cup with sweet and tar...   \n",
       "3           8      8.0  A deep yet delicate cup redolent with crisp fr...   \n",
       "4           8      8.0  An exceptionally cleanly expressed natural-pro...   \n",
       "\n",
       "   Prices Per Oz  Agtron Whole  Agtron Ground Coffee Country  \n",
       "0           1.92            58             76     Costa Rica  \n",
       "1           1.96            60             74       Colombia  \n",
       "2           1.38            58             76       Colombia  \n",
       "3           1.35            56             74         Rwanda  \n",
       "4           1.52            58             76        Burundi  "
      ]
     },
     "execution_count": 6,
     "metadata": {},
     "output_type": "execute_result"
    }
   ],
   "source": [
    "df.head()"
   ]
  },
  {
   "cell_type": "code",
   "execution_count": null,
   "metadata": {},
   "outputs": [],
   "source": []
  }
 ],
 "metadata": {
  "kernelspec": {
   "display_name": "Python [conda env:learn-env] *",
   "language": "python",
   "name": "conda-env-learn-env-py"
  },
  "language_info": {
   "codemirror_mode": {
    "name": "ipython",
    "version": 3
   },
   "file_extension": ".py",
   "mimetype": "text/x-python",
   "name": "python",
   "nbconvert_exporter": "python",
   "pygments_lexer": "ipython3",
   "version": "3.6.6"
  },
  "toc": {
   "base_numbering": 1,
   "nav_menu": {},
   "number_sections": true,
   "sideBar": true,
   "skip_h1_title": false,
   "title_cell": "Table of Contents",
   "title_sidebar": "Contents",
   "toc_cell": true,
   "toc_position": {},
   "toc_section_display": true,
   "toc_window_display": false
  },
  "varInspector": {
   "cols": {
    "lenName": 16,
    "lenType": 16,
    "lenVar": 40
   },
   "kernels_config": {
    "python": {
     "delete_cmd_postfix": "",
     "delete_cmd_prefix": "del ",
     "library": "var_list.py",
     "varRefreshCmd": "print(var_dic_list())"
    },
    "r": {
     "delete_cmd_postfix": ") ",
     "delete_cmd_prefix": "rm(",
     "library": "var_list.r",
     "varRefreshCmd": "cat(var_dic_list()) "
    }
   },
   "types_to_exclude": [
    "module",
    "function",
    "builtin_function_or_method",
    "instance",
    "_Feature"
   ],
   "window_display": false
  }
 },
 "nbformat": 4,
 "nbformat_minor": 2
}
