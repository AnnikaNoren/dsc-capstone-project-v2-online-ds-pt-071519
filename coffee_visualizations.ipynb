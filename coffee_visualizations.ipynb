{
 "cells": [
  {
   "cell_type": "markdown",
   "metadata": {
    "toc": true
   },
   "source": [
    "<h1>Table of Contents<span class=\"tocSkip\"></span></h1>\n",
    "<div class=\"toc\"><ul class=\"toc-item\"><li><span><a href=\"#Import-Libraries-and-dataframe\" data-toc-modified-id=\"Import-Libraries-and-dataframe-1\"><span class=\"toc-item-num\">1&nbsp;&nbsp;</span>Import Libraries and dataframe</a></span></li><li><span><a href=\"#Prices-per-oz-vs-Rating\" data-toc-modified-id=\"Prices-per-oz-vs-Rating-2\"><span class=\"toc-item-num\">2&nbsp;&nbsp;</span>Prices per oz vs Rating</a></span></li><li><span><a href=\"#Distribution-of-Ratings\" data-toc-modified-id=\"Distribution-of-Ratings-3\"><span class=\"toc-item-num\">3&nbsp;&nbsp;</span>Distribution of Ratings</a></span></li><li><span><a href=\"#Agtron\" data-toc-modified-id=\"Agtron-4\"><span class=\"toc-item-num\">4&nbsp;&nbsp;</span>Agtron</a></span></li></ul></div>"
   ]
  },
  {
   "cell_type": "markdown",
   "metadata": {},
   "source": [
    "# Import Libraries and dataframe"
   ]
  },
  {
   "cell_type": "code",
   "execution_count": 1,
   "metadata": {},
   "outputs": [],
   "source": [
    "import numpy as np \n",
    "import pandas as pd\n",
    "\n",
    "import seaborn as sns\n",
    "from matplotlib import pyplot as plt\n",
    "from matplotlib.pylab import rcParams\n",
    "\n",
    "plt.style.use('ggplot')\n",
    "%matplotlib inline\n",
    "\n",
    "import warnings\n",
    "warnings.filterwarnings('ignore')\n",
    "\n",
    "from sklearn.linear_model import LogisticRegression\n",
    "from sklearn.model_selection import train_test_split\n",
    "from sklearn.preprocessing import StandardScaler\n",
    "\n",
    "import itertools\n",
    "import statsmodels.api as sm\n",
    "import operator\n",
    "\n",
    "from sklearn.metrics import precision_score, recall_score, accuracy_score, f1_score\n",
    "from sklearn.metrics import confusion_matrix, classification_report\n",
    "from sklearn.tree import DecisionTreeClassifier\n",
    "from sklearn.ensemble import BaggingClassifier, RandomForestClassifier\n",
    "from sklearn.model_selection import GridSearchCV\n",
    "from sklearn.neighbors import KNeighborsClassifier\n",
    "from sklearn.svm import SVC\n",
    "\n",
    "from sklearn.decomposition import PCA\n",
    "from sklearn.metrics import confusion_matrix\n",
    "\n",
    "import time\n",
    "\n",
    "import re\n",
    "from bs4 import BeautifulSoup\n",
    "import requests\n",
    "import urllib.request\n",
    "from urllib.request import Request, urlopen"
   ]
  },
  {
   "cell_type": "code",
   "execution_count": 2,
   "metadata": {},
   "outputs": [],
   "source": [
    "df = pd.read_csv('cleaned_coffee_reviews.csv')"
   ]
  },
  {
   "cell_type": "code",
   "execution_count": 4,
   "metadata": {},
   "outputs": [
    {
     "data": {
      "text/html": [
       "<div>\n",
       "<style scoped>\n",
       "    .dataframe tbody tr th:only-of-type {\n",
       "        vertical-align: middle;\n",
       "    }\n",
       "\n",
       "    .dataframe tbody tr th {\n",
       "        vertical-align: top;\n",
       "    }\n",
       "\n",
       "    .dataframe thead th {\n",
       "        text-align: right;\n",
       "    }\n",
       "</style>\n",
       "<table border=\"1\" class=\"dataframe\">\n",
       "  <thead>\n",
       "    <tr style=\"text-align: right;\">\n",
       "      <th></th>\n",
       "      <th>Coffee Name</th>\n",
       "      <th>Roaster Name</th>\n",
       "      <th>Roaster Location</th>\n",
       "      <th>Coffee Origin</th>\n",
       "      <th>Rating</th>\n",
       "      <th>Roast Level</th>\n",
       "      <th>Review Date</th>\n",
       "      <th>Price</th>\n",
       "      <th>Agtron</th>\n",
       "      <th>Flavor</th>\n",
       "      <th>Body</th>\n",
       "      <th>Aroma</th>\n",
       "      <th>Aftertaste</th>\n",
       "      <th>Acidity</th>\n",
       "      <th>Bottom Line</th>\n",
       "      <th>Prices Per Oz</th>\n",
       "      <th>Agtron Whole</th>\n",
       "      <th>Agtron Ground</th>\n",
       "      <th>Coffee Country</th>\n",
       "    </tr>\n",
       "  </thead>\n",
       "  <tbody>\n",
       "    <tr>\n",
       "      <th>0</th>\n",
       "      <td>Costa Rica Luis Campos Anaerobic</td>\n",
       "      <td>Revel Coffee</td>\n",
       "      <td>Billings, Montana</td>\n",
       "      <td>Tarrazu, Costa Rica</td>\n",
       "      <td>94</td>\n",
       "      <td>Medium-Light</td>\n",
       "      <td>April 2020</td>\n",
       "      <td>$23.00/12 ounces</td>\n",
       "      <td>58/76</td>\n",
       "      <td>9</td>\n",
       "      <td>9</td>\n",
       "      <td>9</td>\n",
       "      <td>8</td>\n",
       "      <td>9.0</td>\n",
       "      <td>Enjoying this Costa Rica evokes the pleasures ...</td>\n",
       "      <td>1.92</td>\n",
       "      <td>58</td>\n",
       "      <td>76</td>\n",
       "      <td>Costa Rica</td>\n",
       "    </tr>\n",
       "    <tr>\n",
       "      <th>1</th>\n",
       "      <td>Colombia Granja La Esperanza Tres Dragones</td>\n",
       "      <td>PT's Coffee Roasting Co.</td>\n",
       "      <td>Topeka, Kansas</td>\n",
       "      <td>Valle del Cauca growing region, Colombia</td>\n",
       "      <td>94</td>\n",
       "      <td>Medium-Light</td>\n",
       "      <td>April 2020</td>\n",
       "      <td>$23.50/12 ounces</td>\n",
       "      <td>60/74</td>\n",
       "      <td>9</td>\n",
       "      <td>9</td>\n",
       "      <td>9</td>\n",
       "      <td>8</td>\n",
       "      <td>9.0</td>\n",
       "      <td>A bombshell of a coffee with enough personalit...</td>\n",
       "      <td>1.96</td>\n",
       "      <td>60</td>\n",
       "      <td>74</td>\n",
       "      <td>Colombia</td>\n",
       "    </tr>\n",
       "    <tr>\n",
       "      <th>2</th>\n",
       "      <td>Colombia Finca La Loma Microlot</td>\n",
       "      <td>BeanFruit Coffee Co.</td>\n",
       "      <td>Jackson, Mississippi</td>\n",
       "      <td>Huila, Colombia</td>\n",
       "      <td>94</td>\n",
       "      <td>Medium-Light</td>\n",
       "      <td>March 2020</td>\n",
       "      <td>$16.50/12 ounces</td>\n",
       "      <td>58/76</td>\n",
       "      <td>9</td>\n",
       "      <td>9</td>\n",
       "      <td>9</td>\n",
       "      <td>8</td>\n",
       "      <td>9.0</td>\n",
       "      <td>An exceptional Colombia cup with sweet and tar...</td>\n",
       "      <td>1.38</td>\n",
       "      <td>58</td>\n",
       "      <td>76</td>\n",
       "      <td>Colombia</td>\n",
       "    </tr>\n",
       "    <tr>\n",
       "      <th>3</th>\n",
       "      <td>Dukunde Kawa Rwanda</td>\n",
       "      <td>JBC Coffee Roasters</td>\n",
       "      <td>Madison, Wisconsin</td>\n",
       "      <td>Musasa, Rwanda</td>\n",
       "      <td>93</td>\n",
       "      <td>Medium-Light</td>\n",
       "      <td>March 2020</td>\n",
       "      <td>$16.25/12 ounces</td>\n",
       "      <td>56/74</td>\n",
       "      <td>9</td>\n",
       "      <td>9</td>\n",
       "      <td>9</td>\n",
       "      <td>8</td>\n",
       "      <td>8.0</td>\n",
       "      <td>A deep yet delicate cup redolent with crisp fr...</td>\n",
       "      <td>1.35</td>\n",
       "      <td>56</td>\n",
       "      <td>74</td>\n",
       "      <td>Rwanda</td>\n",
       "    </tr>\n",
       "    <tr>\n",
       "      <th>4</th>\n",
       "      <td>Buzira Burundi Natural</td>\n",
       "      <td>JBC Coffee Roasters</td>\n",
       "      <td>Madison, Wisconsin</td>\n",
       "      <td>Murutra, Kayanza Province, Burundi</td>\n",
       "      <td>92</td>\n",
       "      <td>Medium-Light</td>\n",
       "      <td>March 2020</td>\n",
       "      <td>$18.20/12 ounces</td>\n",
       "      <td>58/76</td>\n",
       "      <td>9</td>\n",
       "      <td>8</td>\n",
       "      <td>9</td>\n",
       "      <td>8</td>\n",
       "      <td>8.0</td>\n",
       "      <td>An exceptionally cleanly expressed natural-pro...</td>\n",
       "      <td>1.52</td>\n",
       "      <td>58</td>\n",
       "      <td>76</td>\n",
       "      <td>Burundi</td>\n",
       "    </tr>\n",
       "  </tbody>\n",
       "</table>\n",
       "</div>"
      ],
      "text/plain": [
       "                                  Coffee Name              Roaster Name  \\\n",
       "0            Costa Rica Luis Campos Anaerobic              Revel Coffee   \n",
       "1  Colombia Granja La Esperanza Tres Dragones  PT's Coffee Roasting Co.   \n",
       "2             Colombia Finca La Loma Microlot      BeanFruit Coffee Co.   \n",
       "3                         Dukunde Kawa Rwanda       JBC Coffee Roasters   \n",
       "4                      Buzira Burundi Natural       JBC Coffee Roasters   \n",
       "\n",
       "       Roaster Location                             Coffee Origin  Rating  \\\n",
       "0     Billings, Montana                       Tarrazu, Costa Rica      94   \n",
       "1        Topeka, Kansas  Valle del Cauca growing region, Colombia      94   \n",
       "2  Jackson, Mississippi                           Huila, Colombia      94   \n",
       "3    Madison, Wisconsin                            Musasa, Rwanda      93   \n",
       "4    Madison, Wisconsin        Murutra, Kayanza Province, Burundi      92   \n",
       "\n",
       "    Roast Level Review Date             Price Agtron  Flavor  Body  Aroma  \\\n",
       "0  Medium-Light  April 2020  $23.00/12 ounces  58/76       9     9      9   \n",
       "1  Medium-Light  April 2020  $23.50/12 ounces  60/74       9     9      9   \n",
       "2  Medium-Light  March 2020  $16.50/12 ounces  58/76       9     9      9   \n",
       "3  Medium-Light  March 2020  $16.25/12 ounces  56/74       9     9      9   \n",
       "4  Medium-Light  March 2020  $18.20/12 ounces  58/76       9     8      9   \n",
       "\n",
       "   Aftertaste  Acidity                                        Bottom Line  \\\n",
       "0           8      9.0  Enjoying this Costa Rica evokes the pleasures ...   \n",
       "1           8      9.0  A bombshell of a coffee with enough personalit...   \n",
       "2           8      9.0  An exceptional Colombia cup with sweet and tar...   \n",
       "3           8      8.0  A deep yet delicate cup redolent with crisp fr...   \n",
       "4           8      8.0  An exceptionally cleanly expressed natural-pro...   \n",
       "\n",
       "   Prices Per Oz  Agtron Whole  Agtron Ground Coffee Country  \n",
       "0           1.92            58             76     Costa Rica  \n",
       "1           1.96            60             74       Colombia  \n",
       "2           1.38            58             76       Colombia  \n",
       "3           1.35            56             74         Rwanda  \n",
       "4           1.52            58             76        Burundi  "
      ]
     },
     "execution_count": 4,
     "metadata": {},
     "output_type": "execute_result"
    }
   ],
   "source": [
    "df.columns\n",
    "df = df.drop(['Unnamed: 0'], axis=1)\n",
    "df.head()"
   ]
  },
  {
   "cell_type": "code",
   "execution_count": null,
   "metadata": {},
   "outputs": [],
   "source": [
    "# visualization ideas\n",
    "\n",
    "#  1. Map of world with coffee origin plotted, w layers\n",
    "#  https://gis.stackexchange.com/questions/198530/plotting-us-cities-on-a-map-with-matplotlib-and-basemap\n",
    "#  2. done: price v rating\n",
    "#  3. rating v agtron or agtron v origin\n",
    "#  4. confusion matrix\n",
    "#  5. done: Distribution of ratings\n",
    "#  6. Feature importance\n",
    "\n",
    "# https://towardsdatascience.com/walkthrough-mapping-basics-with-bokeh-and-geopandas-in-python-43f40aa5b7e9\n",
    "# https://towardsdatascience.com/a-complete-guide-to-an-interactive-geographical-map-using-python-f4c5197e23e0"
   ]
  },
  {
   "cell_type": "markdown",
   "metadata": {},
   "source": [
    "# Prices per oz vs Rating"
   ]
  },
  {
   "cell_type": "code",
   "execution_count": null,
   "metadata": {},
   "outputs": [],
   "source": [
    "# Phoenix[['RegionName','growth2']].sort_values(by='growth2',ascending=False).plot.bar(x='RegionName', y='growth2',figsize=(40,30))\n",
    "# plt.title('ROI Growth (post 2008 Crash) for Zip Codes in Phoenix, AZ', fontsize=30)\n",
    "# plt.legend('')\n",
    "# plt.xlabel('zipcodes', fontsize =20)\n",
    "# plt.ylabel('Growth percentage', fontsize=20)\n",
    "\n",
    "# result.plot.bar(x='RegionName', y='growth2', figsize=(10,10))\n",
    "# plt.title('Top 13 Zipcodes in US: CA, AZ and NV', fontsize=25)\n",
    "# plt.xlabel('zip codes')\n",
    "# plt.legend('')\n",
    "# plt.ylabel('Growth percentage')\n",
    "\n",
    "# fig, ax = plt.subplots(figsize=(25,15))\n",
    "# plt.bar(CA_x,CA_y, color = '#1c3290', label = \"CA mean: {}\".format(CA_mean))\n",
    "# plt.bar(NV_x, NV_y, color = \"#901c32\", label = \"NV mean: {}\".format(NV_mean))\n",
    "# plt.bar(AZ_x, AZ_y, color = \"#32901c\", label = \"AZ mean: {}\".format(AZ_mean))\n",
    "# plt.title(\"Top 13 US Zip Codes\", fontsize = 35)\n",
    "# plt.xlabel(\"Zip Codes\", fontsize=30)\n",
    "# plt.ylabel(\"Growth % Since 2011\", fontsize = 25)\n",
    "# plt.legend()\n",
    "# plt.show()"
   ]
  },
  {
   "cell_type": "code",
   "execution_count": 18,
   "metadata": {},
   "outputs": [
    {
     "data": {
      "image/png": "[encoded data removed]",
      "text/plain": [
       "<Figure size 720x720 with 1 Axes>"
      ]
     },
     "metadata": {
      "needs_background": "light"
     },
     "output_type": "display_data"
    }
   ],
   "source": [
    "# The scale on the y-axis is funky!!!\n",
    "\n",
    "\n",
    "x = df['Rating']\n",
    "y = df['Prices Per Oz']\n",
    "fig = plt.figure(figsize=(10,10))\n",
    "\n",
    "plt.bar(x,y, color = '#1c3290', label = \"\")\n",
    "plt.xlabel(\"Rating\", fontsize =25)\n",
    "plt.ylabel(\"$ per oz\", fontsize = 25)\n",
    "plt.title(\"Coffee Ratings by Price\", fontsize =35)\n",
    "plt.legend(\"\")\n",
    "plt.show()"
   ]
  },
  {
   "cell_type": "markdown",
   "metadata": {},
   "source": [
    "# Distribution of Ratings"
   ]
  },
  {
   "cell_type": "code",
   "execution_count": 19,
   "metadata": {},
   "outputs": [
    {
     "data": {
      "image/png": "[encoded data removed]",
      "text/plain": [
       "<Figure size 936x720 with 1 Axes>"
      ]
     },
     "metadata": {},
     "output_type": "display_data"
    }
   ],
   "source": [
    "sns.set(rc={'figure.figsize':(13,10)})\n",
    "sns.distplot(df['Rating'], bins=40)\n",
    "plt.show()"
   ]
  },
  {
   "cell_type": "markdown",
   "metadata": {},
   "source": [
    "# Agtron"
   ]
  },
  {
   "cell_type": "code",
   "execution_count": 20,
   "metadata": {},
   "outputs": [
    {
     "data": {
      "text/plain": [
       "<matplotlib.axes._subplots.AxesSubplot at 0x1c29aa9550>"
      ]
     },
     "execution_count": 20,
     "metadata": {},
     "output_type": "execute_result"
    },
    {
     "data": {
      "image/png": "[encoded data removed]",
      "text/plain": [
       "<Figure size 720x720 with 1 Axes>"
      ]
     },
     "metadata": {},
     "output_type": "display_data"
    }
   ],
   "source": [
    "df.plot.scatter(x='Agtron Whole', y='Rating', c='#901c32', figsize=(10,10), title=\"\")"
   ]
  },
  {
   "cell_type": "code",
   "execution_count": 26,
   "metadata": {},
   "outputs": [
    {
     "data": {
      "text/plain": [
       "<bound method IndexOpsMixin.nunique of 0       58\n",
       "1       60\n",
       "2       58\n",
       "3       56\n",
       "4       58\n",
       "5       60\n",
       "6       58\n",
       "7       56\n",
       "8       52\n",
       "9       52\n",
       "10      54\n",
       "11      56\n",
       "12      57\n",
       "13      59\n",
       "14      58\n",
       "15      55\n",
       "16      47\n",
       "17      56\n",
       "18      58\n",
       "19      58\n",
       "20      52\n",
       "21      54\n",
       "22      58\n",
       "23      56\n",
       "24      52\n",
       "25      54\n",
       "26      59\n",
       "27      54\n",
       "28      58\n",
       "29      54\n",
       "        ..\n",
       "2165    50\n",
       "2166    48\n",
       "2167    29\n",
       "2168    60\n",
       "2169    50\n",
       "2170    53\n",
       "2171    40\n",
       "2172    49\n",
       "2173    51\n",
       "2174    58\n",
       "2175    46\n",
       "2176    58\n",
       "2177    74\n",
       "2178    59\n",
       "2179    44\n",
       "2180     0\n",
       "2181    55\n",
       "2182    64\n",
       "2183    43\n",
       "2184    43\n",
       "2185    62\n",
       "2186    39\n",
       "2187    41\n",
       "2188    60\n",
       "2189    59\n",
       "2190    51\n",
       "2191    66\n",
       "2192    52\n",
       "2193    54\n",
       "2194    63\n",
       "Name: Agtron Whole, Length: 2195, dtype: int64>"
      ]
     },
     "execution_count": 26,
     "metadata": {},
     "output_type": "execute_result"
    }
   ],
   "source": [
    "df['Agtron Whole'].nunique"
   ]
  },
  {
   "cell_type": "code",
   "execution_count": null,
   "metadata": {},
   "outputs": [],
   "source": []
  }
 ],
 "metadata": {
  "kernelspec": {
   "display_name": "Python [conda env:learn-env] *",
   "language": "python",
   "name": "conda-env-learn-env-py"
  },
  "language_info": {
   "codemirror_mode": {
    "name": "ipython",
    "version": 3
   },
   "file_extension": ".py",
   "mimetype": "text/x-python",
   "name": "python",
   "nbconvert_exporter": "python",
   "pygments_lexer": "ipython3",
   "version": "3.6.6"
  },
  "toc": {
   "base_numbering": 1,
   "nav_menu": {},
   "number_sections": true,
   "sideBar": true,
   "skip_h1_title": false,
   "title_cell": "Table of Contents",
   "title_sidebar": "Contents",
   "toc_cell": true,
   "toc_position": {},
   "toc_section_display": true,
   "toc_window_display": false
  },
  "varInspector": {
   "cols": {
    "lenName": 16,
    "lenType": 16,
    "lenVar": 40
   },
   "kernels_config": {
    "python": {
     "delete_cmd_postfix": "",
     "delete_cmd_prefix": "del ",
     "library": "var_list.py",
     "varRefreshCmd": "print(var_dic_list())"
    },
    "r": {
     "delete_cmd_postfix": ") ",
     "delete_cmd_prefix": "rm(",
     "library": "var_list.r",
     "varRefreshCmd": "cat(var_dic_list()) "
    }
   },
   "types_to_exclude": [
    "module",
    "function",
    "builtin_function_or_method",
    "instance",
    "_Feature"
   ],
   "window_display": false
  }
 },
 "nbformat": 4,
 "nbformat_minor": 2
}
