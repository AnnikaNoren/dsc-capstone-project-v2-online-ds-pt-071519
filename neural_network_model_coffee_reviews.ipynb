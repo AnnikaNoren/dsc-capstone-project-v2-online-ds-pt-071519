{
 "cells": [
  {
   "cell_type": "markdown",
   "metadata": {
    "toc": true
   },
   "source": [
    "<h1>Table of Contents<span class=\"tocSkip\"></span></h1>\n",
    "<div class=\"toc\"><ul class=\"toc-item\"><li><span><a href=\"#Imports\" data-toc-modified-id=\"Imports-1\"><span class=\"toc-item-num\">1&nbsp;&nbsp;</span>Imports</a></span></li><li><span><a href=\"#Creating-the-data-set-(target,-dummy)\" data-toc-modified-id=\"Creating-the-data-set-(target,-dummy)-2\"><span class=\"toc-item-num\">2&nbsp;&nbsp;</span>Creating the data set (target, dummy)</a></span></li><li><span><a href=\"#Standardize-data\" data-toc-modified-id=\"Standardize-data-3\"><span class=\"toc-item-num\">3&nbsp;&nbsp;</span>Standardize data</a></span></li><li><span><a href=\"#Build-MLP\" data-toc-modified-id=\"Build-MLP-4\"><span class=\"toc-item-num\">4&nbsp;&nbsp;</span>Build MLP</a></span><ul class=\"toc-item\"><li><span><a href=\"#First-model\" data-toc-modified-id=\"First-model-4.1\"><span class=\"toc-item-num\">4.1&nbsp;&nbsp;</span>First model</a></span></li><li><span><a href=\"#Second-model\" data-toc-modified-id=\"Second-model-4.2\"><span class=\"toc-item-num\">4.2&nbsp;&nbsp;</span>Second model</a></span></li><li><span><a href=\"#Result\" data-toc-modified-id=\"Result-4.3\"><span class=\"toc-item-num\">4.3&nbsp;&nbsp;</span>Result</a></span></li><li><span><a href=\"#Third-Model\" data-toc-modified-id=\"Third-Model-4.4\"><span class=\"toc-item-num\">4.4&nbsp;&nbsp;</span>Third Model</a></span></li><li><span><a href=\"#Fourth-model:--unscaled-data\" data-toc-modified-id=\"Fourth-model:--unscaled-data-4.5\"><span class=\"toc-item-num\">4.5&nbsp;&nbsp;</span>Fourth model:  unscaled data</a></span></li></ul></li></ul></div>"
   ]
  },
  {
   "cell_type": "markdown",
   "metadata": {},
   "source": [
    "# Imports"
   ]
  },
  {
   "cell_type": "code",
   "execution_count": 3,
   "metadata": {},
   "outputs": [],
   "source": [
    "import numpy as np \n",
    "import pandas as pd\n",
    "\n",
    "import seaborn as sns\n",
    "from matplotlib import pyplot as plt\n",
    "from matplotlib.pylab import rcParams\n",
    "\n",
    "plt.style.use('ggplot')\n",
    "%matplotlib inline\n",
    "\n",
    "import warnings\n",
    "warnings.filterwarnings('ignore')\n",
    "\n",
    "from sklearn.linear_model import LogisticRegression\n",
    "from sklearn.model_selection import train_test_split\n",
    "from sklearn.preprocessing import StandardScaler\n",
    "\n",
    "import itertools\n",
    "import statsmodels.api as sm\n",
    "import operator\n",
    "\n",
    "from sklearn.metrics import precision_score, recall_score, accuracy_score, f1_score\n",
    "from sklearn.metrics import confusion_matrix, classification_report\n",
    "from sklearn.tree import DecisionTreeClassifier\n",
    "from sklearn.ensemble import BaggingClassifier, RandomForestClassifier\n",
    "from sklearn.model_selection import GridSearchCV\n",
    "from sklearn.neighbors import KNeighborsClassifier\n",
    "from sklearn.svm import SVC\n",
    "\n",
    "from sklearn.decomposition import PCA\n",
    "from sklearn.metrics import confusion_matrix\n",
    "\n",
    "import time\n",
    "\n",
    "import re\n",
    "from bs4 import BeautifulSoup\n",
    "import requests\n",
    "import urllib.request\n",
    "from urllib.request import Request, urlopen\n",
    "\n",
    "import keras\n",
    "from keras.models import Sequential\n",
    "from keras.layers import Dense\n"
   ]
  },
  {
   "cell_type": "code",
   "execution_count": 4,
   "metadata": {},
   "outputs": [],
   "source": [
    "df = pd.read_csv('cleaned_coffee_reviews.csv')"
   ]
  },
  {
   "cell_type": "code",
   "execution_count": 5,
   "metadata": {},
   "outputs": [
    {
     "data": {
      "text/html": [
       "<div>\n",
       "<style scoped>\n",
       "    .dataframe tbody tr th:only-of-type {\n",
       "        vertical-align: middle;\n",
       "    }\n",
       "\n",
       "    .dataframe tbody tr th {\n",
       "        vertical-align: top;\n",
       "    }\n",
       "\n",
       "    .dataframe thead th {\n",
       "        text-align: right;\n",
       "    }\n",
       "</style>\n",
       "<table border=\"1\" class=\"dataframe\">\n",
       "  <thead>\n",
       "    <tr style=\"text-align: right;\">\n",
       "      <th></th>\n",
       "      <th>Coffee Name</th>\n",
       "      <th>Roaster Name</th>\n",
       "      <th>Roaster Location</th>\n",
       "      <th>Coffee Origin</th>\n",
       "      <th>Rating</th>\n",
       "      <th>Roast Level</th>\n",
       "      <th>Review Date</th>\n",
       "      <th>Price</th>\n",
       "      <th>Agtron</th>\n",
       "      <th>Flavor</th>\n",
       "      <th>Body</th>\n",
       "      <th>Aroma</th>\n",
       "      <th>Aftertaste</th>\n",
       "      <th>Acidity</th>\n",
       "      <th>Bottom Line</th>\n",
       "      <th>Prices Per Oz</th>\n",
       "      <th>Agtron Whole</th>\n",
       "      <th>Agtron Ground</th>\n",
       "      <th>Coffee Country</th>\n",
       "    </tr>\n",
       "  </thead>\n",
       "  <tbody>\n",
       "    <tr>\n",
       "      <th>0</th>\n",
       "      <td>Costa Rica Luis Campos Anaerobic</td>\n",
       "      <td>Revel Coffee</td>\n",
       "      <td>Billings, Montana</td>\n",
       "      <td>Tarrazu, Costa Rica</td>\n",
       "      <td>94</td>\n",
       "      <td>Medium-Light</td>\n",
       "      <td>April 2020</td>\n",
       "      <td>$23.00/12 ounces</td>\n",
       "      <td>58/76</td>\n",
       "      <td>9</td>\n",
       "      <td>9</td>\n",
       "      <td>9</td>\n",
       "      <td>8</td>\n",
       "      <td>9.0</td>\n",
       "      <td>Enjoying this Costa Rica evokes the pleasures ...</td>\n",
       "      <td>1.92</td>\n",
       "      <td>58</td>\n",
       "      <td>76</td>\n",
       "      <td>Costa Rica</td>\n",
       "    </tr>\n",
       "    <tr>\n",
       "      <th>1</th>\n",
       "      <td>Colombia Granja La Esperanza Tres Dragones</td>\n",
       "      <td>PT's Coffee Roasting Co.</td>\n",
       "      <td>Topeka, Kansas</td>\n",
       "      <td>Valle del Cauca growing region, Colombia</td>\n",
       "      <td>94</td>\n",
       "      <td>Medium-Light</td>\n",
       "      <td>April 2020</td>\n",
       "      <td>$23.50/12 ounces</td>\n",
       "      <td>60/74</td>\n",
       "      <td>9</td>\n",
       "      <td>9</td>\n",
       "      <td>9</td>\n",
       "      <td>8</td>\n",
       "      <td>9.0</td>\n",
       "      <td>A bombshell of a coffee with enough personalit...</td>\n",
       "      <td>1.96</td>\n",
       "      <td>60</td>\n",
       "      <td>74</td>\n",
       "      <td>Colombia</td>\n",
       "    </tr>\n",
       "  </tbody>\n",
       "</table>\n",
       "</div>"
      ],
      "text/plain": [
       "                                  Coffee Name              Roaster Name  \\\n",
       "0            Costa Rica Luis Campos Anaerobic              Revel Coffee   \n",
       "1  Colombia Granja La Esperanza Tres Dragones  PT's Coffee Roasting Co.   \n",
       "\n",
       "    Roaster Location                             Coffee Origin  Rating  \\\n",
       "0  Billings, Montana                       Tarrazu, Costa Rica      94   \n",
       "1     Topeka, Kansas  Valle del Cauca growing region, Colombia      94   \n",
       "\n",
       "    Roast Level Review Date             Price Agtron  Flavor  Body  Aroma  \\\n",
       "0  Medium-Light  April 2020  $23.00/12 ounces  58/76       9     9      9   \n",
       "1  Medium-Light  April 2020  $23.50/12 ounces  60/74       9     9      9   \n",
       "\n",
       "   Aftertaste  Acidity                                        Bottom Line  \\\n",
       "0           8      9.0  Enjoying this Costa Rica evokes the pleasures ...   \n",
       "1           8      9.0  A bombshell of a coffee with enough personalit...   \n",
       "\n",
       "   Prices Per Oz  Agtron Whole  Agtron Ground Coffee Country  \n",
       "0           1.92            58             76     Costa Rica  \n",
       "1           1.96            60             74       Colombia  "
      ]
     },
     "execution_count": 5,
     "metadata": {},
     "output_type": "execute_result"
    }
   ],
   "source": [
    "df.columns\n",
    "df = df.drop(columns=['Unnamed: 0.1','Unnamed: 0.1.1','Unnamed: 0'], axis=1)\n",
    "df.head(2)"
   ]
  },
  {
   "cell_type": "markdown",
   "metadata": {},
   "source": [
    "# Creating the data set (target, dummy)"
   ]
  },
  {
   "cell_type": "code",
   "execution_count": 6,
   "metadata": {},
   "outputs": [],
   "source": [
    "# A rating of 95 or better is about 10% of the coffees\n",
    "# A rating of 94 or better is about 25% of the coffees\n",
    "df['Great'] = [1 if x >= 95 else 0 for x in df['Rating']] "
   ]
  },
  {
   "cell_type": "code",
   "execution_count": 7,
   "metadata": {},
   "outputs": [],
   "source": [
    "rl_dummies = pd.get_dummies(df['Roast Level'], prefix='RL')"
   ]
  },
  {
   "cell_type": "code",
   "execution_count": 8,
   "metadata": {},
   "outputs": [],
   "source": [
    "country_dummies = pd.get_dummies(df['Coffee Country'], prefix='CC')"
   ]
  },
  {
   "cell_type": "code",
   "execution_count": 9,
   "metadata": {},
   "outputs": [
    {
     "data": {
      "text/html": [
       "<div>\n",
       "<style scoped>\n",
       "    .dataframe tbody tr th:only-of-type {\n",
       "        vertical-align: middle;\n",
       "    }\n",
       "\n",
       "    .dataframe tbody tr th {\n",
       "        vertical-align: top;\n",
       "    }\n",
       "\n",
       "    .dataframe thead th {\n",
       "        text-align: right;\n",
       "    }\n",
       "</style>\n",
       "<table border=\"1\" class=\"dataframe\">\n",
       "  <thead>\n",
       "    <tr style=\"text-align: right;\">\n",
       "      <th></th>\n",
       "      <th>Coffee Name</th>\n",
       "      <th>Roaster Name</th>\n",
       "      <th>Roaster Location</th>\n",
       "      <th>Coffee Origin</th>\n",
       "      <th>Rating</th>\n",
       "      <th>Roast Level</th>\n",
       "      <th>Review Date</th>\n",
       "      <th>Price</th>\n",
       "      <th>Agtron</th>\n",
       "      <th>Flavor</th>\n",
       "      <th>...</th>\n",
       "      <th>CC_Tanzania</th>\n",
       "      <th>CC_Thailand</th>\n",
       "      <th>CC_USA</th>\n",
       "      <th>CC_Uganda</th>\n",
       "      <th>CC_United Kingdom</th>\n",
       "      <th>CC_World Blend</th>\n",
       "      <th>CC_Yemen</th>\n",
       "      <th>CC_Zambia</th>\n",
       "      <th>CC_Zimbabwe</th>\n",
       "      <th>CC_undisclosed</th>\n",
       "    </tr>\n",
       "  </thead>\n",
       "  <tbody>\n",
       "    <tr>\n",
       "      <th>0</th>\n",
       "      <td>Costa Rica Luis Campos Anaerobic</td>\n",
       "      <td>Revel Coffee</td>\n",
       "      <td>Billings, Montana</td>\n",
       "      <td>Tarrazu, Costa Rica</td>\n",
       "      <td>94</td>\n",
       "      <td>Medium-Light</td>\n",
       "      <td>April 2020</td>\n",
       "      <td>$23.00/12 ounces</td>\n",
       "      <td>58/76</td>\n",
       "      <td>9</td>\n",
       "      <td>...</td>\n",
       "      <td>0</td>\n",
       "      <td>0</td>\n",
       "      <td>0</td>\n",
       "      <td>0</td>\n",
       "      <td>0</td>\n",
       "      <td>0</td>\n",
       "      <td>0</td>\n",
       "      <td>0</td>\n",
       "      <td>0</td>\n",
       "      <td>0</td>\n",
       "    </tr>\n",
       "    <tr>\n",
       "      <th>1</th>\n",
       "      <td>Colombia Granja La Esperanza Tres Dragones</td>\n",
       "      <td>PT's Coffee Roasting Co.</td>\n",
       "      <td>Topeka, Kansas</td>\n",
       "      <td>Valle del Cauca growing region, Colombia</td>\n",
       "      <td>94</td>\n",
       "      <td>Medium-Light</td>\n",
       "      <td>April 2020</td>\n",
       "      <td>$23.50/12 ounces</td>\n",
       "      <td>60/74</td>\n",
       "      <td>9</td>\n",
       "      <td>...</td>\n",
       "      <td>0</td>\n",
       "      <td>0</td>\n",
       "      <td>0</td>\n",
       "      <td>0</td>\n",
       "      <td>0</td>\n",
       "      <td>0</td>\n",
       "      <td>0</td>\n",
       "      <td>0</td>\n",
       "      <td>0</td>\n",
       "      <td>0</td>\n",
       "    </tr>\n",
       "  </tbody>\n",
       "</table>\n",
       "<p>2 rows × 65 columns</p>\n",
       "</div>"
      ],
      "text/plain": [
       "                                  Coffee Name              Roaster Name  \\\n",
       "0            Costa Rica Luis Campos Anaerobic              Revel Coffee   \n",
       "1  Colombia Granja La Esperanza Tres Dragones  PT's Coffee Roasting Co.   \n",
       "\n",
       "    Roaster Location                             Coffee Origin  Rating  \\\n",
       "0  Billings, Montana                       Tarrazu, Costa Rica      94   \n",
       "1     Topeka, Kansas  Valle del Cauca growing region, Colombia      94   \n",
       "\n",
       "    Roast Level Review Date             Price Agtron  Flavor       ...        \\\n",
       "0  Medium-Light  April 2020  $23.00/12 ounces  58/76       9       ...         \n",
       "1  Medium-Light  April 2020  $23.50/12 ounces  60/74       9       ...         \n",
       "\n",
       "   CC_Tanzania  CC_Thailand  CC_USA  CC_Uganda CC_United Kingdom  \\\n",
       "0            0            0       0          0                 0   \n",
       "1            0            0       0          0                 0   \n",
       "\n",
       "   CC_World Blend  CC_Yemen  CC_Zambia CC_Zimbabwe  CC_undisclosed  \n",
       "0               0         0          0           0               0  \n",
       "1               0         0          0           0               0  \n",
       "\n",
       "[2 rows x 65 columns]"
      ]
     },
     "execution_count": 9,
     "metadata": {},
     "output_type": "execute_result"
    }
   ],
   "source": [
    "df = pd.concat([df, rl_dummies, country_dummies], axis=1)\n",
    "df.head(2)"
   ]
  },
  {
   "cell_type": "code",
   "execution_count": 10,
   "metadata": {},
   "outputs": [],
   "source": [
    "y = df['Great']\n",
    "X = df.drop(columns=['Coffee Name','Roaster Name','Roaster Location','Coffee Origin','Rating','Roast Level','Review Date',\n",
    "                     'Price','Agtron','Bottom Line','Agtron Whole','Great','Coffee Country'], axis=1)"
   ]
  },
  {
   "cell_type": "code",
   "execution_count": 11,
   "metadata": {},
   "outputs": [],
   "source": [
    "# 52 columns\n",
    "# X.head()"
   ]
  },
  {
   "cell_type": "markdown",
   "metadata": {},
   "source": [
    "# Standardize data"
   ]
  },
  {
   "cell_type": "code",
   "execution_count": 12,
   "metadata": {},
   "outputs": [],
   "source": [
    "scaler = StandardScaler()\n",
    "scaled_X = scaler.fit_transform(X)"
   ]
  },
  {
   "cell_type": "markdown",
   "metadata": {},
   "source": [
    "# Build MLP\n",
    "Section 45"
   ]
  },
  {
   "cell_type": "markdown",
   "metadata": {},
   "source": [
    "## First model"
   ]
  },
  {
   "cell_type": "code",
   "execution_count": 13,
   "metadata": {},
   "outputs": [],
   "source": [
    "model_1 = Sequential()\n",
    "model_1.add(Dense(5, activation='tanh', input_shape=(52,)))\n",
    "model_1.add(Dense(1, activation='sigmoid'))"
   ]
  },
  {
   "cell_type": "code",
   "execution_count": 14,
   "metadata": {},
   "outputs": [],
   "source": [
    "model_1.compile(loss='binary_crossentropy', optimizer='sgd', metrics=['accuracy'])"
   ]
  },
  {
   "cell_type": "code",
   "execution_count": 15,
   "metadata": {},
   "outputs": [
    {
     "name": "stdout",
     "output_type": "stream",
     "text": [
      "Train on 1756 samples, validate on 439 samples\n",
      "Epoch 1/25\n",
      "1756/1756 [==============================] - 3s 2ms/step - loss: 0.2541 - acc: 0.9055 - val_loss: 0.1185 - val_acc: 0.9590\n",
      "Epoch 2/25\n",
      "1756/1756 [==============================] - 3s 2ms/step - loss: 0.1064 - acc: 0.9721 - val_loss: 0.0729 - val_acc: 0.9841\n",
      "Epoch 3/25\n",
      "1756/1756 [==============================] - 3s 2ms/step - loss: 0.0685 - acc: 0.9892 - val_loss: 0.0579 - val_acc: 0.9841\n",
      "Epoch 4/25\n",
      "1756/1756 [==============================] - 3s 2ms/step - loss: 0.0486 - acc: 0.9966 - val_loss: 0.0558 - val_acc: 0.9818\n",
      "Epoch 5/25\n",
      "1756/1756 [==============================] - 2s 1ms/step - loss: 0.0381 - acc: 0.9972 - val_loss: 0.0523 - val_acc: 0.9863\n",
      "Epoch 6/25\n",
      "1756/1756 [==============================] - 2s 1ms/step - loss: 0.0303 - acc: 0.9972 - val_loss: 0.0546 - val_acc: 0.9863\n",
      "Epoch 7/25\n",
      "1756/1756 [==============================] - 3s 1ms/step - loss: 0.0251 - acc: 0.9972 - val_loss: 0.0525 - val_acc: 0.9863\n",
      "Epoch 8/25\n",
      "1756/1756 [==============================] - 3s 1ms/step - loss: 0.0212 - acc: 0.9972 - val_loss: 0.0569 - val_acc: 0.9863\n",
      "Epoch 9/25\n",
      "1756/1756 [==============================] - 3s 1ms/step - loss: 0.0188 - acc: 0.9983 - val_loss: 0.0571 - val_acc: 0.9863\n",
      "Epoch 10/25\n",
      "1756/1756 [==============================] - 2s 1ms/step - loss: 0.0164 - acc: 0.9983 - val_loss: 0.0562 - val_acc: 0.9841\n",
      "Epoch 11/25\n",
      "1756/1756 [==============================] - 3s 2ms/step - loss: 0.0149 - acc: 0.9983 - val_loss: 0.0595 - val_acc: 0.9863\n",
      "Epoch 12/25\n",
      "1756/1756 [==============================] - 3s 2ms/step - loss: 0.0138 - acc: 0.9983 - val_loss: 0.0592 - val_acc: 0.9863\n",
      "Epoch 13/25\n",
      "1756/1756 [==============================] - 2s 1ms/step - loss: 0.0126 - acc: 0.9977 - val_loss: 0.0600 - val_acc: 0.9863\n",
      "Epoch 14/25\n",
      "1756/1756 [==============================] - 2s 1ms/step - loss: 0.0113 - acc: 0.9983 - val_loss: 0.0624 - val_acc: 0.9863\n",
      "Epoch 15/25\n",
      "1756/1756 [==============================] - 2s 1ms/step - loss: 0.0114 - acc: 0.9983 - val_loss: 0.0612 - val_acc: 0.9863\n",
      "Epoch 16/25\n",
      "1756/1756 [==============================] - 2s 1ms/step - loss: 0.0103 - acc: 0.9983 - val_loss: 0.0620 - val_acc: 0.9863\n",
      "Epoch 17/25\n",
      "1756/1756 [==============================] - 3s 2ms/step - loss: 0.0100 - acc: 0.9983 - val_loss: 0.0625 - val_acc: 0.9795\n",
      "Epoch 18/25\n",
      "1756/1756 [==============================] - 3s 2ms/step - loss: 0.0096 - acc: 0.9983 - val_loss: 0.0624 - val_acc: 0.9863\n",
      "Epoch 19/25\n",
      "1756/1756 [==============================] - 3s 1ms/step - loss: 0.0088 - acc: 0.9983 - val_loss: 0.0655 - val_acc: 0.9863\n",
      "Epoch 20/25\n",
      "1756/1756 [==============================] - 2s 1ms/step - loss: 0.0083 - acc: 0.9989 - val_loss: 0.0630 - val_acc: 0.9863\n",
      "Epoch 21/25\n",
      "1756/1756 [==============================] - 2s 1ms/step - loss: 0.0085 - acc: 0.9977 - val_loss: 0.0641 - val_acc: 0.9863\n",
      "Epoch 22/25\n",
      "1756/1756 [==============================] - 2s 1ms/step - loss: 0.0076 - acc: 0.9983 - val_loss: 0.0667 - val_acc: 0.9818\n",
      "Epoch 23/25\n",
      "1756/1756 [==============================] - 2s 1ms/step - loss: 0.0076 - acc: 0.9983 - val_loss: 0.0677 - val_acc: 0.9863\n",
      "Epoch 24/25\n",
      "1756/1756 [==============================] - 3s 2ms/step - loss: 0.0071 - acc: 0.9983 - val_loss: 0.0680 - val_acc: 0.9863\n",
      "Epoch 25/25\n",
      "1756/1756 [==============================] - 3s 2ms/step - loss: 0.0069 - acc: 0.9989 - val_loss: 0.0677 - val_acc: 0.9863\n"
     ]
    }
   ],
   "source": [
    "results_1 = model_1.fit(scaled_X, y, epochs=25, batch_size=1, validation_split=0.2)"
   ]
  },
  {
   "cell_type": "code",
   "execution_count": 16,
   "metadata": {},
   "outputs": [],
   "source": [
    "def visualize_training_results(results):\n",
    "    history = results.history\n",
    "    plt.figure()\n",
    "    plt.plot(history['val_loss'])\n",
    "    plt.plot(history['loss'])\n",
    "    plt.legend(['test_loss', 'train_loss'])\n",
    "    plt.title('Loss')\n",
    "    plt.xlabel('Epochs')\n",
    "    plt.ylabel('Loss')\n",
    "    plt.show()\n",
    "    \n",
    "    plt.figure()\n",
    "    plt.plot(history['val_acc'])\n",
    "    plt.plot(history['acc'])\n",
    "    plt.legend(['test_acc', 'train_acc'])\n",
    "    plt.title('Accuracy')\n",
    "    plt.xlabel('Epochs')\n",
    "    plt.ylabel('Accuracy')\n",
    "    plt.show()"
   ]
  },
  {
   "cell_type": "code",
   "execution_count": 17,
   "metadata": {},
   "outputs": [
    {
     "data": {
      "image/png": "[encoded data removed]",
      "text/plain": [
       "<Figure size 432x288 with 1 Axes>"
      ]
     },
     "metadata": {
      "needs_background": "light"
     },
     "output_type": "display_data"
    },
    {
     "data": {
      "image/png": "[encoded data removed]",
      "text/plain": [
       "<Figure size 432x288 with 1 Axes>"
      ]
     },
     "metadata": {
      "needs_background": "light"
     },
     "output_type": "display_data"
    }
   ],
   "source": [
    "# Val_loss = validation or \"testing\"\n",
    "# loss = training loss\n",
    "# Overfitting around 3 epoch when training performance improves but testing slightly increases\n",
    "\n",
    "visualize_training_results(results_1)"
   ]
  },
  {
   "cell_type": "markdown",
   "metadata": {},
   "source": [
    "## Second model"
   ]
  },
  {
   "cell_type": "code",
   "execution_count": 18,
   "metadata": {},
   "outputs": [],
   "source": [
    "model_2 = Sequential()\n",
    "model_2.add(Dense(10, activation='tanh', input_shape=(52,)))\n",
    "model_2.add(Dense(5, activation='tanh'))\n",
    "model_2.add(Dense(1, activation='sigmoid'))"
   ]
  },
  {
   "cell_type": "code",
   "execution_count": 19,
   "metadata": {},
   "outputs": [],
   "source": [
    "model_2.compile(loss='binary_crossentropy', optimizer='sgd', metrics=['accuracy'])"
   ]
  },
  {
   "cell_type": "code",
   "execution_count": 20,
   "metadata": {},
   "outputs": [
    {
     "name": "stdout",
     "output_type": "stream",
     "text": [
      "Train on 1756 samples, validate on 439 samples\n",
      "Epoch 1/25\n",
      "1756/1756 [==============================] - 4s 2ms/step - loss: 0.3080 - acc: 0.8924 - val_loss: 0.1182 - val_acc: 0.9522\n",
      "Epoch 2/25\n",
      "1756/1756 [==============================] - 4s 3ms/step - loss: 0.1121 - acc: 0.9715 - val_loss: 0.0705 - val_acc: 0.9727\n",
      "Epoch 3/25\n",
      "1756/1756 [==============================] - 3s 2ms/step - loss: 0.0575 - acc: 0.9869 - val_loss: 0.0598 - val_acc: 0.9772\n",
      "Epoch 4/25\n",
      "1756/1756 [==============================] - 3s 2ms/step - loss: 0.0320 - acc: 0.9966 - val_loss: 0.0609 - val_acc: 0.9841\n",
      "Epoch 5/25\n",
      "1756/1756 [==============================] - 3s 2ms/step - loss: 0.0281 - acc: 0.9937 - val_loss: 0.0620 - val_acc: 0.9863\n",
      "Epoch 6/25\n",
      "1756/1756 [==============================] - 3s 2ms/step - loss: 0.0219 - acc: 0.9937 - val_loss: 0.0662 - val_acc: 0.9749\n",
      "Epoch 7/25\n",
      "1756/1756 [==============================] - 4s 2ms/step - loss: 0.0174 - acc: 0.9966 - val_loss: 0.0740 - val_acc: 0.9772\n",
      "Epoch 8/25\n",
      "1756/1756 [==============================] - 4s 3ms/step - loss: 0.0123 - acc: 0.9972 - val_loss: 0.0701 - val_acc: 0.9863\n",
      "Epoch 9/25\n",
      "1756/1756 [==============================] - 5s 3ms/step - loss: 0.0131 - acc: 0.9949 - val_loss: 0.0722 - val_acc: 0.9841\n",
      "Epoch 10/25\n",
      "1756/1756 [==============================] - 4s 2ms/step - loss: 0.0110 - acc: 0.9960 - val_loss: 0.0760 - val_acc: 0.9841\n",
      "Epoch 11/25\n",
      "1756/1756 [==============================] - 5s 3ms/step - loss: 0.0093 - acc: 0.9960 - val_loss: 0.0807 - val_acc: 0.9795\n",
      "Epoch 12/25\n",
      "1756/1756 [==============================] - 3s 2ms/step - loss: 0.0062 - acc: 0.9994 - val_loss: 0.0775 - val_acc: 0.9818\n",
      "Epoch 13/25\n",
      "1756/1756 [==============================] - 3s 2ms/step - loss: 0.0062 - acc: 0.9989 - val_loss: 0.0789 - val_acc: 0.9841\n",
      "Epoch 14/25\n",
      "1756/1756 [==============================] - 3s 2ms/step - loss: 0.0053 - acc: 0.9983 - val_loss: 0.0840 - val_acc: 0.9818\n",
      "Epoch 15/25\n",
      "1756/1756 [==============================] - 3s 1ms/step - loss: 0.0041 - acc: 0.9989 - val_loss: 0.0894 - val_acc: 0.9795\n",
      "Epoch 16/25\n",
      "1756/1756 [==============================] - 2s 1ms/step - loss: 0.0043 - acc: 0.9989 - val_loss: 0.0924 - val_acc: 0.9795\n",
      "Epoch 17/25\n",
      "1756/1756 [==============================] - 3s 2ms/step - loss: 0.0025 - acc: 1.0000 - val_loss: 0.0902 - val_acc: 0.9795\n",
      "Epoch 18/25\n",
      "1756/1756 [==============================] - 3s 1ms/step - loss: 0.0043 - acc: 0.9994 - val_loss: 0.0893 - val_acc: 0.9795\n",
      "Epoch 19/25\n",
      "1756/1756 [==============================] - 3s 2ms/step - loss: 0.0042 - acc: 0.9989 - val_loss: 0.0956 - val_acc: 0.9795\n",
      "Epoch 20/25\n",
      "1756/1756 [==============================] - 3s 2ms/step - loss: 0.0037 - acc: 0.9989 - val_loss: 0.0911 - val_acc: 0.9795\n",
      "Epoch 21/25\n",
      "1756/1756 [==============================] - 3s 2ms/step - loss: 0.0021 - acc: 1.0000 - val_loss: 0.0947 - val_acc: 0.9795\n",
      "Epoch 22/25\n",
      "1756/1756 [==============================] - 3s 2ms/step - loss: 0.0023 - acc: 0.9994 - val_loss: 0.0953 - val_acc: 0.9795\n",
      "Epoch 23/25\n",
      "1756/1756 [==============================] - 3s 2ms/step - loss: 0.0031 - acc: 0.9989 - val_loss: 0.0969 - val_acc: 0.9795\n",
      "Epoch 24/25\n",
      "1756/1756 [==============================] - 4s 2ms/step - loss: 0.0022 - acc: 0.9989 - val_loss: 0.0958 - val_acc: 0.9795\n",
      "Epoch 25/25\n",
      "1756/1756 [==============================] - 3s 2ms/step - loss: 0.0017 - acc: 0.9994 - val_loss: 0.1000 - val_acc: 0.9795\n"
     ]
    }
   ],
   "source": [
    "results_2 = model_2.fit(scaled_X, y, epochs=25, batch_size=1, validation_split=0.2)"
   ]
  },
  {
   "cell_type": "code",
   "execution_count": 21,
   "metadata": {},
   "outputs": [
    {
     "data": {
      "image/png": "[encoded data removed]",
      "text/plain": [
       "<Figure size 432x288 with 1 Axes>"
      ]
     },
     "metadata": {
      "needs_background": "light"
     },
     "output_type": "display_data"
    },
    {
     "data": {
      "image/png": "[encoded data removed]",
      "text/plain": [
       "<Figure size 432x288 with 1 Axes>"
      ]
     },
     "metadata": {
      "needs_background": "light"
     },
     "output_type": "display_data"
    }
   ],
   "source": [
    "visualize_training_results(results_2)"
   ]
  },
  {
   "cell_type": "markdown",
   "metadata": {},
   "source": [
    "## Result\n",
    "Adding another layer didn't make the model better, in fact, it seemed to overtrain it more."
   ]
  },
  {
   "cell_type": "markdown",
   "metadata": {},
   "source": [
    "## Third Model"
   ]
  },
  {
   "cell_type": "code",
   "execution_count": 30,
   "metadata": {},
   "outputs": [],
   "source": [
    "model_3 = Sequential()\n",
    "model_3.add(Dense(5, activation='tanh', input_shape=(52,)))\n",
    "model_3.add(Dense(1, activation='relu'))"
   ]
  },
  {
   "cell_type": "code",
   "execution_count": 31,
   "metadata": {},
   "outputs": [],
   "source": [
    "model_3.compile(loss='binary_crossentropy', optimizer='sgd', metrics=['accuracy'])"
   ]
  },
  {
   "cell_type": "code",
   "execution_count": 32,
   "metadata": {},
   "outputs": [
    {
     "name": "stdout",
     "output_type": "stream",
     "text": [
      "Train on 1756 samples, validate on 439 samples\n",
      "Epoch 1/25\n",
      "1756/1756 [==============================] - 3s 2ms/step - loss: 1.7029 - acc: 0.8759 - val_loss: 0.9913 - val_acc: 0.9385\n",
      "Epoch 2/25\n",
      "1756/1756 [==============================] - 3s 2ms/step - loss: 1.7899 - acc: 0.8890 - val_loss: 0.9913 - val_acc: 0.9385\n",
      "Epoch 3/25\n",
      "1756/1756 [==============================] - 3s 2ms/step - loss: 1.7899 - acc: 0.8890 - val_loss: 0.9913 - val_acc: 0.9385\n",
      "Epoch 4/25\n",
      "1756/1756 [==============================] - 3s 2ms/step - loss: 1.7899 - acc: 0.8890 - val_loss: 0.9913 - val_acc: 0.9385\n",
      "Epoch 5/25\n",
      "1756/1756 [==============================] - 3s 2ms/step - loss: 1.7899 - acc: 0.8890 - val_loss: 0.9913 - val_acc: 0.9385\n",
      "Epoch 6/25\n",
      "1756/1756 [==============================] - 3s 2ms/step - loss: 1.7899 - acc: 0.8890 - val_loss: 0.9913 - val_acc: 0.9385\n",
      "Epoch 7/25\n",
      "1756/1756 [==============================] - 3s 2ms/step - loss: 1.7899 - acc: 0.8890 - val_loss: 0.9913 - val_acc: 0.9385\n",
      "Epoch 8/25\n",
      "1756/1756 [==============================] - 3s 2ms/step - loss: 1.7899 - acc: 0.8890 - val_loss: 0.9913 - val_acc: 0.9385\n",
      "Epoch 9/25\n",
      "1756/1756 [==============================] - 4s 2ms/step - loss: 1.7899 - acc: 0.8890 - val_loss: 0.9913 - val_acc: 0.9385\n",
      "Epoch 10/25\n",
      "1756/1756 [==============================] - 3s 2ms/step - loss: 1.7899 - acc: 0.8890 - val_loss: 0.9913 - val_acc: 0.9385\n",
      "Epoch 11/25\n",
      "1756/1756 [==============================] - 5s 3ms/step - loss: 1.7899 - acc: 0.8890 - val_loss: 0.9913 - val_acc: 0.9385\n",
      "Epoch 12/25\n",
      "1756/1756 [==============================] - 4s 2ms/step - loss: 1.7899 - acc: 0.8890 - val_loss: 0.9913 - val_acc: 0.9385\n",
      "Epoch 13/25\n",
      "1756/1756 [==============================] - 4s 2ms/step - loss: 1.7899 - acc: 0.8890 - val_loss: 0.9913 - val_acc: 0.9385\n",
      "Epoch 14/25\n",
      "1756/1756 [==============================] - 3s 2ms/step - loss: 1.7899 - acc: 0.8890 - val_loss: 0.9913 - val_acc: 0.9385\n",
      "Epoch 15/25\n",
      "1756/1756 [==============================] - 3s 2ms/step - loss: 1.7899 - acc: 0.8890 - val_loss: 0.9913 - val_acc: 0.9385\n",
      "Epoch 16/25\n",
      "1756/1756 [==============================] - 3s 2ms/step - loss: 1.7899 - acc: 0.8890 - val_loss: 0.9913 - val_acc: 0.9385\n",
      "Epoch 17/25\n",
      "1756/1756 [==============================] - 3s 2ms/step - loss: 1.7899 - acc: 0.8890 - val_loss: 0.9913 - val_acc: 0.9385\n",
      "Epoch 18/25\n",
      "1756/1756 [==============================] - 4s 3ms/step - loss: 1.7899 - acc: 0.8890 - val_loss: 0.9913 - val_acc: 0.9385\n",
      "Epoch 19/25\n",
      "1756/1756 [==============================] - 5s 3ms/step - loss: 1.7899 - acc: 0.8890 - val_loss: 0.9913 - val_acc: 0.9385\n",
      "Epoch 20/25\n",
      "1756/1756 [==============================] - 4s 2ms/step - loss: 1.7899 - acc: 0.8890 - val_loss: 0.9913 - val_acc: 0.9385\n",
      "Epoch 21/25\n",
      "1756/1756 [==============================] - 3s 2ms/step - loss: 1.7899 - acc: 0.8890 - val_loss: 0.9913 - val_acc: 0.9385\n",
      "Epoch 22/25\n",
      "1756/1756 [==============================] - 4s 2ms/step - loss: 1.7899 - acc: 0.8890 - val_loss: 0.9913 - val_acc: 0.9385\n",
      "Epoch 23/25\n",
      "1756/1756 [==============================] - 4s 2ms/step - loss: 1.7899 - acc: 0.8890 - val_loss: 0.9913 - val_acc: 0.9385\n",
      "Epoch 24/25\n",
      "1756/1756 [==============================] - 4s 2ms/step - loss: 1.7899 - acc: 0.8890 - val_loss: 0.9913 - val_acc: 0.9385\n",
      "Epoch 25/25\n",
      "1756/1756 [==============================] - 3s 2ms/step - loss: 1.7899 - acc: 0.8890 - val_loss: 0.9913 - val_acc: 0.9385\n"
     ]
    }
   ],
   "source": [
    "results_3 = model_3.fit(scaled_X, y, epochs=25, batch_size=1, validation_split=0.2)"
   ]
  },
  {
   "cell_type": "code",
   "execution_count": 33,
   "metadata": {},
   "outputs": [
    {
     "data": {
      "image/png": "[encoded data removed]",
      "text/plain": [
       "<Figure size 432x288 with 1 Axes>"
      ]
     },
     "metadata": {
      "needs_background": "light"
     },
     "output_type": "display_data"
    },
    {
     "data": {
      "image/png": "[encoded data removed]",
      "text/plain": [
       "<Figure size 432x288 with 1 Axes>"
      ]
     },
     "metadata": {
      "needs_background": "light"
     },
     "output_type": "display_data"
    }
   ],
   "source": [
    "visualize_training_results(results_3)"
   ]
  },
  {
   "cell_type": "markdown",
   "metadata": {},
   "source": [
    "## Fourth model:  unscaled data"
   ]
  },
  {
   "cell_type": "code",
   "execution_count": 25,
   "metadata": {},
   "outputs": [],
   "source": [
    "model_4 = Sequential()\n",
    "model_4.add(Dense(5, activation='tanh', input_shape=(52,)))\n",
    "model_4.add(Dense(1, activation='sigmoid'))"
   ]
  },
  {
   "cell_type": "code",
   "execution_count": 26,
   "metadata": {},
   "outputs": [],
   "source": [
    "model_4.compile(loss='binary_crossentropy', optimizer='sgd', metrics=['accuracy'])"
   ]
  },
  {
   "cell_type": "code",
   "execution_count": 27,
   "metadata": {},
   "outputs": [
    {
     "name": "stdout",
     "output_type": "stream",
     "text": [
      "Train on 1756 samples, validate on 439 samples\n",
      "Epoch 1/25\n",
      "1756/1756 [==============================] - 3s 2ms/step - loss: 0.3650 - acc: 0.8798 - val_loss: 0.2493 - val_acc: 0.9385\n",
      "Epoch 2/25\n",
      "1756/1756 [==============================] - 3s 1ms/step - loss: 0.3510 - acc: 0.8890 - val_loss: 0.2440 - val_acc: 0.9385\n",
      "Epoch 3/25\n",
      "1756/1756 [==============================] - 3s 1ms/step - loss: 0.3503 - acc: 0.8890 - val_loss: 0.2529 - val_acc: 0.9385\n",
      "Epoch 4/25\n",
      "1756/1756 [==============================] - 2s 1ms/step - loss: 0.3507 - acc: 0.8890 - val_loss: 0.2397 - val_acc: 0.9385\n",
      "Epoch 5/25\n",
      "1756/1756 [==============================] - 2s 1ms/step - loss: 0.3502 - acc: 0.8890 - val_loss: 0.2358 - val_acc: 0.9385\n",
      "Epoch 6/25\n",
      "1756/1756 [==============================] - 3s 1ms/step - loss: 0.3510 - acc: 0.8890 - val_loss: 0.2464 - val_acc: 0.9385\n",
      "Epoch 7/25\n",
      "1756/1756 [==============================] - 2s 1ms/step - loss: 0.3507 - acc: 0.8890 - val_loss: 0.2365 - val_acc: 0.9385\n",
      "Epoch 8/25\n",
      "1756/1756 [==============================] - 2s 1ms/step - loss: 0.3506 - acc: 0.8890 - val_loss: 0.2455 - val_acc: 0.9385\n",
      "Epoch 9/25\n",
      "1756/1756 [==============================] - 2s 1ms/step - loss: 0.3503 - acc: 0.8890 - val_loss: 0.2405 - val_acc: 0.9385\n",
      "Epoch 10/25\n",
      "1756/1756 [==============================] - 2s 1ms/step - loss: 0.3495 - acc: 0.8890 - val_loss: 0.2363 - val_acc: 0.9385\n",
      "Epoch 11/25\n",
      "1756/1756 [==============================] - 2s 1ms/step - loss: 0.3507 - acc: 0.8890 - val_loss: 0.2415 - val_acc: 0.9385\n",
      "Epoch 12/25\n",
      "1756/1756 [==============================] - 2s 1ms/step - loss: 0.3501 - acc: 0.8890 - val_loss: 0.2368 - val_acc: 0.9385\n",
      "Epoch 13/25\n",
      "1756/1756 [==============================] - 2s 1ms/step - loss: 0.3506 - acc: 0.8890 - val_loss: 0.2412 - val_acc: 0.9385\n",
      "Epoch 14/25\n",
      "1756/1756 [==============================] - 2s 1ms/step - loss: 0.3509 - acc: 0.8890 - val_loss: 0.2419 - val_acc: 0.9385\n",
      "Epoch 15/25\n",
      "1756/1756 [==============================] - 2s 1ms/step - loss: 0.3499 - acc: 0.8890 - val_loss: 0.2634 - val_acc: 0.9385\n",
      "Epoch 16/25\n",
      "1756/1756 [==============================] - 3s 1ms/step - loss: 0.3493 - acc: 0.8890 - val_loss: 0.2548 - val_acc: 0.9385\n",
      "Epoch 17/25\n",
      "1756/1756 [==============================] - 3s 1ms/step - loss: 0.3505 - acc: 0.8890 - val_loss: 0.2388 - val_acc: 0.9385\n",
      "Epoch 18/25\n",
      "1756/1756 [==============================] - 2s 1ms/step - loss: 0.3500 - acc: 0.8890 - val_loss: 0.2628 - val_acc: 0.9385\n",
      "Epoch 19/25\n",
      "1756/1756 [==============================] - 2s 1ms/step - loss: 0.3490 - acc: 0.8890 - val_loss: 0.2578 - val_acc: 0.9385 0.3446 - ac\n",
      "Epoch 20/25\n",
      "1756/1756 [==============================] - 2s 1ms/step - loss: 0.3503 - acc: 0.8890 - val_loss: 0.2706 - val_acc: 0.9385\n",
      "Epoch 21/25\n",
      "1756/1756 [==============================] - 2s 1ms/step - loss: 0.3515 - acc: 0.8890 - val_loss: 0.2432 - val_acc: 0.9385\n",
      "Epoch 22/25\n",
      "1756/1756 [==============================] - 3s 2ms/step - loss: 0.3501 - acc: 0.8890 - val_loss: 0.2403 - val_acc: 0.9385\n",
      "Epoch 23/25\n",
      "1756/1756 [==============================] - 4s 2ms/step - loss: 0.3496 - acc: 0.8890 - val_loss: 0.2676 - val_acc: 0.9385\n",
      "Epoch 24/25\n",
      "1756/1756 [==============================] - 3s 2ms/step - loss: 0.3506 - acc: 0.8890 - val_loss: 0.2496 - val_acc: 0.9385\n",
      "Epoch 25/25\n",
      "1756/1756 [==============================] - 3s 2ms/step - loss: 0.3510 - acc: 0.8890 - val_loss: 0.2461 - val_acc: 0.9385\n"
     ]
    }
   ],
   "source": [
    "results_4 = model_4.fit(X, y, epochs=25, batch_size=1, validation_split=0.2)"
   ]
  },
  {
   "cell_type": "code",
   "execution_count": 28,
   "metadata": {},
   "outputs": [
    {
     "data": {
      "image/png": "[encoded data removed]",
      "text/plain": [
       "<Figure size 432x288 with 1 Axes>"
      ]
     },
     "metadata": {
      "needs_background": "light"
     },
     "output_type": "display_data"
    },
    {
     "data": {
      "image/png": "[encoded data removed]",
      "text/plain": [
       "<Figure size 432x288 with 1 Axes>"
      ]
     },
     "metadata": {
      "needs_background": "light"
     },
     "output_type": "display_data"
    }
   ],
   "source": [
    "visualize_training_results(results_4)"
   ]
  },
  {
   "cell_type": "code",
   "execution_count": null,
   "metadata": {},
   "outputs": [],
   "source": []
  }
 ],
 "metadata": {
  "kernelspec": {
   "display_name": "Python [conda env:learn-env] *",
   "language": "python",
   "name": "conda-env-learn-env-py"
  },
  "language_info": {
   "codemirror_mode": {
    "name": "ipython",
    "version": 3
   },
   "file_extension": ".py",
   "mimetype": "text/x-python",
   "name": "python",
   "nbconvert_exporter": "python",
   "pygments_lexer": "ipython3",
   "version": "3.6.6"
  },
  "toc": {
   "base_numbering": 1,
   "nav_menu": {},
   "number_sections": true,
   "sideBar": true,
   "skip_h1_title": false,
   "title_cell": "Table of Contents",
   "title_sidebar": "Contents",
   "toc_cell": true,
   "toc_position": {},
   "toc_section_display": true,
   "toc_window_display": false
  },
  "varInspector": {
   "cols": {
    "lenName": 16,
    "lenType": 16,
    "lenVar": 40
   },
   "kernels_config": {
    "python": {
     "delete_cmd_postfix": "",
     "delete_cmd_prefix": "del ",
     "library": "var_list.py",
     "varRefreshCmd": "print(var_dic_list())"
    },
    "r": {
     "delete_cmd_postfix": ") ",
     "delete_cmd_prefix": "rm(",
     "library": "var_list.r",
     "varRefreshCmd": "cat(var_dic_list()) "
    }
   },
   "types_to_exclude": [
    "module",
    "function",
    "builtin_function_or_method",
    "instance",
    "_Feature"
   ],
   "window_display": false
  }
 },
 "nbformat": 4,
 "nbformat_minor": 2
}
