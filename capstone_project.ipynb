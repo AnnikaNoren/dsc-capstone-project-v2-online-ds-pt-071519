{
 "cells": [
  {
   "cell_type": "markdown",
   "metadata": {
    "toc": true
   },
   "source": [
    "<h1>Table of Contents<span class=\"tocSkip\"></span></h1>\n",
    "<div class=\"toc\"><ul class=\"toc-item\"><li><span><a href=\"#Import-Libraries\" data-toc-modified-id=\"Import-Libraries-1\"><span class=\"toc-item-num\">1&nbsp;&nbsp;</span>Import Libraries</a></span></li><li><span><a href=\"#Import-scraped-data\" data-toc-modified-id=\"Import-scraped-data-2\"><span class=\"toc-item-num\">2&nbsp;&nbsp;</span>Import scraped data</a></span></li><li><span><a href=\"#Things-To-Do\" data-toc-modified-id=\"Things-To-Do-3\"><span class=\"toc-item-num\">3&nbsp;&nbsp;</span>Things To Do</a></span></li></ul></div>"
   ]
  },
  {
   "cell_type": "markdown",
   "metadata": {},
   "source": [
    "# Import Libraries"
   ]
  },
  {
   "cell_type": "code",
   "execution_count": 2,
   "metadata": {},
   "outputs": [],
   "source": [
    "import numpy as np \n",
    "import pandas as pd\n",
    "\n",
    "import seaborn as sns\n",
    "from matplotlib import pyplot as plt\n",
    "from matplotlib.pylab import rcParams\n",
    "\n",
    "plt.style.use('ggplot')\n",
    "%matplotlib inline\n",
    "\n",
    "import warnings\n",
    "warnings.filterwarnings('ignore')\n",
    "\n",
    "from sklearn.linear_model import LogisticRegression\n",
    "from sklearn.model_selection import train_test_split\n",
    "from sklearn.preprocessing import StandardScaler\n",
    "\n",
    "import itertools\n",
    "import statsmodels.api as sm\n",
    "import operator\n",
    "\n",
    "from sklearn.metrics import precision_score, recall_score, accuracy_score, f1_score\n",
    "from sklearn.metrics import confusion_matrix, classification_report\n",
    "from sklearn.tree import DecisionTreeClassifier\n",
    "from sklearn.ensemble import BaggingClassifier, RandomForestClassifier\n",
    "from sklearn.model_selection import GridSearchCV\n",
    "from sklearn.neighbors import KNeighborsClassifier\n",
    "from sklearn.svm import SVC\n",
    "\n",
    "from xgboost import XGBClassifier\n",
    "import xgboost as xgb\n",
    "from xgboost import plot_importance\n",
    "\n",
    "from sklearn.decomposition import PCA\n",
    "from sklearn.metrics import confusion_matrix\n",
    "\n",
    "import time\n",
    "\n",
    "from bs4 import BeautifulSoup\n",
    "import requests\n",
    "import urllib.request\n",
    "from urllib.request import Request, urlopen"
   ]
  },
  {
   "cell_type": "markdown",
   "metadata": {},
   "source": [
    "# Import scraped data"
   ]
  },
  {
   "cell_type": "code",
   "execution_count": 3,
   "metadata": {},
   "outputs": [],
   "source": [
    "df = pd.read_csv('AN_coffee_reviews.csv')"
   ]
  },
  {
   "cell_type": "code",
   "execution_count": 4,
   "metadata": {},
   "outputs": [
    {
     "data": {
      "text/html": [
       "<div>\n",
       "<style scoped>\n",
       "    .dataframe tbody tr th:only-of-type {\n",
       "        vertical-align: middle;\n",
       "    }\n",
       "\n",
       "    .dataframe tbody tr th {\n",
       "        vertical-align: top;\n",
       "    }\n",
       "\n",
       "    .dataframe thead th {\n",
       "        text-align: right;\n",
       "    }\n",
       "</style>\n",
       "<table border=\"1\" class=\"dataframe\">\n",
       "  <thead>\n",
       "    <tr style=\"text-align: right;\">\n",
       "      <th></th>\n",
       "      <th>Unnamed: 0</th>\n",
       "      <th>Acidity</th>\n",
       "      <th>Acidity /Structure</th>\n",
       "      <th>Aftertaste</th>\n",
       "      <th>Agtron</th>\n",
       "      <th>Aroma</th>\n",
       "      <th>Body</th>\n",
       "      <th>Coffee Origin</th>\n",
       "      <th>Est. Price</th>\n",
       "      <th>Flavor</th>\n",
       "      <th>Review Date</th>\n",
       "      <th>Roast Level</th>\n",
       "      <th>Roaster Location</th>\n",
       "      <th>With Milk</th>\n",
       "      <th>bottom_line</th>\n",
       "      <th>rating</th>\n",
       "      <th>roaster</th>\n",
       "      <th>title</th>\n",
       "    </tr>\n",
       "  </thead>\n",
       "  <tbody>\n",
       "    <tr>\n",
       "      <th>0</th>\n",
       "      <td>0</td>\n",
       "      <td>NaN</td>\n",
       "      <td>9.0</td>\n",
       "      <td>8.0</td>\n",
       "      <td>58/76</td>\n",
       "      <td>9</td>\n",
       "      <td>9</td>\n",
       "      <td>Tarrazu, Costa Rica</td>\n",
       "      <td>$23.00/12 ounces</td>\n",
       "      <td>9</td>\n",
       "      <td>April 2020</td>\n",
       "      <td>Medium-Light</td>\n",
       "      <td>Billings, Montana</td>\n",
       "      <td>NaN</td>\n",
       "      <td>Enjoying this Costa Rica evokes the pleasures ...</td>\n",
       "      <td>94</td>\n",
       "      <td>Revel Coffee</td>\n",
       "      <td>Costa Rica Luis Campos Anaerobic</td>\n",
       "    </tr>\n",
       "    <tr>\n",
       "      <th>1</th>\n",
       "      <td>1</td>\n",
       "      <td>NaN</td>\n",
       "      <td>9.0</td>\n",
       "      <td>8.0</td>\n",
       "      <td>60/74</td>\n",
       "      <td>9</td>\n",
       "      <td>9</td>\n",
       "      <td>Valle del Cauca growing region, Colombia</td>\n",
       "      <td>$23.50/12 ounces</td>\n",
       "      <td>9</td>\n",
       "      <td>April 2020</td>\n",
       "      <td>Medium-Light</td>\n",
       "      <td>Topeka, Kansas</td>\n",
       "      <td>NaN</td>\n",
       "      <td>A bombshell of a coffee with enough personalit...</td>\n",
       "      <td>94</td>\n",
       "      <td>PT's Coffee Roasting Co.</td>\n",
       "      <td>Colombia Granja La Esperanza Tres Dragones</td>\n",
       "    </tr>\n",
       "    <tr>\n",
       "      <th>2</th>\n",
       "      <td>2</td>\n",
       "      <td>NaN</td>\n",
       "      <td>8.0</td>\n",
       "      <td>8.0</td>\n",
       "      <td>50/70</td>\n",
       "      <td>9</td>\n",
       "      <td>8</td>\n",
       "      <td>Nyeri growing region, south-central Kenya</td>\n",
       "      <td>NT $530/200 grams</td>\n",
       "      <td>9</td>\n",
       "      <td>April 2020</td>\n",
       "      <td>Medium</td>\n",
       "      <td>Taipei, Taiwan</td>\n",
       "      <td>NaN</td>\n",
       "      <td>A developed medium roast emphasizes this Kenya...</td>\n",
       "      <td>92</td>\n",
       "      <td>Quartet Kaffe</td>\n",
       "      <td>Kenya Thageini</td>\n",
       "    </tr>\n",
       "    <tr>\n",
       "      <th>3</th>\n",
       "      <td>3</td>\n",
       "      <td>NaN</td>\n",
       "      <td>9.0</td>\n",
       "      <td>8.0</td>\n",
       "      <td>58/76</td>\n",
       "      <td>9</td>\n",
       "      <td>9</td>\n",
       "      <td>Huila, Colombia</td>\n",
       "      <td>$16.50/12 ounces</td>\n",
       "      <td>9</td>\n",
       "      <td>March 2020</td>\n",
       "      <td>Medium-Light</td>\n",
       "      <td>Jackson, Mississippi</td>\n",
       "      <td>NaN</td>\n",
       "      <td>An exceptional Colombia cup with sweet and tar...</td>\n",
       "      <td>94</td>\n",
       "      <td>BeanFruit Coffee Co.</td>\n",
       "      <td>Colombia Finca La Loma Microlot</td>\n",
       "    </tr>\n",
       "    <tr>\n",
       "      <th>4</th>\n",
       "      <td>4</td>\n",
       "      <td>NaN</td>\n",
       "      <td>NaN</td>\n",
       "      <td>7.0</td>\n",
       "      <td>56/67</td>\n",
       "      <td>7</td>\n",
       "      <td>8</td>\n",
       "      <td>Sumatra</td>\n",
       "      <td>$12.36/12 ounces</td>\n",
       "      <td>8</td>\n",
       "      <td>March 2020</td>\n",
       "      <td>Medium-Light</td>\n",
       "      <td>Telluride, Colorado</td>\n",
       "      <td>8</td>\n",
       "      <td>The sweet, fruit-on-the-edge of decay characte...</td>\n",
       "      <td>88</td>\n",
       "      <td>Telluride Coffee Roasters</td>\n",
       "      <td>Aged Sumatra Espresso</td>\n",
       "    </tr>\n",
       "  </tbody>\n",
       "</table>\n",
       "</div>"
      ],
      "text/plain": [
       "   Unnamed: 0 Acidity   Acidity /Structure   Aftertaste Agtron Aroma Body  \\\n",
       "0           0      NaN                  9.0         8.0  58/76     9    9   \n",
       "1           1      NaN                  9.0         8.0  60/74     9    9   \n",
       "2           2      NaN                  8.0         8.0  50/70     9    8   \n",
       "3           3      NaN                  9.0         8.0  58/76     9    9   \n",
       "4           4      NaN                  NaN         7.0  56/67     7    8   \n",
       "\n",
       "                               Coffee Origin         Est. Price Flavor  \\\n",
       "0                        Tarrazu, Costa Rica   $23.00/12 ounces      9   \n",
       "1   Valle del Cauca growing region, Colombia   $23.50/12 ounces      9   \n",
       "2  Nyeri growing region, south-central Kenya  NT $530/200 grams      9   \n",
       "3                            Huila, Colombia   $16.50/12 ounces      9   \n",
       "4                                    Sumatra   $12.36/12 ounces      8   \n",
       "\n",
       "  Review Date   Roast Level      Roaster Location With Milk  \\\n",
       "0  April 2020  Medium-Light     Billings, Montana       NaN   \n",
       "1  April 2020  Medium-Light        Topeka, Kansas       NaN   \n",
       "2  April 2020        Medium        Taipei, Taiwan       NaN   \n",
       "3  March 2020  Medium-Light  Jackson, Mississippi       NaN   \n",
       "4  March 2020  Medium-Light   Telluride, Colorado         8   \n",
       "\n",
       "                                         bottom_line rating  \\\n",
       "0  Enjoying this Costa Rica evokes the pleasures ...     94   \n",
       "1  A bombshell of a coffee with enough personalit...     94   \n",
       "2  A developed medium roast emphasizes this Kenya...     92   \n",
       "3  An exceptional Colombia cup with sweet and tar...     94   \n",
       "4  The sweet, fruit-on-the-edge of decay characte...     88   \n",
       "\n",
       "                     roaster                                       title  \n",
       "0               Revel Coffee            Costa Rica Luis Campos Anaerobic  \n",
       "1   PT's Coffee Roasting Co.  Colombia Granja La Esperanza Tres Dragones  \n",
       "2              Quartet Kaffe                              Kenya Thageini  \n",
       "3       BeanFruit Coffee Co.             Colombia Finca La Loma Microlot  \n",
       "4  Telluride Coffee Roasters                       Aged Sumatra Espresso  "
      ]
     },
     "execution_count": 4,
     "metadata": {},
     "output_type": "execute_result"
    }
   ],
   "source": [
    "df.head()"
   ]
  },
  {
   "cell_type": "markdown",
   "metadata": {},
   "source": [
    "# Things To Do"
   ]
  },
  {
   "cell_type": "code",
   "execution_count": 5,
   "metadata": {},
   "outputs": [],
   "source": [
    "# redo proposal\n",
    "# set index\n",
    "# fix columns (reorder,drop)\n",
    "# fix data types \n",
    "# fix pricing (first set null values to 0, )\n",
    "# check for missing data / nulls\n",
    "# potentially change some column names\n",
    "# visualizations"
   ]
  },
  {
   "cell_type": "code",
   "execution_count": 6,
   "metadata": {},
   "outputs": [],
   "source": [
    "# df = pd.DataFrame(coffees1)\n",
    "# df = df.drop(['With Milk'], axis=1)\n",
    "# df = df[['title','roaster','Roaster Location','Coffee Origin','rating','Roast Level','Review Date','Est. Price',\n",
    "#          'Agtron','Flavor','Body','Aroma','Aftertaste','Acidity /Structure', 'Acidity ','With Milk']]"
   ]
  },
  {
   "cell_type": "code",
   "execution_count": 7,
   "metadata": {},
   "outputs": [],
   "source": [
    "#df[df['Est. Price'].isnull()]"
   ]
  },
  {
   "cell_type": "code",
   "execution_count": null,
   "metadata": {},
   "outputs": [],
   "source": []
  }
 ],
 "metadata": {
  "kernelspec": {
   "display_name": "Python [conda env:learn-env] *",
   "language": "python",
   "name": "conda-env-learn-env-py"
  },
  "language_info": {
   "codemirror_mode": {
    "name": "ipython",
    "version": 3
   },
   "file_extension": ".py",
   "mimetype": "text/x-python",
   "name": "python",
   "nbconvert_exporter": "python",
   "pygments_lexer": "ipython3",
   "version": "3.6.6"
  },
  "toc": {
   "base_numbering": 1,
   "nav_menu": {},
   "number_sections": true,
   "sideBar": true,
   "skip_h1_title": false,
   "title_cell": "Table of Contents",
   "title_sidebar": "Contents",
   "toc_cell": true,
   "toc_position": {},
   "toc_section_display": true,
   "toc_window_display": false
  },
  "varInspector": {
   "cols": {
    "lenName": 16,
    "lenType": 16,
    "lenVar": 40
   },
   "kernels_config": {
    "python": {
     "delete_cmd_postfix": "",
     "delete_cmd_prefix": "del ",
     "library": "var_list.py",
     "varRefreshCmd": "print(var_dic_list())"
    },
    "r": {
     "delete_cmd_postfix": ") ",
     "delete_cmd_prefix": "rm(",
     "library": "var_list.r",
     "varRefreshCmd": "cat(var_dic_list()) "
    }
   },
   "types_to_exclude": [
    "module",
    "function",
    "builtin_function_or_method",
    "instance",
    "_Feature"
   ],
   "window_display": false
  }
 },
 "nbformat": 4,
 "nbformat_minor": 2
}
