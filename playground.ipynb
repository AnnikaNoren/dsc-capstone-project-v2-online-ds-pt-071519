{
 "cells": [
  {
   "cell_type": "markdown",
   "metadata": {
    "toc": true
   },
   "source": [
    "<h1>Table of Contents<span class=\"tocSkip\"></span></h1>\n",
    "<div class=\"toc\"><ul class=\"toc-item\"><li><span><a href=\"#Libraries\" data-toc-modified-id=\"Libraries-1\"><span class=\"toc-item-num\">1&nbsp;&nbsp;</span>Libraries</a></span></li><li><span><a href=\"#Kaggle-dataset\" data-toc-modified-id=\"Kaggle-dataset-2\"><span class=\"toc-item-num\">2&nbsp;&nbsp;</span>Kaggle dataset</a></span></li><li><span><a href=\"#Practice-using-Beautiful-Soup-on-NYC-Turnstile-website\" data-toc-modified-id=\"Practice-using-Beautiful-Soup-on-NYC-Turnstile-website-3\"><span class=\"toc-item-num\">3&nbsp;&nbsp;</span>Practice using Beautiful Soup on NYC Turnstile website</a></span></li><li><span><a href=\"#My-attempts-at-CoffeeReview\" data-toc-modified-id=\"My-attempts-at-CoffeeReview-4\"><span class=\"toc-item-num\">4&nbsp;&nbsp;</span>My attempts at CoffeeReview</a></span><ul class=\"toc-item\"><li><span><a href=\"#Work-around-code-403\" data-toc-modified-id=\"Work-around-code-403-4.1\"><span class=\"toc-item-num\">4.1&nbsp;&nbsp;</span>Work around code 403</a></span></li><li><span><a href=\"#Working-on-Price\" data-toc-modified-id=\"Working-on-Price-4.2\"><span class=\"toc-item-num\">4.2&nbsp;&nbsp;</span>Working on Price</a></span></li><li><span><a href=\"#Create-an-empty-dataframe\" data-toc-modified-id=\"Create-an-empty-dataframe-4.3\"><span class=\"toc-item-num\">4.3&nbsp;&nbsp;</span>Create an empty dataframe</a></span></li></ul></li><li><span><a href=\"#Extract-every-name\" data-toc-modified-id=\"Extract-every-name-5\"><span class=\"toc-item-num\">5&nbsp;&nbsp;</span>Extract every name</a></span></li></ul></div>"
   ]
  },
  {
   "cell_type": "markdown",
   "metadata": {},
   "source": [
    "## Libraries"
   ]
  },
  {
   "cell_type": "code",
   "execution_count": 1,
   "metadata": {},
   "outputs": [],
   "source": [
    "import numpy as np \n",
    "import pandas as pd\n",
    "\n",
    "import seaborn as sns\n",
    "from matplotlib import pyplot as plt\n",
    "from matplotlib.pylab import rcParams\n",
    "\n",
    "plt.style.use('ggplot')\n",
    "%matplotlib inline\n",
    "\n",
    "import warnings\n",
    "warnings.filterwarnings('ignore')\n",
    "\n",
    "from sklearn.linear_model import LogisticRegression\n",
    "from sklearn.model_selection import train_test_split\n",
    "from sklearn.preprocessing import StandardScaler\n",
    "\n",
    "import itertools\n",
    "import statsmodels.api as sm\n",
    "import operator\n",
    "\n",
    "from sklearn.metrics import precision_score, recall_score, accuracy_score, f1_score\n",
    "from sklearn.metrics import confusion_matrix, classification_report\n",
    "from sklearn.tree import DecisionTreeClassifier\n",
    "from sklearn.ensemble import BaggingClassifier, RandomForestClassifier\n",
    "from sklearn.model_selection import GridSearchCV\n",
    "from sklearn.neighbors import KNeighborsClassifier\n",
    "from sklearn.svm import SVC\n",
    "\n",
    "from xgboost import XGBClassifier\n",
    "import xgboost as xgb\n",
    "from xgboost import plot_importance\n",
    "\n",
    "from sklearn.decomposition import PCA\n",
    "from sklearn.metrics import confusion_matrix\n",
    "\n",
    "import time\n",
    "\n",
    "from selenium import webdriver\n",
    "from bs4 import BeautifulSoup\n",
    "# from BeautifulSoup import BeautifulSoup\n",
    "import pandas as pd\n",
    "import requests\n",
    "import urllib.request\n",
    "from urllib.request import Request, urlopen"
   ]
  },
  {
   "cell_type": "markdown",
   "metadata": {},
   "source": [
    "## Kaggle dataset \n",
    "Found on Reddit and then it was migrated to Kaggle\n",
    "https://www.reddit.com/r/datasets/comments/8rndor/data_on_1340_coffee_bean_reviews_aroma_acidity/\n",
    "And his github: https://github.com/jldbc/coffee-quality-database\n",
    "This dataset has 1340 reviews with 44 columns\n",
    "\n",
    "A second coffee dataset was found on Toward Data Science by Yoni Levine, \"The Tale of Coffee Snobery and ML\". (https://towardsdatascience.com/https-medium-com-yoni-levine-coffee-snobbery-45ed534136e5) It is a well written article and easy to understand.  Yoni's github is: https://github.com/yonilevine/profile/blob/master/coffee/coffeeeda.ipynb\n",
    "He scraped from MistoBox Subscription site and has 500 reviews.  He used some NLP in his analysis and worked to answer the question, Can any of these features help predict which coffees woudl recieve a five-star rating - or are peoples' tastes too varied to nail down a winner?"
   ]
  },
  {
   "cell_type": "code",
   "execution_count": null,
   "metadata": {},
   "outputs": [],
   "source": [
    "# df = pd.read_csv(\"coffee-modified.csv\")"
   ]
  },
  {
   "cell_type": "code",
   "execution_count": null,
   "metadata": {},
   "outputs": [],
   "source": [
    "# df.info()"
   ]
  },
  {
   "cell_type": "code",
   "execution_count": null,
   "metadata": {},
   "outputs": [],
   "source": [
    "# df['Country.of.Origin'].nunique()"
   ]
  },
  {
   "cell_type": "code",
   "execution_count": null,
   "metadata": {},
   "outputs": [],
   "source": [
    "# df.head()"
   ]
  },
  {
   "cell_type": "markdown",
   "metadata": {},
   "source": [
    "## Practice using Beautiful Soup on NYC Turnstile website"
   ]
  },
  {
   "cell_type": "code",
   "execution_count": 2,
   "metadata": {},
   "outputs": [],
   "source": [
    "url = 'http://web.mta.info/developers/turnstile.html'\n",
    "response = requests.get(url)"
   ]
  },
  {
   "cell_type": "code",
   "execution_count": 3,
   "metadata": {},
   "outputs": [
    {
     "data": {
      "text/plain": [
       "<Response [200]>"
      ]
     },
     "execution_count": 3,
     "metadata": {},
     "output_type": "execute_result"
    }
   ],
   "source": [
    "response"
   ]
  },
  {
   "cell_type": "code",
   "execution_count": 8,
   "metadata": {},
   "outputs": [],
   "source": [
    "#response.content"
   ]
  },
  {
   "cell_type": "code",
   "execution_count": 9,
   "metadata": {},
   "outputs": [],
   "source": [
    "soup = BeautifulSoup(response.text,'html.parser')"
   ]
  },
  {
   "cell_type": "code",
   "execution_count": 10,
   "metadata": {},
   "outputs": [
    {
     "data": {
      "text/plain": [
       "[<a href=\"#main-content\">Skip to main content</a>,\n",
       " <a href=\"http://www.mta.info\"><img alt=\"To MTA.info homepage\" src=\"/template/images/mta_info.gif\"/></a>,\n",
       " <a href=\"/accessibility\">Accessibility</a>,\n",
       " <a href=\"http://assistive.usablenet.com/tt/http://www.mta.info\">Text-only</a>,\n",
       " <a href=\"/selfserve\">Customer Self-Service</a>,\n",
       " <a href=\"/mta/employment/\">Employment</a>,\n",
       " <a href=\"/faqs.htm\">FAQs/Contact Us</a>,\n",
       " <a href=\"https://new.mta.info/precautions-against-coronavirus\" style=\"text-decoration: none;\" target=\"_blank\">Read more</a>,\n",
       " <a href=\"http://www.mta.info\" style=\"padding-left:18px;\">Home</a>,\n",
       " <a href=\"http://www.mta.info\">MTA Home</a>,\n",
       " <a href=\"http://www.mta.info/nyct\">NYC Subways and Buses</a>,\n",
       " <a href=\"http://www.mta.info/lirr\">Long Island Rail Road</a>,\n",
       " <a href=\"http://www.mta.info/mnr\">Metro-North Railroad</a>,\n",
       " <a href=\"http://www.mta.info/bandt\">Bridges and Tunnels</a>,\n",
       " <a href=\"http://web.mta.info/capital\">MTA Capital Program</a>,\n",
       " <a href=\"http://www.mta.info/schedules\">Schedules</a>,\n",
       " <a href=\"http://web.mta.info/fares\">Fares &amp; Tolls</a>,\n",
       " <a href=\"http://web.mta.info/maps\">Maps</a>,\n",
       " <a href=\"http://web.mta.info/service\">Planned Service Changes</a>,\n",
       " <a href=\"http://web.mta.info/about\">MTA Info</a>,\n",
       " <a href=\"http://web.mta.info/business\">Doing Business With Us</a>,\n",
       " <a href=\"http://web.mta.info/accountability/\" style=\"padding-right:23px;\">Transparency</a>,\n",
       " <a href=\"http://web.mta.info/accountability\">Main Page</a>,\n",
       " <a href=\"http://web.mta.info/mta/boardmaterials.html\">Board Materials</a>,\n",
       " <a href=\"http://web.mta.info/mta/budget/\">Budget Info</a>,\n",
       " <a href=\"http://web.mta.info/capital\">Capital Program Info</a>,\n",
       " <a href=\"http://web.mta.info/capitaldashboard/CPDHome.html\">Capital Program Dashboard</a>,\n",
       " <a href=\"http://web.mta.info/mta/investor/\">Investor Information</a>,\n",
       " <a href=\"http://web.mta.info/mta/leadership/\">MTA Leadership</a>,\n",
       " <a href=\"http://web.mta.info/persdashboard/performance14.html\">Performance Indicators</a>,\n",
       " <a href=\"http://www.mta.info/mta-news\">Press Releases and News</a>,\n",
       " <a href=\"http://web.mta.info/mta/news/hearings\">Public Hearings</a>,\n",
       " <a class=\"last\" href=\"http://web.mta.info/mta/news/hearings/index-reinvention.html\">Transportation Reinvention Commission</a>,\n",
       " <a name=\"main-content\"> </a>,\n",
       " <a href=\"resources/nyct/turnstile/ts_Field_Description_pre-10-18-2014.txt\">Prior to 10/18/14</a>,\n",
       " <a href=\"resources/nyct/turnstile/ts_Field_Description.txt\">Current</a>,\n",
       " <a href=\"resources/nyct/turnstile/Remote-Booth-Station.xls\">Remote Unit/Control Area/Station Name Key</a>,\n",
       " <a href=\"data/nyct/turnstile/turnstile_200328.txt\">Saturday, March 28, 2020</a>,\n",
       " <a href=\"data/nyct/turnstile/turnstile_200321.txt\">Saturday, March 21, 2020</a>,\n",
       " <a href=\"data/nyct/turnstile/turnstile_200314.txt\">Saturday, March 14, 2020</a>,\n",
       " <a href=\"data/nyct/turnstile/turnstile_200307.txt\">Saturday, March 07, 2020</a>,\n",
       " <a href=\"data/nyct/turnstile/turnstile_200229.txt\">Saturday, February 29, 2020</a>,\n",
       " <a href=\"data/nyct/turnstile/turnstile_200222.txt\">Saturday, February 22, 2020</a>,\n",
       " <a href=\"data/nyct/turnstile/turnstile_200215.txt\">Saturday, February 15, 2020</a>,\n",
       " <a href=\"data/nyct/turnstile/turnstile_200208.txt\">Saturday, February 08, 2020</a>,\n",
       " <a href=\"data/nyct/turnstile/turnstile_200201.txt\">Saturday, February 01, 2020</a>,\n",
       " <a href=\"data/nyct/turnstile/turnstile_200125.txt\">Saturday, January 25, 2020</a>,\n",
       " <a href=\"data/nyct/turnstile/turnstile_200118.txt\">Saturday, January 18, 2020</a>,\n",
       " <a href=\"data/nyct/turnstile/turnstile_200111.txt\">Saturday, January 11, 2020</a>,\n",
       " <a href=\"data/nyct/turnstile/turnstile_200104.txt\">Saturday, January 04, 2020</a>,\n",
       " <a href=\"data/nyct/turnstile/turnstile_191228.txt\">Saturday, December 28, 2019</a>,\n",
       " <a href=\"data/nyct/turnstile/turnstile_191221.txt\">Saturday, December 21, 2019</a>,\n",
       " <a href=\"data/nyct/turnstile/turnstile_191214.txt\">Saturday, December 14, 2019</a>,\n",
       " <a href=\"data/nyct/turnstile/turnstile_191207.txt\">Saturday, December 07, 2019</a>,\n",
       " <a href=\"data/nyct/turnstile/turnstile_191130.txt\">Saturday, November 30, 2019</a>,\n",
       " <a href=\"data/nyct/turnstile/turnstile_191123.txt\">Saturday, November 23, 2019</a>,\n",
       " <a href=\"data/nyct/turnstile/turnstile_191116.txt\">Saturday, November 16, 2019</a>,\n",
       " <a href=\"data/nyct/turnstile/turnstile_191109.txt\">Saturday, November 09, 2019</a>,\n",
       " <a href=\"data/nyct/turnstile/turnstile_191102.txt\">Saturday, November 02, 2019</a>,\n",
       " <a href=\"data/nyct/turnstile/turnstile_191026.txt\">Saturday, October 26, 2019</a>,\n",
       " <a href=\"data/nyct/turnstile/turnstile_191019.txt\">Saturday, October 19, 2019</a>,\n",
       " <a href=\"data/nyct/turnstile/turnstile_191012.txt\">Saturday, October 12, 2019</a>,\n",
       " <a href=\"data/nyct/turnstile/turnstile_191005.txt\">Saturday, October 05, 2019</a>,\n",
       " <a href=\"data/nyct/turnstile/turnstile_190928.txt\">Saturday, September 28, 2019</a>,\n",
       " <a href=\"data/nyct/turnstile/turnstile_190921.txt\">Saturday, September 21, 2019</a>,\n",
       " <a href=\"data/nyct/turnstile/turnstile_190914.txt\">Saturday, September 14, 2019</a>,\n",
       " <a href=\"data/nyct/turnstile/turnstile_190907.txt\">Saturday, September 07, 2019</a>,\n",
       " <a href=\"data/nyct/turnstile/turnstile_190831.txt\">Saturday, August 31, 2019</a>,\n",
       " <a href=\"data/nyct/turnstile/turnstile_190824.txt\">Saturday, August 24, 2019</a>,\n",
       " <a href=\"data/nyct/turnstile/turnstile_190817.txt\">Saturday, August 17, 2019</a>,\n",
       " <a href=\"data/nyct/turnstile/turnstile_190810.txt\">Saturday, August 10, 2019</a>,\n",
       " <a href=\"data/nyct/turnstile/turnstile_190803.txt\">Saturday, August 03, 2019</a>,\n",
       " <a href=\"data/nyct/turnstile/turnstile_190727.txt\">Saturday, July 27, 2019</a>,\n",
       " <a href=\"data/nyct/turnstile/turnstile_190720.txt\">Saturday, July 20, 2019</a>,\n",
       " <a href=\"data/nyct/turnstile/turnstile_190713.txt\">Saturday, July 13, 2019</a>,\n",
       " <a href=\"data/nyct/turnstile/turnstile_190706.txt\">Saturday, July 06, 2019</a>,\n",
       " <a href=\"data/nyct/turnstile/turnstile_190629.txt\">Saturday, June 29, 2019</a>,\n",
       " <a href=\"data/nyct/turnstile/turnstile_190622.txt\">Saturday, June 22, 2019</a>,\n",
       " <a href=\"data/nyct/turnstile/turnstile_190615.txt\">Saturday, June 15, 2019</a>,\n",
       " <a href=\"data/nyct/turnstile/turnstile_190608.txt\">Saturday, June 08, 2019</a>,\n",
       " <a href=\"data/nyct/turnstile/turnstile_190601.txt\">Saturday, June 01, 2019</a>,\n",
       " <a href=\"data/nyct/turnstile/turnstile_190525.txt\">Saturday, May 25, 2019</a>,\n",
       " <a href=\"data/nyct/turnstile/turnstile_190518.txt\">Saturday, May 18, 2019</a>,\n",
       " <a href=\"data/nyct/turnstile/turnstile_190511.txt\">Saturday, May 11, 2019</a>,\n",
       " <a href=\"data/nyct/turnstile/turnstile_190504.txt\">Saturday, May 04, 2019</a>,\n",
       " <a href=\"data/nyct/turnstile/turnstile_190427.txt\">Saturday, April 27, 2019</a>,\n",
       " <a href=\"data/nyct/turnstile/turnstile_190420.txt\">Saturday, April 20, 2019</a>,\n",
       " <a href=\"data/nyct/turnstile/turnstile_190413.txt\">Saturday, April 13, 2019</a>,\n",
       " <a href=\"data/nyct/turnstile/turnstile_190406.txt\">Saturday, April 06, 2019</a>,\n",
       " <a href=\"data/nyct/turnstile/turnstile_190330.txt\">Saturday, March 30, 2019</a>,\n",
       " <a href=\"data/nyct/turnstile/turnstile_190323.txt\">Saturday, March 23, 2019</a>,\n",
       " <a href=\"data/nyct/turnstile/turnstile_190316.txt\">Saturday, March 16, 2019</a>,\n",
       " <a href=\"data/nyct/turnstile/turnstile_190309.txt\">Saturday, March 09, 2019</a>,\n",
       " <a href=\"data/nyct/turnstile/turnstile_190302.txt\">Saturday, March 02, 2019</a>,\n",
       " <a href=\"data/nyct/turnstile/turnstile_190223.txt\">Saturday, February 23, 2019</a>,\n",
       " <a href=\"data/nyct/turnstile/turnstile_190216.txt\">Saturday, February 16, 2019</a>,\n",
       " <a href=\"data/nyct/turnstile/turnstile_190209.txt\">Saturday, February 09, 2019</a>,\n",
       " <a href=\"data/nyct/turnstile/turnstile_190202.txt\">Saturday, February 02, 2019</a>,\n",
       " <a href=\"data/nyct/turnstile/turnstile_190126.txt\">Saturday, January 26, 2019</a>,\n",
       " <a href=\"data/nyct/turnstile/turnstile_190119.txt\">Saturday, January 19, 2019</a>,\n",
       " <a href=\"data/nyct/turnstile/turnstile_190112.txt\">Saturday, January 12, 2019</a>,\n",
       " <a href=\"data/nyct/turnstile/turnstile_190105.txt\">Saturday, January 05, 2019</a>,\n",
       " <a href=\"data/nyct/turnstile/turnstile_181229.txt\">Saturday, December 29, 2018</a>,\n",
       " <a href=\"data/nyct/turnstile/turnstile_181222.txt\">Saturday, December 22, 2018</a>,\n",
       " <a href=\"data/nyct/turnstile/turnstile_181215.txt\">Saturday, December 15, 2018</a>,\n",
       " <a href=\"data/nyct/turnstile/turnstile_181208.txt\">Saturday, December 08, 2018</a>,\n",
       " <a href=\"data/nyct/turnstile/turnstile_181201.txt\">Saturday, December 01, 2018</a>,\n",
       " <a href=\"data/nyct/turnstile/turnstile_181124.txt\">Saturday, November 24, 2018</a>,\n",
       " <a href=\"data/nyct/turnstile/turnstile_181117.txt\">Saturday, November 17, 2018</a>,\n",
       " <a href=\"data/nyct/turnstile/turnstile_181110.txt\">Saturday, November 10, 2018</a>,\n",
       " <a href=\"data/nyct/turnstile/turnstile_181103.txt\">Saturday, November 03, 2018</a>,\n",
       " <a href=\"data/nyct/turnstile/turnstile_181027.txt\">Saturday, October 27, 2018</a>,\n",
       " <a href=\"data/nyct/turnstile/turnstile_181020.txt\">Saturday, October 20, 2018</a>,\n",
       " <a href=\"data/nyct/turnstile/turnstile_181013.txt\">Saturday, October 13, 2018</a>,\n",
       " <a href=\"data/nyct/turnstile/turnstile_181006.txt\">Saturday, October 06, 2018</a>,\n",
       " <a href=\"data/nyct/turnstile/turnstile_180929.txt\">Saturday, September 29, 2018</a>,\n",
       " <a href=\"data/nyct/turnstile/turnstile_180922.txt\">Saturday, September 22, 2018</a>,\n",
       " <a href=\"data/nyct/turnstile/turnstile_180915.txt\">Saturday, September 15, 2018</a>,\n",
       " <a href=\"data/nyct/turnstile/turnstile_180908.txt\">Saturday, September 08, 2018</a>,\n",
       " <a href=\"data/nyct/turnstile/turnstile_180901.txt\">Saturday, September 01, 2018</a>,\n",
       " <a href=\"data/nyct/turnstile/turnstile_180825.txt\">Saturday, August 25, 2018</a>,\n",
       " <a href=\"data/nyct/turnstile/turnstile_180818.txt\">Saturday, August 18, 2018</a>,\n",
       " <a href=\"data/nyct/turnstile/turnstile_180811.txt\">Saturday, August 11, 2018</a>,\n",
       " <a href=\"data/nyct/turnstile/turnstile_180804.txt\">Saturday, August 04, 2018</a>,\n",
       " <a href=\"data/nyct/turnstile/turnstile_180728.txt\">Saturday, July 28, 2018</a>,\n",
       " <a href=\"data/nyct/turnstile/turnstile_180721.txt\">Saturday, July 21, 2018</a>,\n",
       " <a href=\"data/nyct/turnstile/turnstile_180714.txt\">Saturday, July 14, 2018</a>,\n",
       " <a href=\"data/nyct/turnstile/turnstile_180707.txt\">Saturday, July 07, 2018</a>,\n",
       " <a href=\"data/nyct/turnstile/turnstile_180630.txt\">Saturday, June 30, 2018</a>,\n",
       " <a href=\"data/nyct/turnstile/turnstile_180623.txt\">Saturday, June 23, 2018</a>,\n",
       " <a href=\"data/nyct/turnstile/turnstile_180616.txt\">Saturday, June 16, 2018</a>,\n",
       " <a href=\"data/nyct/turnstile/turnstile_180609.txt\">Saturday, June 09, 2018</a>,\n",
       " <a href=\"data/nyct/turnstile/turnstile_180602.txt\">Saturday, June 02, 2018</a>,\n",
       " <a href=\"data/nyct/turnstile/turnstile_180526.txt\">Saturday, May 26, 2018</a>,\n",
       " <a href=\"data/nyct/turnstile/turnstile_180519.txt\">Saturday, May 19, 2018</a>,\n",
       " <a href=\"data/nyct/turnstile/turnstile_180512.txt\">Saturday, May 12, 2018</a>,\n",
       " <a href=\"data/nyct/turnstile/turnstile_180505.txt\">Saturday, May 05, 2018</a>,\n",
       " <a href=\"data/nyct/turnstile/turnstile_180428.txt\">Saturday, April 28, 2018</a>,\n",
       " <a href=\"data/nyct/turnstile/turnstile_180421.txt\">Saturday, April 21, 2018</a>,\n",
       " <a href=\"data/nyct/turnstile/turnstile_180414.txt\">Saturday, April 14, 2018</a>,\n",
       " <a href=\"data/nyct/turnstile/turnstile_180407.txt\">Saturday, April 07, 2018</a>,\n",
       " <a href=\"data/nyct/turnstile/turnstile_180331.txt\">Saturday, March 31, 2018</a>,\n",
       " <a href=\"data/nyct/turnstile/turnstile_180324.txt\">Saturday, March 24, 2018</a>,\n",
       " <a href=\"data/nyct/turnstile/turnstile_180317.txt\">Saturday, March 17, 2018</a>,\n",
       " <a href=\"data/nyct/turnstile/turnstile_180310.txt\">Saturday, March 10, 2018</a>,\n",
       " <a href=\"data/nyct/turnstile/turnstile_180303.txt\">Saturday, March 03, 2018</a>,\n",
       " <a href=\"data/nyct/turnstile/turnstile_180224.txt\">Saturday, February 24, 2018</a>,\n",
       " <a href=\"data/nyct/turnstile/turnstile_180217.txt\">Saturday, February 17, 2018</a>,\n",
       " <a href=\"data/nyct/turnstile/turnstile_180210.txt\">Saturday, February 10, 2018</a>,\n",
       " <a href=\"data/nyct/turnstile/turnstile_180203.txt\">Saturday, February 03, 2018</a>,\n",
       " <a href=\"data/nyct/turnstile/turnstile_180127.txt\">Saturday, January 27, 2018</a>,\n",
       " <a href=\"data/nyct/turnstile/turnstile_180120.txt\">Saturday, January 20, 2018</a>,\n",
       " <a href=\"data/nyct/turnstile/turnstile_180113.txt\">Saturday, January 13, 2018</a>,\n",
       " <a href=\"data/nyct/turnstile/turnstile_180106.txt\">Saturday, January 06, 2018</a>,\n",
       " <a href=\"data/nyct/turnstile/turnstile_171230.txt\">Saturday, December 30, 2017</a>,\n",
       " <a href=\"data/nyct/turnstile/turnstile_171223.txt\">Saturday, December 23, 2017</a>,\n",
       " <a href=\"data/nyct/turnstile/turnstile_171216.txt\">Saturday, December 16, 2017</a>,\n",
       " <a href=\"data/nyct/turnstile/turnstile_171209.txt\">Saturday, December 09, 2017</a>,\n",
       " <a href=\"data/nyct/turnstile/turnstile_171202.txt\">Saturday, December 02, 2017</a>,\n",
       " <a href=\"data/nyct/turnstile/turnstile_171125.txt\">Saturday, November 25, 2017</a>,\n",
       " <a href=\"data/nyct/turnstile/turnstile_171118.txt\">Saturday, November 18, 2017</a>,\n",
       " <a href=\"data/nyct/turnstile/turnstile_171111.txt\">Saturday, November 11, 2017</a>,\n",
       " <a href=\"data/nyct/turnstile/turnstile_171104.txt\">Saturday, November 04, 2017</a>,\n",
       " <a href=\"data/nyct/turnstile/turnstile_171028.txt\">Saturday, October 28, 2017</a>,\n",
       " <a href=\"data/nyct/turnstile/turnstile_171021.txt\">Saturday, October 21, 2017</a>,\n",
       " <a href=\"data/nyct/turnstile/turnstile_171014.txt\">Saturday, October 14, 2017</a>,\n",
       " <a href=\"data/nyct/turnstile/turnstile_171007.txt\">Saturday, October 07, 2017</a>,\n",
       " <a href=\"data/nyct/turnstile/turnstile_170930.txt\">Saturday, September 30, 2017</a>,\n",
       " <a href=\"data/nyct/turnstile/turnstile_170923.txt\">Saturday, September 23, 2017</a>,\n",
       " <a href=\"data/nyct/turnstile/turnstile_170916.txt\">Saturday, September 16, 2017</a>,\n",
       " <a href=\"data/nyct/turnstile/turnstile_170909.txt\">Saturday, September 09, 2017</a>,\n",
       " <a href=\"data/nyct/turnstile/turnstile_170902.txt\">Saturday, September 02, 2017</a>,\n",
       " <a href=\"data/nyct/turnstile/turnstile_170826.txt\">Saturday, August 26, 2017</a>,\n",
       " <a href=\"data/nyct/turnstile/turnstile_170819.txt\">Saturday, August 19, 2017</a>,\n",
       " <a href=\"data/nyct/turnstile/turnstile_170812.txt\">Saturday, August 12, 2017</a>,\n",
       " <a href=\"data/nyct/turnstile/turnstile_170805.txt\">Saturday, August 05, 2017</a>,\n",
       " <a href=\"data/nyct/turnstile/turnstile_170729.txt\">Saturday, July 29, 2017</a>,\n",
       " <a href=\"data/nyct/turnstile/turnstile_170722.txt\">Saturday, July 22, 2017</a>,\n",
       " <a href=\"data/nyct/turnstile/turnstile_170715.txt\">Saturday, July 15, 2017</a>,\n",
       " <a href=\"data/nyct/turnstile/turnstile_170708.txt\">Saturday, July 08, 2017</a>,\n",
       " <a href=\"data/nyct/turnstile/turnstile_170701.txt\">Saturday, July 01, 2017</a>,\n",
       " <a href=\"data/nyct/turnstile/turnstile_170624.txt\">Saturday, June 24, 2017</a>,\n",
       " <a href=\"data/nyct/turnstile/turnstile_170617.txt\">Saturday, June 17, 2017</a>,\n",
       " <a href=\"data/nyct/turnstile/turnstile_170610.txt\">Saturday, June 10, 2017</a>,\n",
       " <a href=\"data/nyct/turnstile/turnstile_170603.txt\">Saturday, June 03, 2017</a>,\n",
       " <a href=\"data/nyct/turnstile/turnstile_170527.txt\">Saturday, May 27, 2017</a>,\n",
       " <a href=\"data/nyct/turnstile/turnstile_170520.txt\">Saturday, May 20, 2017</a>,\n",
       " <a href=\"data/nyct/turnstile/turnstile_170513.txt\">Saturday, May 13, 2017</a>,\n",
       " <a href=\"data/nyct/turnstile/turnstile_170506.txt\">Saturday, May 06, 2017</a>,\n",
       " <a href=\"data/nyct/turnstile/turnstile_170429.txt\">Saturday, April 29, 2017</a>,\n",
       " <a href=\"data/nyct/turnstile/turnstile_170422.txt\">Saturday, April 22, 2017</a>,\n",
       " <a href=\"data/nyct/turnstile/turnstile_170415.txt\">Saturday, April 15, 2017</a>,\n",
       " <a href=\"data/nyct/turnstile/turnstile_170408.txt\">Saturday, April 08, 2017</a>,\n",
       " <a href=\"data/nyct/turnstile/turnstile_170401.txt\">Saturday, April 01, 2017</a>,\n",
       " <a href=\"data/nyct/turnstile/turnstile_170325.txt\">Saturday, March 25, 2017</a>,\n",
       " <a href=\"data/nyct/turnstile/turnstile_170318.txt\">Saturday, March 18, 2017</a>,\n",
       " <a href=\"data/nyct/turnstile/turnstile_170311.txt\">Saturday, March 11, 2017</a>,\n",
       " <a href=\"data/nyct/turnstile/turnstile_170304.txt\">Saturday, March 04, 2017</a>,\n",
       " <a href=\"data/nyct/turnstile/turnstile_170225.txt\">Saturday, February 25, 2017</a>,\n",
       " <a href=\"data/nyct/turnstile/turnstile_170218.txt\">Saturday, February 18, 2017</a>,\n",
       " <a href=\"data/nyct/turnstile/turnstile_170211.txt\">Saturday, February 11, 2017</a>,\n",
       " <a href=\"data/nyct/turnstile/turnstile_170204.txt\">Saturday, February 04, 2017</a>,\n",
       " <a href=\"data/nyct/turnstile/turnstile_170128.txt\">Saturday, January 28, 2017</a>,\n",
       " <a href=\"data/nyct/turnstile/turnstile_170121.txt\">Saturday, January 21, 2017</a>,\n",
       " <a href=\"data/nyct/turnstile/turnstile_170114.txt\">Saturday, January 14, 2017</a>,\n",
       " <a href=\"data/nyct/turnstile/turnstile_170107.txt\">Saturday, January 07, 2017</a>,\n",
       " <a href=\"data/nyct/turnstile/turnstile_161231.txt\">Saturday, December 31, 2016</a>,\n",
       " <a href=\"data/nyct/turnstile/turnstile_161224.txt\">Saturday, December 24, 2016</a>,\n",
       " <a href=\"data/nyct/turnstile/turnstile_161217.txt\">Saturday, December 17, 2016</a>,\n",
       " <a href=\"data/nyct/turnstile/turnstile_161210.txt\">Saturday, December 10, 2016</a>,\n",
       " <a href=\"data/nyct/turnstile/turnstile_161203.txt\">Saturday, December 03, 2016</a>,\n",
       " <a href=\"data/nyct/turnstile/turnstile_161126.txt\">Saturday, November 26, 2016</a>,\n",
       " <a href=\"data/nyct/turnstile/turnstile_161119.txt\">Saturday, November 19, 2016</a>,\n",
       " <a href=\"data/nyct/turnstile/turnstile_161112.txt\">Saturday, November 12, 2016</a>,\n",
       " <a href=\"data/nyct/turnstile/turnstile_161105.txt\">Saturday, November 05, 2016</a>,\n",
       " <a href=\"data/nyct/turnstile/turnstile_161029.txt\">Saturday, October 29, 2016</a>,\n",
       " <a href=\"data/nyct/turnstile/turnstile_161022.txt\">Saturday, October 22, 2016</a>,\n",
       " <a href=\"data/nyct/turnstile/turnstile_161015.txt\">Saturday, October 15, 2016</a>,\n",
       " <a href=\"data/nyct/turnstile/turnstile_161008.txt\">Saturday, October 08, 2016</a>,\n",
       " <a href=\"data/nyct/turnstile/turnstile_161001.txt\">Saturday, October 01, 2016</a>,\n",
       " <a href=\"data/nyct/turnstile/turnstile_160924.txt\">Saturday, September 24, 2016</a>,\n",
       " <a href=\"data/nyct/turnstile/turnstile_160917.txt\">Saturday, September 17, 2016</a>,\n",
       " <a href=\"data/nyct/turnstile/turnstile_160910.txt\">Saturday, September 10, 2016</a>,\n",
       " <a href=\"data/nyct/turnstile/turnstile_160903.txt\">Saturday, September 03, 2016</a>,\n",
       " <a href=\"data/nyct/turnstile/turnstile_160827.txt\">Saturday, August 27, 2016</a>,\n",
       " <a href=\"data/nyct/turnstile/turnstile_160820.txt\">Saturday, August 20, 2016</a>,\n",
       " <a href=\"data/nyct/turnstile/turnstile_160813.txt\">Saturday, August 13, 2016</a>,\n",
       " <a href=\"data/nyct/turnstile/turnstile_160806.txt\">Saturday, August 06, 2016</a>,\n",
       " <a href=\"data/nyct/turnstile/turnstile_160730.txt\">Saturday, July 30, 2016</a>,\n",
       " <a href=\"data/nyct/turnstile/turnstile_160723.txt\">Saturday, July 23, 2016</a>,\n",
       " <a href=\"data/nyct/turnstile/turnstile_160716.txt\">Saturday, July 16, 2016</a>,\n",
       " <a href=\"data/nyct/turnstile/turnstile_160709.txt\">Saturday, July 09, 2016</a>,\n",
       " <a href=\"data/nyct/turnstile/turnstile_160702.txt\">Saturday, July 02, 2016</a>,\n",
       " <a href=\"data/nyct/turnstile/turnstile_160625.txt\">Saturday, June 25, 2016</a>,\n",
       " <a href=\"data/nyct/turnstile/turnstile_160618.txt\">Saturday, June 18, 2016</a>,\n",
       " <a href=\"data/nyct/turnstile/turnstile_160611.txt\">Saturday, June 11, 2016</a>,\n",
       " <a href=\"data/nyct/turnstile/turnstile_160604.txt\">Saturday, June 04, 2016</a>,\n",
       " <a href=\"data/nyct/turnstile/turnstile_160528.txt\">Saturday, May 28, 2016</a>,\n",
       " <a href=\"data/nyct/turnstile/turnstile_160521.txt\">Saturday, May 21, 2016</a>,\n",
       " <a href=\"data/nyct/turnstile/turnstile_160514.txt\">Saturday, May 14, 2016</a>,\n",
       " <a href=\"data/nyct/turnstile/turnstile_160507.txt\">Saturday, May 07, 2016</a>,\n",
       " <a href=\"data/nyct/turnstile/turnstile_160430.txt\">Saturday, April 30, 2016</a>,\n",
       " <a href=\"data/nyct/turnstile/turnstile_160423.txt\">Saturday, April 23, 2016</a>,\n",
       " <a href=\"data/nyct/turnstile/turnstile_160416.txt\">Saturday, April 16, 2016</a>,\n",
       " <a href=\"data/nyct/turnstile/turnstile_160409.txt\">Saturday, April 09, 2016</a>,\n",
       " <a href=\"data/nyct/turnstile/turnstile_160402.txt\">Saturday, April 02, 2016</a>,\n",
       " <a href=\"data/nyct/turnstile/turnstile_160326.txt\">Saturday, March 26, 2016</a>,\n",
       " <a href=\"data/nyct/turnstile/turnstile_160319.txt\">Saturday, March 19, 2016</a>,\n",
       " <a href=\"data/nyct/turnstile/turnstile_160312.txt\">Saturday, March 12, 2016</a>,\n",
       " <a href=\"data/nyct/turnstile/turnstile_160305.txt\">Saturday, March 05, 2016</a>,\n",
       " <a href=\"data/nyct/turnstile/turnstile_160227.txt\">Saturday, February 27, 2016</a>,\n",
       " <a href=\"data/nyct/turnstile/turnstile_160220.txt\">Saturday, February 20, 2016</a>,\n",
       " <a href=\"data/nyct/turnstile/turnstile_160213.txt\">Saturday, February 13, 2016</a>,\n",
       " <a href=\"data/nyct/turnstile/turnstile_160206.txt\">Saturday, February 06, 2016</a>,\n",
       " <a href=\"data/nyct/turnstile/turnstile_160130.txt\">Saturday, January 30, 2016</a>,\n",
       " <a href=\"data/nyct/turnstile/turnstile_160123.txt\">Saturday, January 23, 2016</a>,\n",
       " <a href=\"data/nyct/turnstile/turnstile_160116.txt\">Saturday, January 16, 2016</a>,\n",
       " <a href=\"data/nyct/turnstile/turnstile_160109.txt\">Saturday, January 09, 2016</a>,\n",
       " <a href=\"data/nyct/turnstile/turnstile_160102.txt\">Saturday, January 02, 2016</a>,\n",
       " <a href=\"data/nyct/turnstile/turnstile_151226.txt\">Saturday, December 26, 2015</a>,\n",
       " <a href=\"data/nyct/turnstile/turnstile_151219.txt\">Saturday, December 19, 2015</a>,\n",
       " <a href=\"data/nyct/turnstile/turnstile_151212.txt\">Saturday, December 12, 2015</a>,\n",
       " <a href=\"data/nyct/turnstile/turnstile_151205.txt\">Saturday, December 05, 2015</a>,\n",
       " <a href=\"data/nyct/turnstile/turnstile_151128.txt\">Saturday, November 28, 2015</a>,\n",
       " <a href=\"data/nyct/turnstile/turnstile_151121.txt\">Saturday, November 21, 2015</a>,\n",
       " <a href=\"data/nyct/turnstile/turnstile_151114.txt\">Saturday, November 14, 2015</a>,\n",
       " <a href=\"data/nyct/turnstile/turnstile_151107.txt\">Saturday, November 07, 2015</a>,\n",
       " <a href=\"data/nyct/turnstile/turnstile_151031.txt\">Saturday, October 31, 2015</a>,\n",
       " <a href=\"data/nyct/turnstile/turnstile_151024.txt\">Saturday, October 24, 2015</a>,\n",
       " <a href=\"data/nyct/turnstile/turnstile_151017.txt\">Saturday, October 17, 2015</a>,\n",
       " <a href=\"data/nyct/turnstile/turnstile_151010.txt\">Saturday, October 10, 2015</a>,\n",
       " <a href=\"data/nyct/turnstile/turnstile_151003.txt\">Saturday, October 03, 2015</a>,\n",
       " <a href=\"data/nyct/turnstile/turnstile_150926.txt\">Saturday, September 26, 2015</a>,\n",
       " <a href=\"data/nyct/turnstile/turnstile_150919.txt\">Saturday, September 19, 2015</a>,\n",
       " <a href=\"data/nyct/turnstile/turnstile_150912.txt\">Saturday, September 12, 2015</a>,\n",
       " <a href=\"data/nyct/turnstile/turnstile_150905.txt\">Saturday, September 05, 2015</a>,\n",
       " <a href=\"data/nyct/turnstile/turnstile_150829.txt\">Saturday, August 29, 2015</a>,\n",
       " <a href=\"data/nyct/turnstile/turnstile_150822.txt\">Saturday, August 22, 2015</a>,\n",
       " <a href=\"data/nyct/turnstile/turnstile_150815.txt\">Saturday, August 15, 2015</a>,\n",
       " <a href=\"data/nyct/turnstile/turnstile_150808.txt\">Saturday, August 08, 2015</a>,\n",
       " <a href=\"data/nyct/turnstile/turnstile_150801.txt\">Saturday, August 01, 2015</a>,\n",
       " <a href=\"data/nyct/turnstile/turnstile_150725.txt\">Saturday, July 25, 2015</a>,\n",
       " <a href=\"data/nyct/turnstile/turnstile_150718.txt\">Saturday, July 18, 2015</a>,\n",
       " <a href=\"data/nyct/turnstile/turnstile_150711.txt\">Saturday, July 11, 2015</a>,\n",
       " <a href=\"data/nyct/turnstile/turnstile_150704.txt\">Saturday, July 04, 2015</a>,\n",
       " <a href=\"data/nyct/turnstile/turnstile_150627.txt\">Saturday, June 27, 2015</a>,\n",
       " <a href=\"data/nyct/turnstile/turnstile_150620.txt\">Saturday, June 20, 2015</a>,\n",
       " <a href=\"data/nyct/turnstile/turnstile_150613.txt\">Saturday, June 13, 2015</a>,\n",
       " <a href=\"data/nyct/turnstile/turnstile_150606.txt\">Saturday, June 06, 2015</a>,\n",
       " <a href=\"data/nyct/turnstile/turnstile_150530.txt\">Saturday, May 30, 2015</a>,\n",
       " <a href=\"data/nyct/turnstile/turnstile_150523.txt\">Saturday, May 23, 2015</a>,\n",
       " <a href=\"data/nyct/turnstile/turnstile_150516.txt\">Saturday, May 16, 2015</a>,\n",
       " <a href=\"data/nyct/turnstile/turnstile_150509.txt\">Saturday, May 09, 2015</a>,\n",
       " <a href=\"data/nyct/turnstile/turnstile_150502.txt\">Saturday, May 02, 2015</a>,\n",
       " <a href=\"data/nyct/turnstile/turnstile_150425.txt\">Saturday, April 25, 2015</a>,\n",
       " <a href=\"data/nyct/turnstile/turnstile_150418.txt\">Saturday, April 18, 2015</a>,\n",
       " <a href=\"data/nyct/turnstile/turnstile_150411.txt\">Saturday, April 11, 2015</a>,\n",
       " <a href=\"data/nyct/turnstile/turnstile_150404.txt\">Saturday, April 04, 2015</a>,\n",
       " <a href=\"data/nyct/turnstile/turnstile_150328.txt\">Saturday, March 28, 2015</a>,\n",
       " <a href=\"data/nyct/turnstile/turnstile_150321.txt\">Saturday, March 21, 2015</a>,\n",
       " <a href=\"data/nyct/turnstile/turnstile_150314.txt\">Saturday, March 14, 2015</a>,\n",
       " <a href=\"data/nyct/turnstile/turnstile_150307.txt\">Saturday, March 07, 2015</a>,\n",
       " <a href=\"data/nyct/turnstile/turnstile_150228.txt\">Saturday, February 28, 2015</a>,\n",
       " <a href=\"data/nyct/turnstile/turnstile_150221.txt\">Saturday, February 21, 2015</a>,\n",
       " <a href=\"data/nyct/turnstile/turnstile_150214.txt\">Saturday, February 14, 2015</a>,\n",
       " <a href=\"data/nyct/turnstile/turnstile_150207.txt\">Saturday, February 07, 2015</a>,\n",
       " <a href=\"data/nyct/turnstile/turnstile_150131.txt\">Saturday, January 31, 2015</a>,\n",
       " <a href=\"data/nyct/turnstile/turnstile_150124.txt\">Saturday, January 24, 2015</a>,\n",
       " <a href=\"data/nyct/turnstile/turnstile_150117.txt\">Saturday, January 17, 2015</a>,\n",
       " <a href=\"data/nyct/turnstile/turnstile_150110.txt\">Saturday, January 10, 2015</a>,\n",
       " <a href=\"data/nyct/turnstile/turnstile_150103.txt\">Saturday, January 03, 2015</a>,\n",
       " <a href=\"data/nyct/turnstile/turnstile_141227.txt\">Saturday, December 27, 2014</a>,\n",
       " <a href=\"data/nyct/turnstile/turnstile_141220.txt\">Saturday, December 20, 2014</a>,\n",
       " <a href=\"data/nyct/turnstile/turnstile_141213.txt\">Saturday, December 13, 2014</a>,\n",
       " <a href=\"data/nyct/turnstile/turnstile_141206.txt\">Saturday, December 06, 2014</a>,\n",
       " <a href=\"data/nyct/turnstile/turnstile_141129.txt\">Saturday, November 29, 2014</a>,\n",
       " <a href=\"data/nyct/turnstile/turnstile_141122.txt\">Saturday, November 22, 2014</a>,\n",
       " <a href=\"data/nyct/turnstile/turnstile_141115.txt\">Saturday, November 15, 2014</a>,\n",
       " <a href=\"data/nyct/turnstile/turnstile_141108.txt\">Saturday, November 08, 2014</a>,\n",
       " <a href=\"data/nyct/turnstile/turnstile_141101.txt\">Saturday, November 01, 2014</a>,\n",
       " <a href=\"data/nyct/turnstile/turnstile_141025.txt\">Saturday, October 25, 2014</a>,\n",
       " <a href=\"data/nyct/turnstile/turnstile_141018.txt\">Saturday, October 18, 2014</a>,\n",
       " <a href=\"data/nyct/turnstile/turnstile_141011.txt\">Saturday, October 11, 2014</a>,\n",
       " <a href=\"data/nyct/turnstile/turnstile_141004.txt\">Saturday, October 04, 2014</a>,\n",
       " <a href=\"data/nyct/turnstile/turnstile_140927.txt\">Saturday, September 27, 2014</a>,\n",
       " <a href=\"data/nyct/turnstile/turnstile_140920.txt\">Saturday, September 20, 2014</a>,\n",
       " <a href=\"data/nyct/turnstile/turnstile_140913.txt\">Saturday, September 13, 2014</a>,\n",
       " <a href=\"data/nyct/turnstile/turnstile_140906.txt\">Saturday, September 06, 2014</a>,\n",
       " <a href=\"data/nyct/turnstile/turnstile_140830.txt\">Saturday, August 30, 2014</a>,\n",
       " <a href=\"data/nyct/turnstile/turnstile_140823.txt\">Saturday, August 23, 2014</a>,\n",
       " <a href=\"data/nyct/turnstile/turnstile_140816.txt\">Saturday, August 16, 2014</a>,\n",
       " <a href=\"data/nyct/turnstile/turnstile_140809.txt\">Saturday, August 09, 2014</a>,\n",
       " <a href=\"data/nyct/turnstile/turnstile_140802.txt\">Saturday, August 02, 2014</a>,\n",
       " <a href=\"data/nyct/turnstile/turnstile_140726.txt\">Saturday, July 26, 2014</a>,\n",
       " <a href=\"data/nyct/turnstile/turnstile_140719.txt\">Saturday, July 19, 2014</a>,\n",
       " <a href=\"data/nyct/turnstile/turnstile_140712.txt\">Saturday, July 12, 2014</a>,\n",
       " <a href=\"data/nyct/turnstile/turnstile_140705.txt\">Saturday, July 05, 2014</a>,\n",
       " <a href=\"data/nyct/turnstile/turnstile_140628.txt\">Saturday, June 28, 2014</a>,\n",
       " <a href=\"data/nyct/turnstile/turnstile_140621.txt\">Saturday, June 21, 2014</a>,\n",
       " <a href=\"data/nyct/turnstile/turnstile_140614.txt\">Saturday, June 14, 2014</a>,\n",
       " <a href=\"data/nyct/turnstile/turnstile_140607.txt\">Saturday, June 07, 2014</a>,\n",
       " <a href=\"data/nyct/turnstile/turnstile_140531.txt\">Saturday, May 31, 2014</a>,\n",
       " <a href=\"data/nyct/turnstile/turnstile_140524.txt\">Saturday, May 24, 2014</a>,\n",
       " <a href=\"data/nyct/turnstile/turnstile_140517.txt\">Saturday, May 17, 2014</a>,\n",
       " <a href=\"data/nyct/turnstile/turnstile_140510.txt\">Saturday, May 10, 2014</a>,\n",
       " <a href=\"data/nyct/turnstile/turnstile_140503.txt\">Saturday, May 03, 2014</a>,\n",
       " <a href=\"data/nyct/turnstile/turnstile_140426.txt\">Saturday, April 26, 2014</a>,\n",
       " <a href=\"data/nyct/turnstile/turnstile_140419.txt\">Saturday, April 19, 2014</a>,\n",
       " <a href=\"data/nyct/turnstile/turnstile_140412.txt\">Saturday, April 12, 2014</a>,\n",
       " <a href=\"data/nyct/turnstile/turnstile_140405.txt\">Saturday, April 05, 2014</a>,\n",
       " <a href=\"data/nyct/turnstile/turnstile_140329.txt\">Saturday, March 29, 2014</a>,\n",
       " <a href=\"data/nyct/turnstile/turnstile_140322.txt\">Saturday, March 22, 2014</a>,\n",
       " <a href=\"data/nyct/turnstile/turnstile_140315.txt\">Saturday, March 15, 2014</a>,\n",
       " <a href=\"data/nyct/turnstile/turnstile_140308.txt\">Saturday, March 08, 2014</a>,\n",
       " <a href=\"data/nyct/turnstile/turnstile_140301.txt\">Saturday, March 01, 2014</a>,\n",
       " <a href=\"data/nyct/turnstile/turnstile_140222.txt\">Saturday, February 22, 2014</a>,\n",
       " <a href=\"data/nyct/turnstile/turnstile_140215.txt\">Saturday, February 15, 2014</a>,\n",
       " <a href=\"data/nyct/turnstile/turnstile_140208.txt\">Saturday, February 08, 2014</a>,\n",
       " <a href=\"data/nyct/turnstile/turnstile_140201.txt\">Saturday, February 01, 2014</a>,\n",
       " <a href=\"data/nyct/turnstile/turnstile_140125.txt\">Saturday, January 25, 2014</a>,\n",
       " <a href=\"data/nyct/turnstile/turnstile_140118.txt\">Saturday, January 18, 2014</a>,\n",
       " <a href=\"data/nyct/turnstile/turnstile_140111.txt\">Saturday, January 11, 2014</a>,\n",
       " <a href=\"data/nyct/turnstile/turnstile_140104.txt\">Saturday, January 04, 2014</a>,\n",
       " <a href=\"data/nyct/turnstile/turnstile_131228.txt\">Saturday, December 28, 2013</a>,\n",
       " <a href=\"data/nyct/turnstile/turnstile_131221.txt\">Saturday, December 21, 2013</a>,\n",
       " <a href=\"data/nyct/turnstile/turnstile_131214.txt\">Saturday, December 14, 2013</a>,\n",
       " <a href=\"data/nyct/turnstile/turnstile_131207.txt\">Saturday, December 07, 2013</a>,\n",
       " <a href=\"data/nyct/turnstile/turnstile_131130.txt\">Saturday, November 30, 2013</a>,\n",
       " <a href=\"data/nyct/turnstile/turnstile_131123.txt\">Saturday, November 23, 2013</a>,\n",
       " <a href=\"data/nyct/turnstile/turnstile_131116.txt\">Saturday, November 16, 2013</a>,\n",
       " <a href=\"data/nyct/turnstile/turnstile_131109.txt\">Saturday, November 09, 2013</a>,\n",
       " <a href=\"data/nyct/turnstile/turnstile_131102.txt\">Saturday, November 02, 2013</a>,\n",
       " <a href=\"data/nyct/turnstile/turnstile_131026.txt\">Saturday, October 26, 2013</a>,\n",
       " <a href=\"data/nyct/turnstile/turnstile_131019.txt\">Saturday, October 19, 2013</a>,\n",
       " <a href=\"data/nyct/turnstile/turnstile_131012.txt\">Saturday, October 12, 2013</a>,\n",
       " <a href=\"data/nyct/turnstile/turnstile_131005.txt\">Saturday, October 05, 2013</a>,\n",
       " <a href=\"data/nyct/turnstile/turnstile_130928.txt\">Saturday, September 28, 2013</a>,\n",
       " <a href=\"data/nyct/turnstile/turnstile_130921.txt\">Saturday, September 21, 2013</a>,\n",
       " <a href=\"data/nyct/turnstile/turnstile_130914.txt\">Saturday, September 14, 2013</a>,\n",
       " <a href=\"data/nyct/turnstile/turnstile_130907.txt\">Saturday, September 07, 2013</a>,\n",
       " <a href=\"data/nyct/turnstile/turnstile_130831.txt\">Saturday, August 31, 2013</a>,\n",
       " <a href=\"data/nyct/turnstile/turnstile_130824.txt\">Saturday, August 24, 2013</a>,\n",
       " <a href=\"data/nyct/turnstile/turnstile_130817.txt\">Saturday, August 17, 2013</a>,\n",
       " <a href=\"data/nyct/turnstile/turnstile_130810.txt\">Saturday, August 10, 2013</a>,\n",
       " <a href=\"data/nyct/turnstile/turnstile_130803.txt\">Saturday, August 03, 2013</a>,\n",
       " <a href=\"data/nyct/turnstile/turnstile_130727.txt\">Saturday, July 27, 2013</a>,\n",
       " <a href=\"data/nyct/turnstile/turnstile_130720.txt\">Saturday, July 20, 2013</a>,\n",
       " <a href=\"data/nyct/turnstile/turnstile_130713.txt\">Saturday, July 13, 2013</a>,\n",
       " <a href=\"data/nyct/turnstile/turnstile_130706.txt\">Saturday, July 06, 2013</a>,\n",
       " <a href=\"data/nyct/turnstile/turnstile_130629.txt\">Saturday, June 29, 2013</a>,\n",
       " <a href=\"data/nyct/turnstile/turnstile_130622.txt\">Saturday, June 22, 2013</a>,\n",
       " <a href=\"data/nyct/turnstile/turnstile_130615.txt\">Saturday, June 15, 2013</a>,\n",
       " <a href=\"data/nyct/turnstile/turnstile_130608.txt\">Saturday, June 08, 2013</a>,\n",
       " <a href=\"data/nyct/turnstile/turnstile_130601.txt\">Saturday, June 01, 2013</a>,\n",
       " <a href=\"data/nyct/turnstile/turnstile_130525.txt\">Saturday, May 25, 2013</a>,\n",
       " <a href=\"data/nyct/turnstile/turnstile_130518.txt\">Saturday, May 18, 2013</a>,\n",
       " <a href=\"data/nyct/turnstile/turnstile_130511.txt\">Saturday, May 11, 2013</a>,\n",
       " <a href=\"data/nyct/turnstile/turnstile_130504.txt\">Saturday, May 04, 2013</a>,\n",
       " <a href=\"data/nyct/turnstile/turnstile_130427.txt\">Saturday, April 27, 2013</a>,\n",
       " <a href=\"data/nyct/turnstile/turnstile_130420.txt\">Saturday, April 20, 2013</a>,\n",
       " <a href=\"data/nyct/turnstile/turnstile_130413.txt\">Saturday, April 13, 2013</a>,\n",
       " <a href=\"data/nyct/turnstile/turnstile_130406.txt\">Saturday, April 06, 2013</a>,\n",
       " <a href=\"data/nyct/turnstile/turnstile_130330.txt\">Saturday, March 30, 2013</a>,\n",
       " <a href=\"data/nyct/turnstile/turnstile_130323.txt\">Saturday, March 23, 2013</a>,\n",
       " <a href=\"data/nyct/turnstile/turnstile_130316.txt\">Saturday, March 16, 2013</a>,\n",
       " <a href=\"data/nyct/turnstile/turnstile_130309.txt\">Saturday, March 09, 2013</a>,\n",
       " <a href=\"data/nyct/turnstile/turnstile_130302.txt\">Saturday, March 02, 2013</a>,\n",
       " <a href=\"data/nyct/turnstile/turnstile_130223.txt\">Saturday, February 23, 2013</a>,\n",
       " <a href=\"data/nyct/turnstile/turnstile_130216.txt\">Saturday, February 16, 2013</a>,\n",
       " <a href=\"data/nyct/turnstile/turnstile_130209.txt\">Saturday, February 09, 2013</a>,\n",
       " <a href=\"data/nyct/turnstile/turnstile_130202.txt\">Saturday, February 02, 2013</a>,\n",
       " <a href=\"data/nyct/turnstile/turnstile_130126.txt\">Saturday, January 26, 2013</a>,\n",
       " <a href=\"data/nyct/turnstile/turnstile_130119.txt\">Saturday, January 19, 2013</a>,\n",
       " <a href=\"data/nyct/turnstile/turnstile_130112.txt\">Saturday, January 12, 2013</a>,\n",
       " <a href=\"data/nyct/turnstile/turnstile_130105.txt\">Saturday, January 05, 2013</a>,\n",
       " <a href=\"data/nyct/turnstile/turnstile_121229.txt\">Saturday, December 29, 2012</a>,\n",
       " <a href=\"data/nyct/turnstile/turnstile_121222.txt\">Saturday, December 22, 2012</a>,\n",
       " <a href=\"data/nyct/turnstile/turnstile_121215.txt\">Saturday, December 15, 2012</a>,\n",
       " <a href=\"data/nyct/turnstile/turnstile_121208.txt\">Saturday, December 08, 2012</a>,\n",
       " <a href=\"data/nyct/turnstile/turnstile_121201.txt\">Saturday, December 01, 2012</a>,\n",
       " <a href=\"data/nyct/turnstile/turnstile_121124.txt\">Saturday, November 24, 2012</a>,\n",
       " <a href=\"data/nyct/turnstile/turnstile_121117.txt\">Saturday, November 17, 2012</a>,\n",
       " <a href=\"data/nyct/turnstile/turnstile_121110.txt\">Saturday, November 10, 2012</a>,\n",
       " <a href=\"data/nyct/turnstile/turnstile_121103.txt\">Saturday, November 03, 2012</a>,\n",
       " <a href=\"data/nyct/turnstile/turnstile_121027.txt\">Saturday, October 27, 2012</a>,\n",
       " <a href=\"data/nyct/turnstile/turnstile_121020.txt\">Saturday, October 20, 2012</a>,\n",
       " <a href=\"data/nyct/turnstile/turnstile_121013.txt\">Saturday, October 13, 2012</a>,\n",
       " <a href=\"data/nyct/turnstile/turnstile_121006.txt\">Saturday, October 06, 2012</a>,\n",
       " <a href=\"data/nyct/turnstile/turnstile_120929.txt\">Saturday, September 29, 2012</a>,\n",
       " <a href=\"data/nyct/turnstile/turnstile_120922.txt\">Saturday, September 22, 2012</a>,\n",
       " <a href=\"data/nyct/turnstile/turnstile_120915.txt\">Saturday, September 15, 2012</a>,\n",
       " <a href=\"data/nyct/turnstile/turnstile_120908.txt\">Saturday, September 08, 2012</a>,\n",
       " <a href=\"data/nyct/turnstile/turnstile_120901.txt\">Saturday, September 01, 2012</a>,\n",
       " <a href=\"data/nyct/turnstile/turnstile_120825.txt\">Saturday, August 25, 2012</a>,\n",
       " <a href=\"data/nyct/turnstile/turnstile_120818.txt\">Saturday, August 18, 2012</a>,\n",
       " <a href=\"data/nyct/turnstile/turnstile_120811.txt\">Saturday, August 11, 2012</a>,\n",
       " <a href=\"data/nyct/turnstile/turnstile_120804.txt\">Saturday, August 04, 2012</a>,\n",
       " <a href=\"data/nyct/turnstile/turnstile_120728.txt\">Saturday, July 28, 2012</a>,\n",
       " <a href=\"data/nyct/turnstile/turnstile_120721.txt\">Saturday, July 21, 2012</a>,\n",
       " <a href=\"data/nyct/turnstile/turnstile_120714.txt\">Saturday, July 14, 2012</a>,\n",
       " <a href=\"data/nyct/turnstile/turnstile_120707.txt\">Saturday, July 07, 2012</a>,\n",
       " <a href=\"data/nyct/turnstile/turnstile_120630.txt\">Saturday, June 30, 2012</a>,\n",
       " <a href=\"data/nyct/turnstile/turnstile_120623.txt\">Saturday, June 23, 2012</a>,\n",
       " <a href=\"data/nyct/turnstile/turnstile_120616.txt\">Saturday, June 16, 2012</a>,\n",
       " <a href=\"data/nyct/turnstile/turnstile_120609.txt\">Saturday, June 09, 2012</a>,\n",
       " <a href=\"data/nyct/turnstile/turnstile_120602.txt\">Saturday, June 02, 2012</a>,\n",
       " <a href=\"data/nyct/turnstile/turnstile_120526.txt\">Saturday, May 26, 2012</a>,\n",
       " <a href=\"data/nyct/turnstile/turnstile_120519.txt\">Saturday, May 19, 2012</a>,\n",
       " <a href=\"data/nyct/turnstile/turnstile_120512.txt\">Saturday, May 12, 2012</a>,\n",
       " <a href=\"data/nyct/turnstile/turnstile_120505.txt\">Saturday, May 05, 2012</a>,\n",
       " <a href=\"data/nyct/turnstile/turnstile_120428.txt\">Saturday, April 28, 2012</a>,\n",
       " <a href=\"data/nyct/turnstile/turnstile_120421.txt\">Saturday, April 21, 2012</a>,\n",
       " <a href=\"data/nyct/turnstile/turnstile_120414.txt\">Saturday, April 14, 2012</a>,\n",
       " <a href=\"data/nyct/turnstile/turnstile_120407.txt\">Saturday, April 07, 2012</a>,\n",
       " <a href=\"data/nyct/turnstile/turnstile_120331.txt\">Saturday, March 31, 2012</a>,\n",
       " <a href=\"data/nyct/turnstile/turnstile_120324.txt\">Saturday, March 24, 2012</a>,\n",
       " <a href=\"data/nyct/turnstile/turnstile_120317.txt\">Saturday, March 17, 2012</a>,\n",
       " <a href=\"data/nyct/turnstile/turnstile_120310.txt\">Saturday, March 10, 2012</a>,\n",
       " <a href=\"data/nyct/turnstile/turnstile_120303.txt\">Saturday, March 03, 2012</a>,\n",
       " <a href=\"data/nyct/turnstile/turnstile_120225.txt\">Saturday, February 25, 2012</a>,\n",
       " <a href=\"data/nyct/turnstile/turnstile_120218.txt\">Saturday, February 18, 2012</a>,\n",
       " <a href=\"data/nyct/turnstile/turnstile_120211.txt\">Saturday, February 11, 2012</a>,\n",
       " <a href=\"data/nyct/turnstile/turnstile_120204.txt\">Saturday, February 04, 2012</a>,\n",
       " <a href=\"data/nyct/turnstile/turnstile_120128.txt\">Saturday, January 28, 2012</a>,\n",
       " <a href=\"data/nyct/turnstile/turnstile_120121.txt\">Saturday, January 21, 2012</a>,\n",
       " <a href=\"data/nyct/turnstile/turnstile_120114.txt\">Saturday, January 14, 2012</a>,\n",
       " <a href=\"data/nyct/turnstile/turnstile_120107.txt\">Saturday, January 07, 2012</a>,\n",
       " <a href=\"data/nyct/turnstile/turnstile_111231.txt\">Saturday, December 31, 2011</a>,\n",
       " <a href=\"data/nyct/turnstile/turnstile_111224.txt\">Saturday, December 24, 2011</a>,\n",
       " <a href=\"data/nyct/turnstile/turnstile_111219.txt\">Monday, December 19, 2011</a>,\n",
       " <a href=\"data/nyct/turnstile/turnstile_111210.txt\">Saturday, December 10, 2011</a>,\n",
       " <a href=\"data/nyct/turnstile/turnstile_111203.txt\">Saturday, December 03, 2011</a>,\n",
       " <a href=\"data/nyct/turnstile/turnstile_111126.txt\">Saturday, November 26, 2011</a>,\n",
       " <a href=\"data/nyct/turnstile/turnstile_111119.txt\">Saturday, November 19, 2011</a>,\n",
       " <a href=\"data/nyct/turnstile/turnstile_111112.txt\">Saturday, November 12, 2011</a>,\n",
       " <a href=\"data/nyct/turnstile/turnstile_111105.txt\">Saturday, November 05, 2011</a>,\n",
       " <a href=\"data/nyct/turnstile/turnstile_111029.txt\">Saturday, October 29, 2011</a>,\n",
       " <a href=\"data/nyct/turnstile/turnstile_111022.txt\">Saturday, October 22, 2011</a>,\n",
       " <a href=\"data/nyct/turnstile/turnstile_111015.txt\">Saturday, October 15, 2011</a>,\n",
       " <a href=\"data/nyct/turnstile/turnstile_111008.txt\">Saturday, October 08, 2011</a>,\n",
       " <a href=\"data/nyct/turnstile/turnstile_111001.txt\">Saturday, October 01, 2011</a>,\n",
       " <a href=\"data/nyct/turnstile/turnstile_110924.txt\">Saturday, September 24, 2011</a>,\n",
       " <a href=\"data/nyct/turnstile/turnstile_110917.txt\">Saturday, September 17, 2011</a>,\n",
       " <a href=\"data/nyct/turnstile/turnstile_110910.txt\">Saturday, September 10, 2011</a>,\n",
       " <a href=\"data/nyct/turnstile/turnstile_110903.txt\">Saturday, September 03, 2011</a>,\n",
       " <a href=\"data/nyct/turnstile/turnstile_110827.txt\">Saturday, August 27, 2011</a>,\n",
       " <a href=\"data/nyct/turnstile/turnstile_110820.txt\">Saturday, August 20, 2011</a>,\n",
       " <a href=\"data/nyct/turnstile/turnstile_110813.txt\">Saturday, August 13, 2011</a>,\n",
       " <a href=\"data/nyct/turnstile/turnstile_110806.txt\">Saturday, August 06, 2011</a>,\n",
       " <a href=\"data/nyct/turnstile/turnstile_110730.txt\">Saturday, July 30, 2011</a>,\n",
       " <a href=\"data/nyct/turnstile/turnstile_110723.txt\">Saturday, July 23, 2011</a>,\n",
       " <a href=\"data/nyct/turnstile/turnstile_110716.txt\">Saturday, July 16, 2011</a>,\n",
       " <a href=\"data/nyct/turnstile/turnstile_110709.txt\">Saturday, July 09, 2011</a>,\n",
       " <a href=\"data/nyct/turnstile/turnstile_110702.txt\">Saturday, July 02, 2011</a>,\n",
       " <a href=\"data/nyct/turnstile/turnstile_110625.txt\">Saturday, June 25, 2011</a>,\n",
       " <a href=\"data/nyct/turnstile/turnstile_110618.txt\">Saturday, June 18, 2011</a>,\n",
       " <a href=\"data/nyct/turnstile/turnstile_110611.txt\">Saturday, June 11, 2011</a>,\n",
       " <a href=\"data/nyct/turnstile/turnstile_110604.txt\">Saturday, June 04, 2011</a>,\n",
       " <a href=\"data/nyct/turnstile/turnstile_110528.txt\">Saturday, May 28, 2011</a>,\n",
       " <a href=\"data/nyct/turnstile/turnstile_110521.txt\">Saturday, May 21, 2011</a>,\n",
       " <a href=\"data/nyct/turnstile/turnstile_110514.txt\">Saturday, May 14, 2011</a>,\n",
       " <a href=\"data/nyct/turnstile/turnstile_110507.txt\">Saturday, May 07, 2011</a>,\n",
       " <a href=\"data/nyct/turnstile/turnstile_110430.txt\">Saturday, April 30, 2011</a>,\n",
       " <a href=\"data/nyct/turnstile/turnstile_110423.txt\">Saturday, April 23, 2011</a>,\n",
       " <a href=\"data/nyct/turnstile/turnstile_110416.txt\">Saturday, April 16, 2011</a>,\n",
       " <a href=\"data/nyct/turnstile/turnstile_110409.txt\">Saturday, April 09, 2011</a>,\n",
       " <a href=\"data/nyct/turnstile/turnstile_110402.txt\">Saturday, April 02, 2011</a>,\n",
       " <a href=\"data/nyct/turnstile/turnstile_110326.txt\">Saturday, March 26, 2011</a>,\n",
       " <a href=\"data/nyct/turnstile/turnstile_110319.txt\">Saturday, March 19, 2011</a>,\n",
       " <a href=\"data/nyct/turnstile/turnstile_110312.txt\">Saturday, March 12, 2011</a>,\n",
       " <a href=\"data/nyct/turnstile/turnstile_110305.txt\">Saturday, March 05, 2011</a>,\n",
       " <a href=\"data/nyct/turnstile/turnstile_110226.txt\">Saturday, February 26, 2011</a>,\n",
       " <a href=\"data/nyct/turnstile/turnstile_110219.txt\">Saturday, February 19, 2011</a>,\n",
       " <a href=\"data/nyct/turnstile/turnstile_110212.txt\">Saturday, February 12, 2011</a>,\n",
       " <a href=\"data/nyct/turnstile/turnstile_110205.txt\">Saturday, February 05, 2011</a>,\n",
       " <a href=\"data/nyct/turnstile/turnstile_110129.txt\">Saturday, January 29, 2011</a>,\n",
       " <a href=\"data/nyct/turnstile/turnstile_110122.txt\">Saturday, January 22, 2011</a>,\n",
       " <a href=\"data/nyct/turnstile/turnstile_110115.txt\">Saturday, January 15, 2011</a>,\n",
       " <a href=\"data/nyct/turnstile/turnstile_110108.txt\">Saturday, January 08, 2011</a>,\n",
       " <a href=\"data/nyct/turnstile/turnstile_110101.txt\">Saturday, January 01, 2011</a>,\n",
       " <a href=\"data/nyct/turnstile/turnstile_101225.txt\">Saturday, December 25, 2010</a>,\n",
       " <a href=\"data/nyct/turnstile/turnstile_101218.txt\">Saturday, December 18, 2010</a>,\n",
       " <a href=\"data/nyct/turnstile/turnstile_101211.txt\">Saturday, December 11, 2010</a>,\n",
       " <a href=\"data/nyct/turnstile/turnstile_101204.txt\">Saturday, December 04, 2010</a>,\n",
       " <a href=\"data/nyct/turnstile/turnstile_101127.txt\">Saturday, November 27, 2010</a>,\n",
       " <a href=\"data/nyct/turnstile/turnstile_101120.txt\">Saturday, November 20, 2010</a>,\n",
       " <a href=\"data/nyct/turnstile/turnstile_101113.txt\">Saturday, November 13, 2010</a>,\n",
       " <a href=\"data/nyct/turnstile/turnstile_101106.txt\">Saturday, November 06, 2010</a>,\n",
       " <a href=\"data/nyct/turnstile/turnstile_101030.txt\">Saturday, October 30, 2010</a>,\n",
       " <a href=\"data/nyct/turnstile/turnstile_101023.txt\">Saturday, October 23, 2010</a>,\n",
       " <a href=\"data/nyct/turnstile/turnstile_101016.txt\">Saturday, October 16, 2010</a>,\n",
       " <a href=\"data/nyct/turnstile/turnstile_101009.txt\">Saturday, October 09, 2010</a>,\n",
       " <a href=\"data/nyct/turnstile/turnstile_101002.txt\">Saturday, October 02, 2010</a>,\n",
       " <a href=\"data/nyct/turnstile/turnstile_100925.txt\">Saturday, September 25, 2010</a>,\n",
       " <a href=\"data/nyct/turnstile/turnstile_100918.txt\">Saturday, September 18, 2010</a>,\n",
       " <a href=\"data/nyct/turnstile/turnstile_100911.txt\">Saturday, September 11, 2010</a>,\n",
       " <a href=\"data/nyct/turnstile/turnstile_100904.txt\">Saturday, September 04, 2010</a>,\n",
       " <a href=\"data/nyct/turnstile/turnstile_100828.txt\">Saturday, August 28, 2010</a>,\n",
       " <a href=\"data/nyct/turnstile/turnstile_100821.txt\">Saturday, August 21, 2010</a>,\n",
       " <a href=\"data/nyct/turnstile/turnstile_100814.txt\">Saturday, August 14, 2010</a>,\n",
       " <a href=\"data/nyct/turnstile/turnstile_100807.txt\">Saturday, August 07, 2010</a>,\n",
       " <a href=\"data/nyct/turnstile/turnstile_100731.txt\">Saturday, July 31, 2010</a>,\n",
       " <a href=\"data/nyct/turnstile/turnstile_100724.txt\">Saturday, July 24, 2010</a>,\n",
       " <a href=\"data/nyct/turnstile/turnstile_100717.txt\">Saturday, July 17, 2010</a>,\n",
       " <a href=\"data/nyct/turnstile/turnstile_100710.txt\">Saturday, July 10, 2010</a>,\n",
       " <a href=\"data/nyct/turnstile/turnstile_100703.txt\">Saturday, July 03, 2010</a>,\n",
       " <a href=\"data/nyct/turnstile/turnstile_100626.txt\">Saturday, June 26, 2010</a>,\n",
       " <a href=\"data/nyct/turnstile/turnstile_100619.txt\">Saturday, June 19, 2010</a>,\n",
       " <a href=\"data/nyct/turnstile/turnstile_100612.txt\">Saturday, June 12, 2010</a>,\n",
       " <a href=\"data/nyct/turnstile/turnstile_100605.txt\">Saturday, June 05, 2010</a>,\n",
       " <a href=\"data/nyct/turnstile/turnstile_100522.txt\">Saturday, May 22, 2010</a>,\n",
       " <a href=\"data/nyct/turnstile/turnstile_100515.txt\">Saturday, May 15, 2010</a>,\n",
       " <a href=\"data/nyct/turnstile/turnstile_100508.txt\">Saturday, May 08, 2010</a>,\n",
       " <a href=\"data/nyct/turnstile/turnstile_100505.txt\">Wednesday, May 05, 2010</a>]"
      ]
     },
     "execution_count": 10,
     "metadata": {},
     "output_type": "execute_result"
    }
   ],
   "source": [
    "soup.findAll('a')"
   ]
  },
  {
   "cell_type": "code",
   "execution_count": 11,
   "metadata": {},
   "outputs": [],
   "source": [
    "one_a_tag = soup.findAll('a')[36]\n",
    "link = one_a_tag['href']"
   ]
  },
  {
   "cell_type": "code",
   "execution_count": 12,
   "metadata": {},
   "outputs": [],
   "source": [
    "download_url = url + link"
   ]
  },
  {
   "cell_type": "code",
   "execution_count": 13,
   "metadata": {},
   "outputs": [],
   "source": [
    "download_url = 'http://web.mta.info/developers/'+ link"
   ]
  },
  {
   "cell_type": "code",
   "execution_count": null,
   "metadata": {},
   "outputs": [],
   "source": [
    "# This did not work\n",
    "# urllib.request.urlretrieve(download_url,'./’'link[link.find('/turnstile_')+1:]) \n",
    "# urllib.request.ulrretrieve(download_url,'./’'link[link.find('/turnstile_')+1:])\n",
    "# urllib.request.urlretrieve(download_url,'./'+link[link.find('/turnstile_')+1:])"
   ]
  },
  {
   "cell_type": "markdown",
   "metadata": {},
   "source": [
    "## My attempts at CoffeeReview\n",
    "\n",
    "This api did not work:\n",
    "https://github.com/gabergg/cr-api"
   ]
  },
  {
   "cell_type": "code",
   "execution_count": 17,
   "metadata": {},
   "outputs": [],
   "source": [
    "url = 'https://www.coffeereview.com/review/'\n",
    "response = requests.get(url)"
   ]
  },
  {
   "cell_type": "code",
   "execution_count": 18,
   "metadata": {},
   "outputs": [
    {
     "data": {
      "text/plain": [
       "<Response [403]>"
      ]
     },
     "execution_count": 18,
     "metadata": {},
     "output_type": "execute_result"
    }
   ],
   "source": [
    "response"
   ]
  },
  {
   "cell_type": "code",
   "execution_count": 19,
   "metadata": {},
   "outputs": [
    {
     "data": {
      "text/plain": [
       "b'<html>\\r\\n<head><title>403 Forbidden</title></head>\\r\\n<body>\\r\\n<center><h1>403 Forbidden</h1></center>\\r\\n<hr><center>nginx</center>\\r\\n</body>\\r\\n</html>\\r\\n'"
      ]
     },
     "execution_count": 19,
     "metadata": {},
     "output_type": "execute_result"
    }
   ],
   "source": [
    "response.content"
   ]
  },
  {
   "cell_type": "code",
   "execution_count": 36,
   "metadata": {},
   "outputs": [],
   "source": [
    "soup = BeautifulSoup(response.text,'html.parser')"
   ]
  },
  {
   "cell_type": "code",
   "execution_count": 37,
   "metadata": {},
   "outputs": [
    {
     "data": {
      "text/plain": [
       "<html>\n",
       "<head><title>403 Forbidden</title></head>\n",
       "<body>\n",
       "<center><h1>403 Forbidden</h1></center>\n",
       "<hr/><center>nginx</center>\n",
       "</body>\n",
       "</html>"
      ]
     },
     "execution_count": 37,
     "metadata": {},
     "output_type": "execute_result"
    }
   ],
   "source": [
    "soup"
   ]
  },
  {
   "cell_type": "markdown",
   "metadata": {},
   "source": [
    "### Work around code 403\n",
    "\n",
    "https://medium.com/@raiyanquaium/how-to-web-scrape-using-beautiful-soup-in-python-without-running-into-http-error-403-554875e5abed"
   ]
  },
  {
   "cell_type": "code",
   "execution_count": 42,
   "metadata": {},
   "outputs": [],
   "source": [
    "from urllib.request import Request, urlopen"
   ]
  },
  {
   "cell_type": "code",
   "execution_count": 43,
   "metadata": {},
   "outputs": [],
   "source": [
    "url = 'https://www.coffeereview.com/review/colombia-finca-la-loma-microlot/'"
   ]
  },
  {
   "cell_type": "code",
   "execution_count": 44,
   "metadata": {},
   "outputs": [],
   "source": [
    "req = Request(url, headers={'User-Agent': 'Mozilla/5.0'})"
   ]
  },
  {
   "cell_type": "code",
   "execution_count": 45,
   "metadata": {},
   "outputs": [],
   "source": [
    "webpage = urlopen(req).read()"
   ]
  },
  {
   "cell_type": "code",
   "execution_count": 46,
   "metadata": {},
   "outputs": [],
   "source": [
    "page_soup = BeautifulSoup(webpage,'html.parser')"
   ]
  },
  {
   "cell_type": "code",
   "execution_count": 47,
   "metadata": {},
   "outputs": [
    {
     "data": {
      "text/plain": [
       "<!DOCTYPE html>\n",
       "<html lang=\"en-US\"><head><meta charset=\"utf-8\"/><meta content=\"width=device-width, initial-scale=1\" name=\"viewport\"/><meta content=\"width=device-width, initial-scale=1.0\" id=\"dynamik-viewport\" name=\"viewport\"/><title>Coffee Review | Colombia Finca La Loma Microlot by BeanFruit Coffee</title><meta content=\"An exceptional sweet and tart Colombia coffee from Finca La Loma by BeanFruit Coffee. Learn more at CoffeeReview.com.\" name=\"description\"/><meta content=\"max-snippet:-1, max-image-preview:large, max-video-preview:-1\" name=\"robots\"/><link href=\"https://www.coffeereview.com/review/colombia-finca-la-loma-microlot/\" rel=\"canonical\"/><meta content=\"en_US\" property=\"og:locale\"/><meta content=\"article\" property=\"og:type\"/><meta content=\"Coffee Review | Colombia Finca La Loma Microlot by BeanFruit Coffee\" property=\"og:title\"/><meta content=\"An exceptional sweet and tart Colombia coffee from Finca La Loma by BeanFruit Coffee. Learn more at CoffeeReview.com.\" property=\"og:description\"/><meta content=\"https://www.coffeereview.com/review/colombia-finca-la-loma-microlot/\" property=\"og:url\"/><meta content=\"Coffee Review\" property=\"og:site_name\"/><meta content=\"https://www.facebook.com/drinkgreatcoffee/\" property=\"article:publisher\"/><meta content=\"summary\" name=\"twitter:card\"/><meta content=\"An exceptional sweet and tart Colombia coffee from Finca La Loma by BeanFruit Coffee. Learn more at CoffeeReview.com.\" name=\"twitter:description\"/><meta content=\"Coffee Review | Colombia Finca La Loma Microlot by BeanFruit Coffee\" name=\"twitter:title\"/><meta content=\"@coffeereview\" name=\"twitter:site\"/><meta content=\"@coffeereview\" name=\"twitter:creator\"/> <script class=\"yoast-schema-graph yoast-schema-graph--main\" type=\"application/ld+json\">{\"@context\":\"https://schema.org\",\"@graph\":[{\"@type\":\"WebSite\",\"@id\":\"https://www.coffeereview.com/#website\",\"url\":\"https://www.coffeereview.com/\",\"name\":\"Coffee Review\",\"inLanguage\":\"en-US\",\"description\":\"The World&#039;s Leading Coffee Guide\",\"potentialAction\":[{\"@type\":\"SearchAction\",\"target\":\"https://www.coffeereview.com/?s={search_term_string}\",\"query-input\":\"required name=search_term_string\"}]},{\"@type\":\"WebPage\",\"@id\":\"https://www.coffeereview.com/review/colombia-finca-la-loma-microlot/#webpage\",\"url\":\"https://www.coffeereview.com/review/colombia-finca-la-loma-microlot/\",\"name\":\"Coffee Review | Colombia Finca La Loma Microlot by BeanFruit Coffee\",\"isPartOf\":{\"@id\":\"https://www.coffeereview.com/#website\"},\"inLanguage\":\"en-US\",\"datePublished\":\"2020-03-27T21:04:59+00:00\",\"dateModified\":\"2020-03-28T03:32:36+00:00\",\"description\":\"An exceptional sweet and tart Colombia coffee from Finca La Loma by BeanFruit Coffee. Learn more at CoffeeReview.com.\",\"potentialAction\":[{\"@type\":\"ReadAction\",\"target\":[\"https://www.coffeereview.com/review/colombia-finca-la-loma-microlot/\"]}]}]}</script> <link href=\"//maxcdn.bootstrapcdn.com\" rel=\"dns-prefetch\"/><link href=\"//fonts.googleapis.com\" rel=\"dns-prefetch\"/><link href=\"//dlo9n43mpvj20faa12i3i3lh-wpengine.netdna-ssl.com\" rel=\"dns-prefetch\"/><link href=\"https://www.coffeereview.com/feed/\" rel=\"alternate\" title=\"Coffee Review » Feed\" type=\"application/rss+xml\"/><link href=\"https://www.coffeereview.com/comments/feed/\" rel=\"alternate\" title=\"Coffee Review » Comments Feed\" type=\"application/rss+xml\"/> <script data-cfasync=\"false\" type=\"text/javascript\">var mi_version         = '7.10.4';\n",
       "\tvar mi_track_user      = true;\n",
       "\tvar mi_no_track_reason = '';\n",
       "\t\n",
       "\tvar disableStr = 'ga-disable-UA-9590310-1';\n",
       "\n",
       "\t/* Function to detect opted out users */\n",
       "\tfunction __gaTrackerIsOptedOut() {\n",
       "\t\treturn document.cookie.indexOf(disableStr + '=true') > -1;\n",
       "\t}\n",
       "\n",
       "\t/* Disable tracking if the opt-out cookie exists. */\n",
       "\tif ( __gaTrackerIsOptedOut() ) {\n",
       "\t\twindow[disableStr] = true;\n",
       "\t}\n",
       "\n",
       "\t/* Opt-out function */\n",
       "\tfunction __gaTrackerOptout() {\n",
       "\t  document.cookie = disableStr + '=true; expires=Thu, 31 Dec 2099 23:59:59 UTC; path=/';\n",
       "\t  window[disableStr] = true;\n",
       "\t}\n",
       "\t\n",
       "\tif ( mi_track_user ) {\n",
       "\t\t(function(i,s,o,g,r,a,m){i['GoogleAnalyticsObject']=r;i[r]=i[r]||function(){\n",
       "\t\t\t(i[r].q=i[r].q||[]).push(arguments)},i[r].l=1*new Date();a=s.createElement(o),\n",
       "\t\t\tm=s.getElementsByTagName(o)[0];a.async=1;a.src=g;m.parentNode.insertBefore(a,m)\n",
       "\t\t})(window,document,'script','https://dlo9n43mpvj20faa12i3i3lh-wpengine.netdna-ssl.com/wp-content/cache/busting/google-tracking/ga-af5c617d36e28d19710b882a6824e213.js','__gaTracker');\n",
       "\n",
       "\t\t__gaTracker('create', 'UA-9590310-1', 'auto');\n",
       "\t\t__gaTracker('set', 'forceSSL', true);\n",
       "\t\t__gaTracker('set', 'anonymizeIp', true);\n",
       "\t\t__gaTracker('require', 'displayfeatures');\n",
       "\t\t__gaTracker('send','pageview');\n",
       "\t} else {\n",
       "\t\tconsole.log( \"\" );\n",
       "\t\t(function() {\n",
       "\t\t\t/* https://developers.google.com/analytics/devguides/collection/analyticsjs/ */\n",
       "\t\t\tvar noopfn = function() {\n",
       "\t\t\t\treturn null;\n",
       "\t\t\t};\n",
       "\t\t\tvar noopnullfn = function() {\n",
       "\t\t\t\treturn null;\n",
       "\t\t\t};\n",
       "\t\t\tvar Tracker = function() {\n",
       "\t\t\t\treturn null;\n",
       "\t\t\t};\n",
       "\t\t\tvar p = Tracker.prototype;\n",
       "\t\t\tp.get = noopfn;\n",
       "\t\t\tp.set = noopfn;\n",
       "\t\t\tp.send = noopfn;\n",
       "\t\t\tvar __gaTracker = function() {\n",
       "\t\t\t\tvar len = arguments.length;\n",
       "\t\t\t\tif ( len === 0 ) {\n",
       "\t\t\t\t\treturn;\n",
       "\t\t\t\t}\n",
       "\t\t\t\tvar f = arguments[len-1];\n",
       "\t\t\t\tif ( typeof f !== 'object' || f === null || typeof f.hitCallback !== 'function' ) {\n",
       "\t\t\t\t\tconsole.log( 'Not running function __gaTracker(' + arguments[0] + \" ....) because you are not being tracked. \" + mi_no_track_reason );\n",
       "\t\t\t\t\treturn;\n",
       "\t\t\t\t}\n",
       "\t\t\t\ttry {\n",
       "\t\t\t\t\tf.hitCallback();\n",
       "\t\t\t\t} catch (ex) {\n",
       "\n",
       "\t\t\t\t}\n",
       "\t\t\t};\n",
       "\t\t\t__gaTracker.create = function() {\n",
       "\t\t\t\treturn new Tracker();\n",
       "\t\t\t};\n",
       "\t\t\t__gaTracker.getByName = noopnullfn;\n",
       "\t\t\t__gaTracker.getAll = function() {\n",
       "\t\t\t\treturn [];\n",
       "\t\t\t};\n",
       "\t\t\t__gaTracker.remove = noopfn;\n",
       "\t\t\twindow['__gaTracker'] = __gaTracker;\n",
       "\t\t\t\t\t})();\n",
       "\t\t}</script> <style type=\"text/css\">img.wp-smiley,img.emoji{display:inline!important;border:none!important;box-shadow:none!important;height:1em!important;width:1em!important;margin:0 .07em!important;vertical-align:-0.1em!important;background:none!important;padding:0!important}</style><link href=\"https://dlo9n43mpvj20faa12i3i3lh-wpengine.netdna-ssl.com/wp-content/cache/busting/1/wp-content/uploads/dynamik-gen/theme/dynamik-min-1585261107.css\" id=\"dynamik_minified_stylesheet-css\" media=\"all\" rel=\"stylesheet\" type=\"text/css\"/><link href=\"//maxcdn.bootstrapcdn.com/font-awesome/4.7.0/css/font-awesome.min.css?ver=4.7.0\" id=\"font-awesome-css\" media=\"all\" rel=\"stylesheet\" type=\"text/css\"/><link data-minify=\"1\" href=\"https://dlo9n43mpvj20faa12i3i3lh-wpengine.netdna-ssl.com/wp-content/cache/min/1/wp-includes/css/dist/block-library/style-257717a61e5611f3ff1a843a309956e6.css\" id=\"wp-block-library-css\" media=\"all\" rel=\"stylesheet\" type=\"text/css\"/><link data-minify=\"1\" href=\"https://dlo9n43mpvj20faa12i3i3lh-wpengine.netdna-ssl.com/wp-content/cache/min/1/wp-content/plugins/fancybox-for-wordpress/assets/css/fancybox-7d3c83d984d4159f16f8eb8384bd2075.css\" id=\"fancybox-css\" media=\"all\" rel=\"stylesheet\" type=\"text/css\"/><link data-minify=\"1\" href=\"https://dlo9n43mpvj20faa12i3i3lh-wpengine.netdna-ssl.com/wp-content/cache/min/1/wp-content/plugins/wp-pagenavi/pagenavi-css-e83b1ab8a498f2bef5849bbb1d2e2bc3.css\" id=\"wp-pagenavi-css\" media=\"all\" rel=\"stylesheet\" type=\"text/css\"/><link href=\"//fonts.googleapis.com/css?family=Libre+Franklin%3A300%2C300i%2C400%2C400i%2C500%2C600%2C700%2C700i&amp;display=swap&amp;ver=2.6.2\" id=\"dynamik_enqueued_google_fonts-css\" media=\"all\" rel=\"stylesheet\" type=\"text/css\"/><link data-minify=\"1\" href=\"https://dlo9n43mpvj20faa12i3i3lh-wpengine.netdna-ssl.com/wp-content/cache/min/1/wp-content/cache/busting/1/sccss-9ad45a6a66a6bf396b37822cf8bba0e6.css\" id=\"scss-css\" media=\"all\" rel=\"stylesheet\" type=\"text/css\"/> <script src=\"https://dlo9n43mpvj20faa12i3i3lh-wpengine.netdna-ssl.com/wp-content/cache/busting/1/wp-includes/js/jquery/jquery-1.12.4-wp.js\" type=\"text/javascript\"></script> <script type=\"text/javascript\">/* <![CDATA[ */ var monsterinsights_frontend = {\"js_events_tracking\":\"true\",\"download_extensions\":\"doc,pdf,ppt,zip,xls,docx,pptx,xlsx\",\"inbound_paths\":\"[]\",\"home_url\":\"https:\\/\\/www.coffeereview.com\",\"hash_tracking\":\"false\"}; /* ]]> */</script> <link href=\"https://www.coffeereview.com/wp-json/\" rel=\"https://api.w.org/\"/><link href=\"https://www.coffeereview.com/xmlrpc.php?rsd\" rel=\"EditURI\" title=\"RSD\" type=\"application/rsd+xml\"/><link href=\"https://dlo9n43mpvj20faa12i3i3lh-wpengine.netdna-ssl.com/wp-includes/wlwmanifest.xml\" rel=\"wlwmanifest\" type=\"application/wlwmanifest+xml\"/><link href=\"https://www.coffeereview.com/?p=19702\" rel=\"shortlink\"/><link href=\"https://www.coffeereview.com/wp-json/oembed/1.0/embed?url=https%3A%2F%2Fwww.coffeereview.com%2Freview%2Fcolombia-finca-la-loma-microlot%2F\" rel=\"alternate\" type=\"application/json+oembed\"/><link href=\"https://www.coffeereview.com/wp-json/oembed/1.0/embed?url=https%3A%2F%2Fwww.coffeereview.com%2Freview%2Fcolombia-finca-la-loma-microlot%2F&amp;format=xml\" rel=\"alternate\" type=\"text/xml+oembed\"/> <style type=\"text/css\">.fancybox-slide--image .fancybox-content{background-color:#FFF}div.fancybox-caption{display:none!important}img.fancybox-image{border-width:10px;border-color:#FFF;border-style:solid;height:auto}div.fancybox-bg{background-color:rgba(102,102,102,.3);opacity:1!important}div.fancybox-content{border-color:#FFF}div#fancybox-title{background-color:#FFF}div.fancybox-content{background-color:#FFF}div#fancybox-title-inside{color:#333}div.fancybox-caption p.caption-title{display:inline-block}div.fancybox-caption p.caption-title{font-size:14px}div.fancybox-caption p.caption-title{color:#333}div.fancybox-caption{color:#333}div.fancybox-caption p.caption-title{background:#fff;width:auto;padding:10px 30px}div.fancybox-content p.caption-title{color:#333;margin:0;padding:5px 0}</style> <script async=\"\" src=\"//pagead2.googlesyndication.com/pagead/js/adsbygoogle.js\"></script> <script>(adsbygoogle = window.adsbygoogle || []).push({\n",
       "google_ad_client: \"ca-pub-7126598963846395\",\n",
       "enable_page_level_ads: true\n",
       "});</script> <link href=\"https://dlo9n43mpvj20faa12i3i3lh-wpengine.netdna-ssl.com/wp-content/uploads/2018/06/cropped-coffee-review-logo-512x512-75x75.png\" rel=\"icon\" sizes=\"32x32\"/><link href=\"https://dlo9n43mpvj20faa12i3i3lh-wpengine.netdna-ssl.com/wp-content/uploads/2018/06/cropped-coffee-review-logo-512x512-300x300.png\" rel=\"icon\" sizes=\"192x192\"/><link href=\"https://dlo9n43mpvj20faa12i3i3lh-wpengine.netdna-ssl.com/wp-content/uploads/2018/06/cropped-coffee-review-logo-512x512-300x300.png\" rel=\"apple-touch-icon-precomposed\"/><meta content=\"https://dlo9n43mpvj20faa12i3i3lh-wpengine.netdna-ssl.com/wp-content/uploads/2018/06/cropped-coffee-review-logo-512x512-300x300.png\" name=\"msapplication-TileImage\"/></head><body class=\"review-template-default single single-review postid-19702 single-format-standard header-image content-sidebar genesis-breadcrumbs-hidden unknown-os ie11 feature-top-outside site-fluid override\"><div class=\"site-container\"><ul class=\"genesis-skip-link\"><li><a class=\"screen-reader-shortcut\" href=\"#genesis-nav-primary\"> Skip to primary navigation</a></li><li><a class=\"screen-reader-shortcut\" href=\"#genesis-content\"> Skip to main content</a></li><li><a class=\"screen-reader-shortcut\" href=\"#genesis-sidebar-primary\"> Skip to primary sidebar</a></li></ul><header class=\"site-header\"><div class=\"wrap\"><div class=\"title-area\"><p class=\"site-title\"><a href=\"https://www.coffeereview.com/\">Coffee Review</a></p><p class=\"site-description\">The World's Leading Coffee Guide</p></div><div class=\"widget-area header-widget-area\"><section class=\"widget widget_text\" id=\"text-11\"><div class=\"widget-wrap\"><div class=\"textwidget\"><form action=\"https://www.coffeereview.com/\" id=\"searchform\" method=\"get\" role=\"search\"><div class=\"header_search_line_1\"> <input checked=\"checked\" id=\"cr_reviews\" name=\"post_type\" type=\"radio\" value=\"review\"/> <label for=\"cr_reviews\">Reviews</label> <input id=\"cr_tasting_reports\" name=\"post_type\" type=\"radio\" value=\"post\"/> <label for=\"cr_tasting_reports\">Tasting Reports</label></div><div class=\"header_search_line_2\"> <input id=\"searchfield\" maxlength=\"50\" name=\"s\" placeholder=\"Enter search terms\" size=\"18\" type=\"search\" value=\"\"/> <input class=\"header_search_button\" type=\"submit\" value=\"Search\"/></div><div class=\"header_search_line_3\"> <a href=\"/advanced-search/\">Advanced Search</a></div></form></div></div></section><section class=\"widget widget_text\" id=\"text-12\"><div class=\"widget-wrap\"><div class=\"textwidget\"><p><a href=\"http://bit.ly/2r1silm\" rel=\"noopener noreferrer\" target=\"_blank\"><img alt=\"Shop for Award-Winning 100% Kona Coffees at Hula Daddy\" class=\"aligncenter size-full wp-image-19359\" height=\"90\" src=\"https://dlo9n43mpvj20faa12i3i3lh-wpengine.netdna-ssl.com/wp-content/uploads/2019/12/Hula-Daddy-Button-1st-place.jpg\" width=\"195\"/></a></p></div></div></section></div></div></header><div class=\"responsive-primary-menu-container\"><h3 class=\"mobile-primary-toggle\"></h3><div class=\"responsive-menu-icon\"> <span class=\"responsive-icon-bar\"></span> <span class=\"responsive-icon-bar\"></span> <span class=\"responsive-icon-bar\"></span></div></div><nav aria-label=\"Main\" class=\"nav-primary\" id=\"genesis-nav-primary\"><div class=\"wrap\"><ul class=\"menu genesis-nav-menu menu-primary js-superfish\" id=\"menu-main\"><li class=\"menu-item menu-item-type-custom menu-item-object-custom menu-item-has-children menu-item-4998\" id=\"menu-item-4998\"><a href=\"https://www.coffeereview.com/review/\"><span>Reviews</span></a><ul class=\"sub-menu\"><li class=\"menu-item menu-item-type-custom menu-item-object-custom menu-item-13553\" id=\"menu-item-13553\"><a href=\"https://www.coffeereview.com/review/\"><span>Latest Reviews</span></a></li><li class=\"menu-item menu-item-type-post_type menu-item-object-page menu-item-13533\" id=\"menu-item-13533\"><a href=\"https://www.coffeereview.com/highest-rated-coffees/\"><span>Top-Rated (94+)</span></a></li><li class=\"menu-item menu-item-type-custom menu-item-object-custom menu-item-18958\" id=\"menu-item-18958\"><a href=\"https://coffeereview.com/types/espresso/\"><span>Espressos</span></a></li><li class=\"menu-item menu-item-type-custom menu-item-object-custom menu-item-13534\" id=\"menu-item-13534\"><a href=\"https://coffeereview.com/types/best-value-coffees/\"><span>Best Values</span></a></li><li class=\"menu-item menu-item-type-custom menu-item-object-custom menu-item-19057\" id=\"menu-item-19057\"><a href=\"https://www.coffeereview.com/top-30-coffees-2019/\"><span>Top 30 Coffees of 2019</span></a></li><li class=\"menu-item menu-item-type-custom menu-item-object-custom menu-item-19632\" id=\"menu-item-19632\"><a href=\"https://www.coffeereview.com/types/coffees-from-taiwan/\"><span>Taiwan Coffees – 台灣送評的咖啡豆</span></a></li><li class=\"menu-item menu-item-type-custom menu-item-object-custom menu-item-19160\" id=\"menu-item-19160\"><a href=\"https://www.coffeereview.com/top-30-coffees-past-rankings/\"><span>Top 30 – Past Rankings</span></a></li><li class=\"menu-item menu-item-type-custom menu-item-object-custom menu-item-13536\" id=\"menu-item-13536\"><a href=\"https://coffeereview.com/types/single-serve-capsule/\"><span>Pods and Capsules</span></a></li><li class=\"menu-item menu-item-type-post_type menu-item-object-page menu-item-18959\" id=\"menu-item-18959\"><a href=\"https://www.coffeereview.com/best-coffee-cities/\"><span>Reviews by U.S. City</span></a></li><li class=\"menu-item menu-item-type-custom menu-item-object-custom menu-item-13857\" id=\"menu-item-13857\"><a href=\"https://www.coffeereview.com/advanced-search/\"><span>Advanced Search</span></a></li></ul></li><li class=\"menu-item menu-item-type-taxonomy menu-item-object-category menu-item-has-children menu-item-18960\" id=\"menu-item-18960\"><a href=\"https://www.coffeereview.com/category/articles/\"><span>Reports</span></a><ul class=\"sub-menu\"><li class=\"menu-item menu-item-type-taxonomy menu-item-object-category menu-item-15819\" id=\"menu-item-15819\"><a href=\"https://www.coffeereview.com/category/articles/\"><span>Latest Reports</span></a></li><li class=\"menu-item menu-item-type-taxonomy menu-item-object-category menu-item-18961\" id=\"menu-item-18961\"><a href=\"https://www.coffeereview.com/category/articles/africa/\"><span>Africa</span></a></li><li class=\"menu-item menu-item-type-taxonomy menu-item-object-category menu-item-18962\" id=\"menu-item-18962\"><a href=\"https://www.coffeereview.com/category/articles/americas/\"><span>Americas</span></a></li><li class=\"menu-item menu-item-type-taxonomy menu-item-object-category menu-item-18964\" id=\"menu-item-18964\"><a href=\"https://www.coffeereview.com/category/articles/asia-pacific-coffees/\"><span>Asia-Pacific</span></a></li><li class=\"menu-item menu-item-type-taxonomy menu-item-object-category menu-item-18966\" id=\"menu-item-18966\"><a href=\"https://www.coffeereview.com/category/articles/espressos/\"><span>Espressos</span></a></li><li class=\"menu-item menu-item-type-taxonomy menu-item-object-category menu-item-18963\" id=\"menu-item-18963\"><a href=\"https://www.coffeereview.com/category/articles/annual-top-30/\"><span>Annual Top 30</span></a></li><li class=\"menu-item menu-item-type-taxonomy menu-item-object-category menu-item-18967\" id=\"menu-item-18967\"><a href=\"https://www.coffeereview.com/category/articles/tasting-report-processing-method/\"><span>Processing Method</span></a></li><li class=\"menu-item menu-item-type-taxonomy menu-item-object-category menu-item-18968\" id=\"menu-item-18968\"><a href=\"https://www.coffeereview.com/category/articles/tasting-reports-social-environmental/\"><span>Social/Environmental</span></a></li><li class=\"menu-item menu-item-type-taxonomy menu-item-object-category menu-item-18969\" id=\"menu-item-18969\"><a href=\"https://www.coffeereview.com/category/articles/tasting-reports-tree-variety/\"><span>Tree Variety</span></a></li><li class=\"menu-item menu-item-type-taxonomy menu-item-object-category menu-item-18965\" id=\"menu-item-18965\"><a href=\"https://www.coffeereview.com/category/articles/coffee-and-espresso-blends/\"><span>Blends</span></a></li></ul></li><li class=\"menu-item menu-item-type-taxonomy menu-item-object-category menu-item-has-children menu-item-15781\" id=\"menu-item-15781\"><a href=\"https://www.coffeereview.com/category/equipment-reports/\"><span>Equipment</span></a><ul class=\"sub-menu\"><li class=\"menu-item menu-item-type-post_type menu-item-object-post menu-item-19622\" id=\"menu-item-19622\"><a href=\"https://www.coffeereview.com/equipment-report-digital-electric-gooseneck-pourover-kettles/\"><span>Electric Gooseneck Kettles</span></a></li><li class=\"menu-item menu-item-type-post_type menu-item-object-page menu-item-19586\" id=\"menu-item-19586\"><a href=\"https://www.coffeereview.com/interpreting-equipment-ratings/\"><span>Interpreting Equipment Ratings</span></a></li></ul></li><li class=\"menu-item menu-item-type-taxonomy menu-item-object-category menu-item-has-children menu-item-12025\" id=\"menu-item-12025\"><a href=\"https://www.coffeereview.com/category/blog/\"><span>Journal</span></a><ul class=\"sub-menu\"><li class=\"menu-item menu-item-type-post_type menu-item-object-post menu-item-19683\" id=\"menu-item-19683\"><a href=\"https://www.coffeereview.com/become-a-coffee-review-member/\"><span>Become a Coffee Review Member</span></a></li><li class=\"menu-item menu-item-type-post_type menu-item-object-post menu-item-19659\" id=\"menu-item-19659\"><a href=\"https://www.coffeereview.com/coffee-lovers-can-help-buy-coffee-online/\"><span>You Can Make a Difference</span></a></li><li class=\"menu-item menu-item-type-taxonomy menu-item-object-category menu-item-19650\" id=\"menu-item-19650\"><a href=\"https://www.coffeereview.com/category/covid-19-info/\"><span>COVID-19 Information</span></a></li></ul></li><li class=\"menu-item menu-item-type-post_type menu-item-object-page menu-item-has-children menu-item-18977\" id=\"menu-item-18977\"><a href=\"https://www.coffeereview.com/our-story/\"><span>About</span></a><ul class=\"sub-menu\"><li class=\"menu-item menu-item-type-post_type menu-item-object-page menu-item-18978\" id=\"menu-item-18978\"><a href=\"https://www.coffeereview.com/our-story/\"><span>Our Story</span></a></li><li class=\"menu-item menu-item-type-post_type menu-item-object-page menu-item-18971\" id=\"menu-item-18971\"><a href=\"https://www.coffeereview.com/kennethdavids/\"><span>Kenneth Davids</span></a></li><li class=\"menu-item menu-item-type-custom menu-item-object-custom menu-item-13913\" id=\"menu-item-13913\"><a href=\"https://www.coffeereview.com/our-team/\"><span>Our Team</span></a></li><li class=\"menu-item menu-item-type-post_type menu-item-object-page menu-item-19050\" id=\"menu-item-19050\"><a href=\"https://www.coffeereview.com/advertisers/\"><span>Our Advertisers</span></a></li><li class=\"menu-item menu-item-type-post_type menu-item-object-page menu-item-19677\" id=\"menu-item-19677\"><a href=\"https://www.coffeereview.com/our-sponsors/\"><span>Our Sponsors</span></a></li><li class=\"menu-item menu-item-type-post_type menu-item-object-page menu-item-has-children menu-item-18975\" id=\"menu-item-18975\"><a href=\"https://www.coffeereview.com/learn/\"><span>Learn</span></a><ul class=\"sub-menu\"><li class=\"menu-item menu-item-type-post_type menu-item-object-page menu-item-18973\" id=\"menu-item-18973\"><a href=\"https://www.coffeereview.com/interpret-coffee/\"><span>Interpreting Coffee Reviews</span></a></li><li class=\"menu-item menu-item-type-post_type menu-item-object-page menu-item-15773\" id=\"menu-item-15773\"><a href=\"https://www.coffeereview.com/coffee-reference/\"><span>Reference</span></a></li><li class=\"menu-item menu-item-type-post_type menu-item-object-page menu-item-18974\" id=\"menu-item-18974\"><a href=\"https://www.coffeereview.com/coffee-glossary/\"><span>Glossary</span></a></li></ul></li><li class=\"menu-item menu-item-type-post_type menu-item-object-page menu-item-8925\" id=\"menu-item-8925\"><a href=\"https://www.coffeereview.com/contact/\"><span>Contact Us</span></a></li></ul></li><li class=\"menu-item menu-item-type-custom menu-item-object-custom menu-item-has-children menu-item-18956\" id=\"menu-item-18956\"><a href=\"#\"><span>Trade</span></a><ul class=\"sub-menu\"><li class=\"menu-item menu-item-type-post_type menu-item-object-page menu-item-13549\" id=\"menu-item-13549\"><a href=\"https://www.coffeereview.com/calendar/\"><span>Tasting Report Calendar</span></a></li><li class=\"menu-item menu-item-type-post_type menu-item-object-page menu-item-13548\" id=\"menu-item-13548\"><a href=\"https://www.coffeereview.com/review-services/\"><span>Getting Coffees Reviewed</span></a></li><li class=\"menu-item menu-item-type-post_type menu-item-object-post menu-item-19667\" id=\"menu-item-19667\"><a href=\"https://www.coffeereview.com/espresso-rating-on-hold-for-covid-19/\"><span>Espresso Testing On Hold</span></a></li><li class=\"menu-item menu-item-type-post_type menu-item-object-page menu-item-18970\" id=\"menu-item-18970\"><a href=\"https://www.coffeereview.com/guidelines/\"><span>Quoting Reviews</span></a></li><li class=\"menu-item menu-item-type-post_type menu-item-object-page menu-item-19643\" id=\"menu-item-19643\"><a href=\"https://www.coffeereview.com/award-certificates/\"><span>Award Certificates</span></a></li><li class=\"menu-item menu-item-type-post_type menu-item-object-page menu-item-13543\" id=\"menu-item-13543\"><a href=\"https://www.coffeereview.com/advertising/\"><span>Becoming an Advertiser</span></a></li><li class=\"menu-item menu-item-type-post_type menu-item-object-page menu-item-19389\" id=\"menu-item-19389\"><a href=\"https://www.coffeereview.com/what-we-would-do-campaign-packages/\"><span>Campaign Package Deals</span></a></li><li class=\"menu-item menu-item-type-custom menu-item-object-custom menu-item-13544\" id=\"menu-item-13544\"><a href=\"https://dlo9n43mpvj20faa12i3i3lh-wpengine.netdna-ssl.com/wp-content/uploads/2020/01/CR_Media_Kit_Jan_2020_v5.pdf\" rel=\"noopener noreferrer\" target=\"_blank\"><span>Media Kit</span></a></li></ul></li><li class=\"menu-item menu-item-type-taxonomy menu-item-object-category menu-item-has-children menu-item-19651\" id=\"menu-item-19651\"><a href=\"https://www.coffeereview.com/category/covid-19-info/\"><span>COVID-19</span></a><ul class=\"sub-menu\"><li class=\"menu-item menu-item-type-post_type menu-item-object-post menu-item-19666\" id=\"menu-item-19666\"><a href=\"https://www.coffeereview.com/covid-19-message-from-coffee-review/\"><span>Message from Coffee Review</span></a></li><li class=\"menu-item menu-item-type-post_type menu-item-object-page menu-item-19668\" id=\"menu-item-19668\"><a href=\"https://www.coffeereview.com/advertisers/\"><span>Please Support Our Advertisers</span></a></li><li class=\"menu-item menu-item-type-post_type menu-item-object-post menu-item-19665\" id=\"menu-item-19665\"><a href=\"https://www.coffeereview.com/espresso-rating-on-hold-for-covid-19/\"><span>Espresso Testing On Hold</span></a></li></ul></li><li class=\"menu-item menu-item-type-taxonomy menu-item-object-category menu-item-has-children menu-item-19401\" id=\"menu-item-19401\"><a href=\"https://www.coffeereview.com/category/blog/green-coffee-origins-and-issues/\"><span>中文 – Chinese</span></a><ul class=\"sub-menu\"><li class=\"menu-item menu-item-type-custom menu-item-object-custom menu-item-13537\" id=\"menu-item-13537\"><a href=\"/types/coffees-from-taiwan/\"><span>台灣送評的咖啡豆</span></a></li><li class=\"menu-item menu-item-type-post_type menu-item-object-page menu-item-19392\" id=\"menu-item-19392\"><a href=\"https://www.coffeereview.com/%e5%a6%82%e4%bd%95%e5%b0%87%e6%82%a8%e7%9a%84%e5%92%96-%e5%95%a1%e9%80%81%e8%a9%95/\"><span>如何將您的咖啡送評</span></a></li><li class=\"menu-item menu-item-type-post_type menu-item-object-page menu-item-19400\" id=\"menu-item-19400\"><a href=\"https://www.coffeereview.com/%e8%a1%8c%e9%8a%b7%e6%94%bb%e7%95%a5-%e4%bf%83%e9%8a%b7%e6%b4%bb%e5%8b%95/\"><span>“行銷攻略” 促銷活動</span></a></li></ul></li><li class=\"menu-item menu-item-type-post_type menu-item-object-page menu-item-has-children menu-item-19674\" id=\"menu-item-19674\"><a href=\"https://www.coffeereview.com/why-become-a-member/\"><span>Members</span></a><ul class=\"sub-menu\"><li class=\"menu-item menu-item-type-post_type menu-item-object-page menu-item-19676\" id=\"menu-item-19676\"><a href=\"https://www.coffeereview.com/why-become-a-member/\"><span>Why Become a Member</span></a></li><li class=\"menu-item menu-item-type-post_type menu-item-object-page menu-item-19673\" id=\"menu-item-19673\"><a href=\"https://www.coffeereview.com/member-benefits/\"><span>Member Benefits</span></a></li><li class=\"menu-item menu-item-type-post_type menu-item-object-page menu-item-19675\" id=\"menu-item-19675\"><a href=\"https://www.coffeereview.com/our-sponsors/\"><span>Our Sponsors</span></a></li><li class=\"menu-item menu-item-type-post_type menu-item-object-page menu-item-19671\" id=\"menu-item-19671\"><a href=\"https://www.coffeereview.com/programs-and-initiatives/\"><span>Programs and Initiatives</span></a></li><li class=\"menu-item menu-item-type-post_type menu-item-object-page menu-item-19672\" id=\"menu-item-19672\"><a href=\"https://www.coffeereview.com/member-support/\"><span>Member Support</span></a></li></ul></li></ul></div></nav><div class=\"site-inner\"><div class=\"content-sidebar-wrap\"><main class=\"content\" id=\"genesis-content\"><article class=\"post-19702 review type-review status-publish format-standard types-best-value-coffees types-bourbon types-colombia types-estate types-estates types-washed-wet entry override\"><header class=\"entry-header\"></header><div class=\"entry-content\"><div class=\"review-template\"><div class=\"row row-1\"><div class=\"column col-1\"> <span class=\"review-template-rating\">94</span></div><div class=\"column col-2\"><p class=\"review-roaster\">BeanFruit Coffee Co.</p><h1 class=\"review-title\">Colombia Finca La Loma Microlot</h1></div><div class=\"column col-3\"></div></div><div class=\"row row-2\"><div class=\"column col-1\"><table class=\"review-template-table\"><tr><td>Roaster Location:</td><td>Jackson, Mississippi</td></tr><tr><td>Coffee Origin:</td><td>Huila, Colombia</td></tr><tr><td>Roast Level:</td><td>Medium-Light</td></tr><tr><td>Agtron:</td><td>58/76</td></tr><tr><td>Est. Price:</td><td>$16.50/12 ounces</td></tr></table></div><div class=\"column col-2\"><table class=\"review-template-table\"><tr><td>Review Date:</td><td>March 2020</td></tr><tr><td>Aroma:</td><td>9</td></tr><tr><td>Acidity /Structure :</td><td>9</td></tr><tr><td>Body:</td><td>9</td></tr><tr><td>Flavor:</td><td>9</td></tr><tr><td>Aftertaste:</td><td>8</td></tr></table></div></div><p><strong>Blind Assessment: </strong>High-toned, sweetly tart. Bing cherry, cocoa nib, honeysuckle, cedar, a hint of thyme in aroma and cup. Sweet-tart structure with bright, juicy acidity. Full, syrupy mouthfeel. The engaging finish leads with notes of cherry and honeysuckle, and cocoa nib resurfaces in the long.</p><p><strong>Notes: </strong><span style=\"font-weight: 400;\">Produced at Finca La Loma of the Pink Bourbon, Colombia and Castillo varieties of Arabica and processed by the wet, or washed, method. BeanFruit Coffee Co. is an award-winning coffee roasting company located in the Jackson, Mississippi metro area that provides fresh-roasted coffee with a focus on single origins. Visit www.beanfruit.com or call 601-624-2605 for more information.</span></p><p><strong> The Bottom Line : </strong>An exceptional Colombia cup with sweet and tart impulses in balance: deeply sweet florals and bright fruit notes throughout.</p><div class=\"row row-3\"><div class=\"column col-1\"> <strong><a href=\"/all-reviews/?roaster_name=BeanFruit+Coffee+Co.\" title=\"Show all reviews for this roaster\">Show all reviews for this roaster</a></strong></div><div class=\"column col-2\"></div></div></div></div><footer class=\"entry-footer\"></footer></article><img alt=\"\" class=\"dynamik-content-filler-img\" src=\"https://dlo9n43mpvj20faa12i3i3lh-wpengine.netdna-ssl.com/wp-content/themes/dynamik-gen/images/content-filler.png\"/></main><aside aria-label=\"Primary Sidebar\" class=\"sidebar sidebar-primary widget-area\" id=\"genesis-sidebar-primary\" role=\"complementary\"><h2 class=\"genesis-sidebar-title screen-reader-text\">Primary Sidebar</h2><section class=\"widget widget_advertiser_ad\" id=\"advertiser_ad-3\"><div class=\"widget-wrap\"></div></section><section class=\"widget strong-testimonials-view-widget\" id=\"strong-testimonials-view-widget-2\"><div class=\"widget-wrap\"><div class=\"strong-view strong-view-id-1 unstyled slider-container slider-mode-fade slider-adaptive\" data-count=\"15\" data-slider-var=\"strong_slider_id_1\" data-state=\"idle\"><div class=\"strong-content wpmslider-content\"><div class=\"testimonial t-slide post-18250\"><div class=\"testimonial-inner\"><div class=\"testimonial-content\"><div class=\"maybe-clear\"></div><p><a href=\"http://bit.ly/2JnSg7P\" rel=\"noopener noreferrer\" target=\"_blank\"><img alt=\"Shop for top-rated coffees at GoCoffeeGo\" class=\"aligncenter size-medium wp-image-18252\" height=\"250\" src=\"https://dlo9n43mpvj20faa12i3i3lh-wpengine.netdna-ssl.com/wp-content/uploads/2019/05/GoCoffeeGo-300x250-300x250.png\" width=\"300\"/></a></p></div><div class=\"clear\"></div></div></div><div class=\"testimonial t-slide post-19639\"><div class=\"testimonial-inner\"><div class=\"testimonial-content\"><div class=\"maybe-clear\"></div><p><a href=\"https://javadoro.com/collections/espresso/products/espresso-supremo\" rel=\"noopener noreferrer\" target=\"_blank\"><img alt=\"Java D'oro Espresso Supremo\" class=\"aligncenter size-medium wp-image-19640\" height=\"250\" sizes=\"(max-width: 300px) 100vw, 300px\" src=\"https://dlo9n43mpvj20faa12i3i3lh-wpengine.netdna-ssl.com/wp-content/uploads/2020/03/Java-Doro-Espresso-Supremo-Banner-01-300x250.jpg\" srcset=\"https://dlo9n43mpvj20faa12i3i3lh-wpengine.netdna-ssl.com/wp-content/uploads/2020/03/Java-Doro-Espresso-Supremo-Banner-01-300x250.jpg 300w, https://dlo9n43mpvj20faa12i3i3lh-wpengine.netdna-ssl.com/wp-content/uploads/2020/03/Java-Doro-Espresso-Supremo-Banner-01-1024x854.jpg 1024w, https://dlo9n43mpvj20faa12i3i3lh-wpengine.netdna-ssl.com/wp-content/uploads/2020/03/Java-Doro-Espresso-Supremo-Banner-01-768x640.jpg 768w, https://dlo9n43mpvj20faa12i3i3lh-wpengine.netdna-ssl.com/wp-content/uploads/2020/03/Java-Doro-Espresso-Supremo-Banner-01.jpg 1250w\" width=\"300\"/></a></p></div><div class=\"clear\"></div></div></div><div class=\"testimonial t-slide post-18224\"><div class=\"testimonial-inner\"><div class=\"testimonial-content\"><div class=\"maybe-clear\"></div><p><a href=\"http://bit.ly/2PBahEr\" rel=\"noopener noreferrer\" target=\"_blank\"><img alt=\"\" class=\"size-medium wp-image-17555 aligncenter\" height=\"250\" src=\"https://dlo9n43mpvj20faa12i3i3lh-wpengine.netdna-ssl.com/wp-content/uploads/2017/10/Hula-Daddy-300x250-Dec18-300x250.jpg\" width=\"300\"/></a></p></div><div class=\"clear\"></div></div></div><div class=\"testimonial t-slide post-18363\"><div class=\"testimonial-inner\"><div class=\"testimonial-content\"><div class=\"maybe-clear\"></div><p><a href=\"http://bit.ly/2nauggq\" rel=\"noopener noreferrer\" target=\"_blank\"><img alt=\"Shop for top-rated coffees at JBC Coffee\" class=\"aligncenter size-medium wp-image-18365\" height=\"250\" src=\"https://dlo9n43mpvj20faa12i3i3lh-wpengine.netdna-ssl.com/wp-content/uploads/2019/05/JBC_CR_Ad_2018-300x250.jpg\" width=\"300\"/></a></p></div><div class=\"clear\"></div></div></div><div class=\"testimonial t-slide post-19353\"><div class=\"testimonial-inner\"><div class=\"testimonial-content\"><div class=\"maybe-clear\"></div><p><a href=\"http://bit.ly/2ROZ4Rw\" rel=\"noopener noreferrer\" target=\"_blank\"><img alt=\"Discover Press House Coffee\" class=\"aligncenter size-full wp-image-19354\" height=\"250\" src=\"https://dlo9n43mpvj20faa12i3i3lh-wpengine.netdna-ssl.com/wp-content/uploads/2019/12/banner-1.jpg\" width=\"300\"/></a></p></div><div class=\"clear\"></div></div></div><div class=\"testimonial t-slide post-18221\"><div class=\"testimonial-inner\"><div class=\"testimonial-content\"><div class=\"maybe-clear\"></div><p><a href=\"https://www.durangocoffee.com/\" rel=\"noopener noreferrer\" target=\"_blank\"><img alt=\"Shop for top-rated coffees at Durango Coffee Company\" class=\"aligncenter wp-image-16445\" height=\"249\" src=\"https://dlo9n43mpvj20faa12i3i3lh-wpengine.netdna-ssl.com/wp-content/uploads/2018/01/Durango-300x250-0218.jpg\" width=\"301\"/></a></p></div><div class=\"clear\"></div></div></div><div class=\"testimonial t-slide post-19386\"><div class=\"testimonial-inner\"><div class=\"testimonial-content\"><div class=\"maybe-clear\"></div><p><a href=\"https://poorrockabbey.com/product/kona-se/\" rel=\"noopener noreferrer\" target=\"_blank\"><img alt=\"Shop for Poorrock Abbey Kona coffee\" class=\"aligncenter wp-image-19646 size-full\" height=\"250\" src=\"https://dlo9n43mpvj20faa12i3i3lh-wpengine.netdna-ssl.com/wp-content/uploads/2020/01/CofRevSideBoxKona2.jpg\" width=\"300\"/></a></p></div><div class=\"clear\"></div></div></div><div class=\"testimonial t-slide post-18220\"><div class=\"testimonial-inner\"><div class=\"testimonial-content\"><div class=\"maybe-clear\"></div><p><a href=\"https://dragonflycoffeeroasters.com/\" rel=\"noopener noreferrer\" target=\"_blank\"><img alt=\"Dragonfly Banner - 300x250\" class=\"aligncenter wp-image-19576 size-medium\" height=\"251\" sizes=\"(max-width: 300px) 100vw, 300px\" src=\"https://dlo9n43mpvj20faa12i3i3lh-wpengine.netdna-ssl.com/wp-content/uploads/2019/04/Dragonfly-Banner-2020-300x251.png\" srcset=\"https://dlo9n43mpvj20faa12i3i3lh-wpengine.netdna-ssl.com/wp-content/uploads/2019/04/Dragonfly-Banner-2020-300x251.png 300w, https://dlo9n43mpvj20faa12i3i3lh-wpengine.netdna-ssl.com/wp-content/uploads/2019/04/Dragonfly-Banner-2020.png 376w\" width=\"300\"/></a></p></div><div class=\"clear\"></div></div></div><div class=\"testimonial t-slide post-19526\"><div class=\"testimonial-inner\"><div class=\"testimonial-content\"><div class=\"maybe-clear\"></div><p><a href=\"http://bit.ly/38tepgl\" rel=\"noopener noreferrer\" target=\"_blank\"><img alt=\"Bean Box Talking Bag Banner\" class=\"aligncenter size-full wp-image-19527\" height=\"250\" src=\"https://dlo9n43mpvj20faa12i3i3lh-wpengine.netdna-ssl.com/wp-content/uploads/2020/02/TalkingBagsSK.jpg\" width=\"300\"/></a></p></div><div class=\"clear\"></div></div></div><div class=\"testimonial t-slide post-18247\"><div class=\"testimonial-inner\"><div class=\"testimonial-content\"><div class=\"maybe-clear\"></div><p><a href=\"https://bit.ly/2YzAG70\" rel=\"noopener noreferrer\" target=\"_blank\"><img alt=\"Shop for top-rated coffees at Trade Coffee Co.\" class=\"aligncenter size-medium wp-image-18249\" height=\"250\" src=\"https://dlo9n43mpvj20faa12i3i3lh-wpengine.netdna-ssl.com/wp-content/uploads/2019/05/TRD-Coffee-Review-AD-300x250.jpg\" width=\"300\"/></a></p></div><div class=\"clear\"></div></div></div><div class=\"testimonial t-slide post-18437\"><div class=\"testimonial-inner\"><div class=\"testimonial-content\"><div class=\"maybe-clear\"></div><p><a href=\"https://www.peachcoffeeroasters.com/\"><img alt=\"Enjoy Free Shipping at Peach Coffee\" class=\"aligncenter wp-image-19686 size-medium\" height=\"250\" sizes=\"(max-width: 300px) 100vw, 300px\" src=\"https://dlo9n43mpvj20faa12i3i3lh-wpengine.netdna-ssl.com/wp-content/uploads/2019/05/Q1-Ad_Updated-01-300x250.jpeg\" srcset=\"https://dlo9n43mpvj20faa12i3i3lh-wpengine.netdna-ssl.com/wp-content/uploads/2019/05/Q1-Ad_Updated-01-300x250.jpeg 300w, https://dlo9n43mpvj20faa12i3i3lh-wpengine.netdna-ssl.com/wp-content/uploads/2019/05/Q1-Ad_Updated-01.jpeg 625w\" width=\"300\"/></a></p></div><div class=\"clear\"></div></div></div><div class=\"testimonial t-slide post-18241\"><div class=\"testimonial-inner\"><div class=\"testimonial-content\"><div class=\"maybe-clear\"></div><p><a href=\"https://www.kakalovecafe.com.tw/categories/55080dba0390558ae2000043\" rel=\"noopener noreferrer\" target=\"_blank\"><img alt=\"Shop for top-rated coffees at Kakalove in Taiwan\" class=\"aligncenter size-medium wp-image-18820\" height=\"250\" src=\"https://dlo9n43mpvj20faa12i3i3lh-wpengine.netdna-ssl.com/wp-content/uploads/2019/04/KAKALOVE_ad-300x250.jpg\" width=\"300\"/></a></p></div><div class=\"clear\"></div></div></div><div class=\"testimonial t-slide post-18237\"><div class=\"testimonial-inner\"><div class=\"testimonial-content\"><div class=\"maybe-clear\"></div><p><a href=\"https://amavida.com/\" rel=\"noopener noreferrer\" target=\"_blank\"><img alt=\"Shop for top-rated coffees at Amavida Coffee Roasters\" class=\"aligncenter size-medium wp-image-17818\" height=\"250\" src=\"https://dlo9n43mpvj20faa12i3i3lh-wpengine.netdna-ssl.com/wp-content/uploads/2019/02/013_coffee_review_14-300x250.jpg\" width=\"300\"/></a></p></div><div class=\"clear\"></div></div></div><div class=\"testimonial t-slide post-18239\"><div class=\"testimonial-inner\"><div class=\"testimonial-content\"><div class=\"maybe-clear\"></div><p><a href=\"https://barringtoncoffee.com/product-category/all-coffees/\" rel=\"noopener noreferrer\" target=\"_blank\"><img alt=\"Shop for Top-rated coffees at Barrington Coffee Roasters\" class=\"aligncenter size-medium wp-image-17787\" height=\"250\" src=\"https://dlo9n43mpvj20faa12i3i3lh-wpengine.netdna-ssl.com/wp-content/uploads/2018/05/BCRC_CR-Ads-300x250_2018awards-300x250.jpg\" width=\"300\"/></a></p></div><div class=\"clear\"></div></div></div><div class=\"testimonial t-slide post-18232\"><div class=\"testimonial-inner\"><div class=\"testimonial-content\"><div class=\"maybe-clear\"></div><p><a href=\"https://paradiseroasters.com/\" rel=\"noopener noreferrer\" target=\"_blank\"><img alt=\"Shop for top-rated coffees at Paradise Roasters\" class=\"size-medium wp-image-17673 aligncenter\" height=\"250\" sizes=\"(max-width: 300px) 100vw, 300px\" src=\"https://dlo9n43mpvj20faa12i3i3lh-wpengine.netdna-ssl.com/wp-content/uploads/2018/12/cr-paradise-2-300x250.jpg\" srcset=\"https://dlo9n43mpvj20faa12i3i3lh-wpengine.netdna-ssl.com/wp-content/uploads/2018/12/cr-paradise-2-300x250.jpg 300w, https://dlo9n43mpvj20faa12i3i3lh-wpengine.netdna-ssl.com/wp-content/uploads/2018/12/cr-paradise-2.jpg 600w\" width=\"300\"/></a></p></div><div class=\"clear\"></div></div></div></div></div></div></section><section class=\"widget widget_text\" id=\"text-3\"><div class=\"widget-wrap\"><div class=\"textwidget\"><h3><a href=\"https://www.coffeereview.com/advertising/\" title=\"Become an advertiser\">Become an advertiser</a></h3></div></div></section><section class=\"widget widget_text\" id=\"text-16\"><div class=\"widget-wrap\"><div class=\"textwidget\"><p><a href=\"https://www.jbccoffeeroasters.com\" rel=\"noopener noreferrer\" target=\"_blank\"><img alt=\"Shop for top-rated coffees at JBC Coffee\" class=\"aligncenter wp-image-18666 size-medium\" height=\"250\" src=\"https://dlo9n43mpvj20faa12i3i3lh-wpengine.netdna-ssl.com/wp-content/uploads/2019/08/JBC_CR_Ad_2018-300x250-300x250.jpg\" width=\"300\"/></a></p></div></div></section><section class=\"widget widget_text\" id=\"text-5\"><div class=\"widget-wrap\"><div class=\"textwidget\"><h3><a href=\"https://www.coffeereview.com/review-services/\" title=\"Get coffees reviewed\">Get Coffees Reviewed</a></h3></div></div></section><section class=\"widget widget_text\" id=\"text-14\"><div class=\"widget-wrap\"><div class=\"textwidget\"><p><a href=\"https://dragonflycoffeeroasters.com/\" rel=\"noopener noreferrer\" target=\"_blank\"><img alt=\"Dragonfly Banner - 300x250\" class=\"aligncenter wp-image-19576 size-medium\" height=\"251\" src=\"https://dlo9n43mpvj20faa12i3i3lh-wpengine.netdna-ssl.com/wp-content/uploads/2019/04/Dragonfly-Banner-2020-300x251.png\" width=\"300\"/></a></p></div></div></section><section class=\"widget widget_text\" id=\"text-15\"><div class=\"widget-wrap\"><div class=\"textwidget\"><p><a href=\"https://jackrabbitjava.com/\" rel=\"noopener noreferrer\" target=\"_blank\"><img alt=\"Shop for top-rated coffees at great prices at Jackrabbit Java\" class=\"aligncenter size-medium wp-image-19704\" height=\"190\" src=\"https://dlo9n43mpvj20faa12i3i3lh-wpengine.netdna-ssl.com/wp-content/uploads/2018/11/2x_BannerAd_JRJV_2020-300x190.png\" width=\"300\"/></a></p></div></div></section><section class=\"widget widget_lsi_widget\" id=\"lsi_widget-2\"><div class=\"widget-wrap\"><h3 class=\"widgettitle widget-title\">Connect with Us</h3><ul class=\"lsi-social-icons icon-set-lsi_widget-2\" style=\"text-align: left\"><li class=\"lsi-social-rss\"><a aria-label=\"RSS\" class=\"\" href=\"/feed/\" rel=\"nofollow noopener noreferrer\" target=\"_blank\" title=\"RSS\"><i class=\"lsicon lsicon-rss\"></i></a></li><li class=\"lsi-social-facebook\"><a aria-label=\"Facebook\" class=\"\" href=\"https://www.facebook.com/drinkgreatcoffee/\" rel=\"nofollow noopener noreferrer\" target=\"_blank\" title=\"Facebook\"><i class=\"lsicon lsicon-facebook\"></i></a></li><li class=\"lsi-social-twitter\"><a aria-label=\"Twitter\" class=\"\" href=\"https://twitter.com/coffeereview\" rel=\"nofollow noopener noreferrer\" target=\"_blank\" title=\"Twitter\"><i class=\"lsicon lsicon-twitter\"></i></a></li></ul></div></section><section class=\"widget_text widget widget_custom_html\" id=\"custom_html-2\"><div class=\"widget_text widget-wrap\"><h3 class=\"widgettitle widget-title\">Sign Up for Our Free E-Newsletter</h3><div class=\"textwidget custom-html-widget\">Enter your email address below to receive our free e-mail newsletter<div id=\"mc_embed_signup\"><form action=\"https://coffeereview.us12.list-manage.com/subscribe/post?u=2b3bcbab98fd5c16c3938eb51&amp;id=3b3e08e725\" class=\"validate\" id=\"mc-embedded-subscribe-form\" method=\"post\" name=\"mc-embedded-subscribe-form\" novalidate=\"\" target=\"_blank\"><div id=\"mc_embed_signup_scroll\"> <input class=\"email\" id=\"mce-EMAIL\" name=\"EMAIL\" placeholder=\"Email\" required=\"\" style=\"width: 95%;\" type=\"email\" value=\"\"><div aria-hidden=\"true\" style=\"position: absolute; left: -5000px;\"><input name=\"b_2b3bcbab98fd5c16c3938eb51_3b3e08e725\" tabindex=\"-1\" type=\"text\" value=\"\"/></div><div class=\"clear\"><input class=\"button\" id=\"mc-embedded-subscribe\" name=\"subscribe\" type=\"submit\" value=\"Sign Up\"/></div></input></div></form></div></div></div></section></aside></div></div><div class=\"clearfix\" id=\"ez-fat-footer-container-wrap\"><div class=\"clearfix\" id=\"ez-fat-footer-container\"><div class=\"widget-area ez-widget-area ez-only\" id=\"ez-fat-footer-1\"><section class=\"widget widget_nav_menu\" id=\"nav_menu-4\"><div class=\"widget-wrap\"><div class=\"menu-footer-menu-container\"><ul class=\"menu\" id=\"menu-footer-menu\"><li class=\"menu-item menu-item-type-custom menu-item-object-custom menu-item-8641\" id=\"menu-item-8641\"><a href=\"https://www.coffeereview.com/review\">Coffee Reviews</a></li><li class=\"menu-item menu-item-type-taxonomy menu-item-object-category menu-item-8642\" id=\"menu-item-8642\"><a href=\"https://www.coffeereview.com/category/articles/\">Tasting Reports</a></li><li class=\"menu-item menu-item-type-post_type menu-item-object-page menu-item-8643\" id=\"menu-item-8643\"><a href=\"https://www.coffeereview.com/coffee-reference/\">Reference</a></li><li class=\"menu-item menu-item-type-post_type menu-item-object-page menu-item-8644\" id=\"menu-item-8644\"><a href=\"https://www.coffeereview.com/coffee-glossary/\">Glossary</a></li><li class=\"menu-item menu-item-type-post_type menu-item-object-page menu-item-8718\" id=\"menu-item-8718\"><a href=\"https://www.coffeereview.com/advertisers/\">Please Support Our Advertisers</a></li><li class=\"menu-item menu-item-type-post_type menu-item-object-page menu-item-8998\" id=\"menu-item-8998\"><a href=\"https://www.coffeereview.com/contact/\">Contact Us</a></li><li class=\"menu-item menu-item-type-taxonomy menu-item-object-category menu-item-12058\" id=\"menu-item-12058\"><a href=\"https://www.coffeereview.com/category/blog/\">Journal</a></li></ul></div></div></section><section class=\"widget widget_nav_menu\" id=\"nav_menu-5\"><div class=\"widget-wrap\"><div class=\"menu-footer-middle-container\"><ul class=\"menu\" id=\"menu-footer-middle\"><li class=\"menu-item menu-item-type-post_type menu-item-object-page menu-item-8981\" id=\"menu-item-8981\"><a href=\"https://www.coffeereview.com/our-team/\">Kenneth Davids</a></li><li class=\"menu-item menu-item-type-post_type menu-item-object-page menu-item-8982\" id=\"menu-item-8982\"><a href=\"https://www.coffeereview.com/interpret-coffee/\">Interpreting Coffee Reviews</a></li><li class=\"menu-item menu-item-type-post_type menu-item-object-page menu-item-8983\" id=\"menu-item-8983\"><a href=\"https://www.coffeereview.com/coffee-caveats/\">Caveats about Coffee Ratings</a></li><li class=\"menu-item menu-item-type-post_type menu-item-object-page menu-item-8984\" id=\"menu-item-8984\"><a href=\"https://www.coffeereview.com/calendar/\">Editorial Calendar</a></li><li class=\"menu-item menu-item-type-post_type menu-item-object-page menu-item-8986\" id=\"menu-item-8986\"><a href=\"https://www.coffeereview.com/review-services/\">Getting Coffees Reviewed</a></li><li class=\"menu-item menu-item-type-post_type menu-item-object-page menu-item-8987\" id=\"menu-item-8987\"><a href=\"https://www.coffeereview.com/sitemap/\">Site Map</a></li></ul></div></div></section><section class=\"widget widget_nav_menu\" id=\"nav_menu-6\"><div class=\"widget-wrap\"><div class=\"menu-footer-bottom-container\"><ul class=\"menu\" id=\"menu-footer-bottom\"><li class=\"menu-item menu-item-type-post_type menu-item-object-page menu-item-12083\" id=\"menu-item-12083\"><a href=\"https://www.coffeereview.com/advertising/\">Advertising Opportunities</a></li><li class=\"menu-item menu-item-type-post_type menu-item-object-page menu-item-8989\" id=\"menu-item-8989\"><a href=\"https://www.coffeereview.com/guidelines/\">Quoting Reviews</a></li><li class=\"menu-item menu-item-type-post_type menu-item-object-page menu-item-8990\" id=\"menu-item-8990\"><a href=\"https://www.coffeereview.com/copyright/\">Copyright</a></li><li class=\"menu-item menu-item-type-post_type menu-item-object-page menu-item-8991\" id=\"menu-item-8991\"><a href=\"https://www.coffeereview.com/terms/\">Terms of Use</a></li><li class=\"menu-item menu-item-type-post_type menu-item-object-page menu-item-8992\" id=\"menu-item-8992\"><a href=\"https://www.coffeereview.com/privacy/\">Privacy Policy</a></li><li class=\"menu-item menu-item-type-post_type menu-item-object-page menu-item-8993\" id=\"menu-item-8993\"><a href=\"https://www.coffeereview.com/security/\">Site Security</a></li></ul></div></div></section></div></div></div><footer class=\"site-footer\"><div class=\"wrap\"><p>Copyright © 2020 Coffee Review. All Rights Reserved.</p></div></footer></div><link href=\"https://dlo9n43mpvj20faa12i3i3lh-wpengine.netdna-ssl.com/wp-content/cache/busting/1/wp-content/plugins/lightweight-social-icons/css/style-min-1.1.css\" id=\"lsi-style-css\" media=\"all\" rel=\"stylesheet\" type=\"text/css\"/><style id=\"lsi-style-inline-css\" type=\"text/css\">.icon-set-lsi_widget-2 a,.icon-set-lsi_widget-2 a:visited,.icon-set-lsi_widget-2 a:focus{border-radius:0;background:#1E72BD!important;color:#FFFFFF!important;font-size:24px!important}.icon-set-lsi_widget-2 a:hover{background:#777777!important;color:#FFFFFF!important}</style> <script type=\"text/javascript\">/* <![CDATA[ */ var MyAjax = {\"ajaxurl\":\"https:\\/\\/www.coffeereview.com\\/wp-admin\\/admin-ajax.php\"}; /* ]]> */</script> <script type=\"text/javascript\">/* <![CDATA[ */ var strong_slider_id_1 = {\"config\":{\"mode\":\"fade\",\"speed\":1000,\"pause\":5000,\"autoHover\":0,\"autoStart\":1,\"stopAutoOnClick\":0,\"adaptiveHeight\":1,\"adaptiveHeightSpeed\":500,\"controls\":0,\"autoControls\":0,\"pager\":0,\"slideCount\":15,\"debug\":true,\"compat\":{\"lazyload\":{\"active\":false,\"classes\":[]}},\"touchEnabled\":false,\"type\":\"show_single\",\"breakpoints\":{\"single\":{\"maxSlides\":1,\"moveSlides\":1,\"slideMargin\":1},\"multiple\":{\"desktop\":{\"width\":1200,\"maxSlides\":2,\"moveSlides\":1,\"slideMargin\":20},\"large\":{\"width\":1024,\"maxSlides\":2,\"moveSlides\":1,\"slideMargin\":20},\"medium\":{\"width\":640,\"maxSlides\":1,\"moveSlides\":1,\"slideMargin\":10},\"small\":{\"width\":480,\"maxSlides\":1,\"moveSlides\":1,\"slideMargin\":1}}}}}; /* ]]> */</script> <script type=\"text/javascript\">/* <![CDATA[ */ var strongControllerParms = {\"initializeOn\":\"documentReady\",\"method\":\"\",\"universalTimer\":\"500\",\"observerTimer\":\"500\",\"event\":\"\",\"script\":\"\",\"containerId\":\"page\",\"addedNodeId\":\"content\",\"debug\":\"1\"}; /* ]]> */</script> <script data-minify=\"1\" defer=\"\" src=\"https://dlo9n43mpvj20faa12i3i3lh-wpengine.netdna-ssl.com/wp-content/cache/min/1/157bab5e65c88eac3c2a6adc2a21d455.js\"></script></body></html>\n",
       "<!-- This website is like a Rocket, isn't it? Performance optimized by WP Rocket. Learn more: https://wp-rocket.me -->"
      ]
     },
     "execution_count": 47,
     "metadata": {},
     "output_type": "execute_result"
    }
   ],
   "source": [
    "page_soup"
   ]
  },
  {
   "cell_type": "code",
   "execution_count": 68,
   "metadata": {},
   "outputs": [],
   "source": [
    "# looking for the review number\n",
    "review_number = page_soup.find('span', class_ = 'review-template-rating')"
   ]
  },
  {
   "cell_type": "code",
   "execution_count": 61,
   "metadata": {},
   "outputs": [
    {
     "name": "stdout",
     "output_type": "stream",
     "text": [
      "<span class=\"review-template-rating\">94</span>\n"
     ]
    }
   ],
   "source": [
    "print(review_number)"
   ]
  },
  {
   "cell_type": "code",
   "execution_count": 64,
   "metadata": {},
   "outputs": [],
   "source": [
    "the_number = review_number.text.strip()"
   ]
  },
  {
   "cell_type": "code",
   "execution_count": 65,
   "metadata": {},
   "outputs": [
    {
     "data": {
      "text/plain": [
       "'94'"
      ]
     },
     "execution_count": 65,
     "metadata": {},
     "output_type": "execute_result"
    }
   ],
   "source": [
    "the_number"
   ]
  },
  {
   "cell_type": "code",
   "execution_count": 67,
   "metadata": {},
   "outputs": [
    {
     "data": {
      "text/plain": [
       "str"
      ]
     },
     "execution_count": 67,
     "metadata": {},
     "output_type": "execute_result"
    }
   ],
   "source": [
    "type(the_number)"
   ]
  },
  {
   "cell_type": "code",
   "execution_count": 71,
   "metadata": {},
   "outputs": [],
   "source": [
    "# looking for name of roaster\n",
    "roaster = page_soup.find(class_ = 'review-roaster')"
   ]
  },
  {
   "cell_type": "code",
   "execution_count": 72,
   "metadata": {},
   "outputs": [
    {
     "name": "stdout",
     "output_type": "stream",
     "text": [
      "<p class=\"review-roaster\">BeanFruit Coffee Co.</p>\n"
     ]
    }
   ],
   "source": [
    "print(roaster)"
   ]
  },
  {
   "cell_type": "code",
   "execution_count": 73,
   "metadata": {},
   "outputs": [],
   "source": [
    "the_roaster = roaster.text.strip()"
   ]
  },
  {
   "cell_type": "code",
   "execution_count": 74,
   "metadata": {},
   "outputs": [
    {
     "data": {
      "text/plain": [
       "'BeanFruit Coffee Co.'"
      ]
     },
     "execution_count": 74,
     "metadata": {},
     "output_type": "execute_result"
    }
   ],
   "source": [
    "the_roaster"
   ]
  },
  {
   "cell_type": "code",
   "execution_count": 80,
   "metadata": {},
   "outputs": [],
   "source": [
    "def stripper(soup_derived):\n",
    "    return soup_derived.text.strip()"
   ]
  },
  {
   "cell_type": "code",
   "execution_count": 81,
   "metadata": {},
   "outputs": [
    {
     "data": {
      "text/plain": [
       "'Colombia Finca La Loma Microlot'"
      ]
     },
     "execution_count": 81,
     "metadata": {},
     "output_type": "execute_result"
    }
   ],
   "source": [
    "# looking for name of coffee in the review\n",
    "coffee = page_soup.find(class_ = 'review-title')\n",
    "# the_coffee = coffee.text.strip()\n",
    "the_cofee = stripper(coffee)\n",
    "the_coffee"
   ]
  },
  {
   "cell_type": "code",
   "execution_count": 77,
   "metadata": {},
   "outputs": [],
   "source": []
  },
  {
   "cell_type": "code",
   "execution_count": 88,
   "metadata": {},
   "outputs": [],
   "source": [
    "# looking for roaster location\n",
    "location = page_soup.find('td', text='Roaster Location:').find_next_sibling('td').text"
   ]
  },
  {
   "cell_type": "code",
   "execution_count": 89,
   "metadata": {},
   "outputs": [
    {
     "data": {
      "text/plain": [
       "'Jackson, Mississippi'"
      ]
     },
     "execution_count": 89,
     "metadata": {},
     "output_type": "execute_result"
    }
   ],
   "source": [
    "location"
   ]
  },
  {
   "cell_type": "code",
   "execution_count": 101,
   "metadata": {},
   "outputs": [
    {
     "name": "stdout",
     "output_type": "stream",
     "text": [
      "Huila, Colombia Medium-Light 58/76 $16.50/12 ounces 9 9 9 9 8\n"
     ]
    }
   ],
   "source": [
    "origin = page_soup.find('td', text='Coffee Origin:').find_next_sibling('td').text\n",
    "roast_level = page_soup.find('td', text='Roast Level:').find_next_sibling('td').text\n",
    "agtron = page_soup.find('td', text='Agtron:').find_next_sibling('td').text\n",
    "price = page_soup.find('td', text='Est. Price:').find_next_sibling('td').text\n",
    "aroma = page_soup.find('td', text='Aroma:').find_next_sibling('td').text\n",
    "acidity = page_soup.find('td', text='Acidity /Structure :').find_next_sibling('td').text\n",
    "body = page_soup.find('td', text='Body:').find_next_sibling('td').text\n",
    "flavor = page_soup.find('td', text='Flavor:').find_next_sibling('td').text\n",
    "aftertaste = page_soup.find('td', text='Aftertaste:').find_next_sibling('td').text\n",
    "print(origin, roast_level,agtron,price,aroma,acidity,body,flavor,aftertaste)"
   ]
  },
  {
   "cell_type": "markdown",
   "metadata": {},
   "source": [
    "### Working on Price"
   ]
  },
  {
   "cell_type": "code",
   "execution_count": 102,
   "metadata": {},
   "outputs": [
    {
     "data": {
      "text/plain": [
       "['16.50', '12']"
      ]
     },
     "execution_count": 102,
     "metadata": {},
     "output_type": "execute_result"
    }
   ],
   "source": [
    "# https://www.tutorialspoint.com/Extract-decimal-numbers-from-a-string-in-Python\n",
    "    \n",
    "import re\n",
    "rePrice= re.findall('\\d*\\.?\\d+',price)\n",
    "rePrice"
   ]
  },
  {
   "cell_type": "code",
   "execution_count": 103,
   "metadata": {},
   "outputs": [
    {
     "data": {
      "text/plain": [
       "'16.50'"
      ]
     },
     "execution_count": 103,
     "metadata": {},
     "output_type": "execute_result"
    }
   ],
   "source": [
    "rePrice[0]"
   ]
  },
  {
   "cell_type": "code",
   "execution_count": 104,
   "metadata": {},
   "outputs": [
    {
     "data": {
      "text/plain": [
       "str"
      ]
     },
     "execution_count": 104,
     "metadata": {},
     "output_type": "execute_result"
    }
   ],
   "source": [
    "type(rePrice[0])"
   ]
  },
  {
   "cell_type": "code",
   "execution_count": 105,
   "metadata": {},
   "outputs": [
    {
     "data": {
      "text/plain": [
       "16.5"
      ]
     },
     "execution_count": 105,
     "metadata": {},
     "output_type": "execute_result"
    }
   ],
   "source": [
    "cost = float(rePrice[0])\n",
    "cost"
   ]
  },
  {
   "cell_type": "code",
   "execution_count": 106,
   "metadata": {},
   "outputs": [
    {
     "data": {
      "text/plain": [
       "12.0"
      ]
     },
     "execution_count": 106,
     "metadata": {},
     "output_type": "execute_result"
    }
   ],
   "source": [
    "ounces = float(rePrice[1])\n",
    "ounces"
   ]
  },
  {
   "cell_type": "code",
   "execution_count": 108,
   "metadata": {},
   "outputs": [
    {
     "data": {
      "text/plain": [
       "1.375"
      ]
     },
     "execution_count": 108,
     "metadata": {},
     "output_type": "execute_result"
    }
   ],
   "source": [
    "pricePerOunce = cost/ounces\n",
    "pricePerOunce"
   ]
  },
  {
   "cell_type": "code",
   "execution_count": 126,
   "metadata": {},
   "outputs": [],
   "source": [
    "# THIS DOES NOT WORK\n",
    "bottom_line = page_soup.find(p = 'The Bottom Line :')"
   ]
  },
  {
   "cell_type": "code",
   "execution_count": 129,
   "metadata": {},
   "outputs": [
    {
     "name": "stdout",
     "output_type": "stream",
     "text": [
      "None\n"
     ]
    }
   ],
   "source": [
    "print(bottom_line)"
   ]
  },
  {
   "cell_type": "markdown",
   "metadata": {},
   "source": [
    "### Create an empty dataframe"
   ]
  },
  {
   "cell_type": "code",
   "execution_count": 117,
   "metadata": {},
   "outputs": [],
   "source": [
    "# create an empty dataframe\n",
    "df = pd.DataFrame(columns=['rating', 'roaster', 'name'])"
   ]
  },
  {
   "cell_type": "code",
   "execution_count": 118,
   "metadata": {},
   "outputs": [
    {
     "data": {
      "text/html": [
       "<div>\n",
       "<style scoped>\n",
       "    .dataframe tbody tr th:only-of-type {\n",
       "        vertical-align: middle;\n",
       "    }\n",
       "\n",
       "    .dataframe tbody tr th {\n",
       "        vertical-align: top;\n",
       "    }\n",
       "\n",
       "    .dataframe thead th {\n",
       "        text-align: right;\n",
       "    }\n",
       "</style>\n",
       "<table border=\"1\" class=\"dataframe\">\n",
       "  <thead>\n",
       "    <tr style=\"text-align: right;\">\n",
       "      <th></th>\n",
       "      <th>rating</th>\n",
       "      <th>roaster</th>\n",
       "      <th>name</th>\n",
       "    </tr>\n",
       "  </thead>\n",
       "  <tbody>\n",
       "  </tbody>\n",
       "</table>\n",
       "</div>"
      ],
      "text/plain": [
       "Empty DataFrame\n",
       "Columns: [rating, roaster, name]\n",
       "Index: []"
      ]
     },
     "execution_count": 118,
     "metadata": {},
     "output_type": "execute_result"
    }
   ],
   "source": [
    "df"
   ]
  },
  {
   "cell_type": "code",
   "execution_count": 121,
   "metadata": {},
   "outputs": [],
   "source": [
    "df = df.append({'rating': the_number, 'roaster': the_roaster, 'name': the_coffee}, ignore_index=True)"
   ]
  },
  {
   "cell_type": "code",
   "execution_count": 122,
   "metadata": {},
   "outputs": [
    {
     "data": {
      "text/html": [
       "<div>\n",
       "<style scoped>\n",
       "    .dataframe tbody tr th:only-of-type {\n",
       "        vertical-align: middle;\n",
       "    }\n",
       "\n",
       "    .dataframe tbody tr th {\n",
       "        vertical-align: top;\n",
       "    }\n",
       "\n",
       "    .dataframe thead th {\n",
       "        text-align: right;\n",
       "    }\n",
       "</style>\n",
       "<table border=\"1\" class=\"dataframe\">\n",
       "  <thead>\n",
       "    <tr style=\"text-align: right;\">\n",
       "      <th></th>\n",
       "      <th>rating</th>\n",
       "      <th>roaster</th>\n",
       "      <th>name</th>\n",
       "    </tr>\n",
       "  </thead>\n",
       "  <tbody>\n",
       "    <tr>\n",
       "      <th>0</th>\n",
       "      <td>94</td>\n",
       "      <td>BeanFruit Coffee Co.</td>\n",
       "      <td>Colombia Finca La Loma Microlot</td>\n",
       "    </tr>\n",
       "  </tbody>\n",
       "</table>\n",
       "</div>"
      ],
      "text/plain": [
       "  rating               roaster                             name\n",
       "0     94  BeanFruit Coffee Co.  Colombia Finca La Loma Microlot"
      ]
     },
     "execution_count": 122,
     "metadata": {},
     "output_type": "execute_result"
    }
   ],
   "source": [
    "df"
   ]
  },
  {
   "cell_type": "markdown",
   "metadata": {},
   "source": [
    "## Extract every name "
   ]
  },
  {
   "cell_type": "code",
   "execution_count": 145,
   "metadata": {},
   "outputs": [
    {
     "data": {
      "text/plain": [
       "['https://www.coffeereview.com/review/colombia-finca-la-loma-microlot/',\n",
       " 'https://www.coffeereview.com/review/aged-sumatra-espresso/',\n",
       " 'https://www.coffeereview.com/review/dukunde-kawa-rwanda/',\n",
       " 'https://www.coffeereview.com/review/buzira-burundi-natural/',\n",
       " 'https://www.coffeereview.com/review/kau-yellow-caturra-champagne-natural/',\n",
       " 'https://www.coffeereview.com/review/burundi-kibingo/',\n",
       " 'https://www.coffeereview.com/review/colombia-san-pascual-natural/',\n",
       " 'https://www.coffeereview.com/review/kenya-kiambu-ab-uklili-1905-lot/',\n",
       " 'https://www.coffeereview.com/review/birambo-village-dr-congo/',\n",
       " 'https://www.coffeereview.com/review/birambo-village-dr-congo-espresso/',\n",
       " 'https://www.coffeereview.com/review/konaroma-direct-trade-kona-2/',\n",
       " 'https://www.coffeereview.com/review/costa-rica-tarrazu-hacienda-la-pradera/',\n",
       " 'https://www.coffeereview.com/review/honeymoon-espresso/',\n",
       " 'https://www.coffeereview.com/review/zoom-espresso/',\n",
       " 'https://www.coffeereview.com/review/zenith-blend/',\n",
       " 'https://www.coffeereview.com/review/elida-natural-dragonfly-lot-2/',\n",
       " 'https://www.coffeereview.com/review/organic-ethiopia-yirgacheffe-fto/',\n",
       " 'https://www.coffeereview.com/review/guatemala-el-tesoro/',\n",
       " 'https://www.coffeereview.com/review/espresso-supremo/',\n",
       " 'https://www.coffeereview.com/review/kona-laurina-pointu/',\n",
       " 'https://www.coffeereview.com/review/dadaocheng-garden-blend-espresso/',\n",
       " 'https://www.coffeereview.com/review/kona-k7/',\n",
       " 'https://www.coffeereview.com/review/kona-sl34/',\n",
       " 'https://www.coffeereview.com/review/ethiopia-dimtu/',\n",
       " 'https://www.coffeereview.com/review/kona-double-washed-black-rock-farm/',\n",
       " 'https://www.coffeereview.com/review/peru-aproselva/',\n",
       " 'https://www.coffeereview.com/review/tanzania-aa-karatu-estate/',\n",
       " 'https://www.coffeereview.com/review/ethiopia-yetagesu-bulebula/',\n",
       " 'https://www.coffeereview.com/review/ethiopia-guji-darii-kojowa-grade-1/',\n",
       " 'https://www.coffeereview.com/review/kenya-kevota-makengi/',\n",
       " 'https://www.coffeereview.com/review/ethiopia-reko-estate-yirgacheffe-2/',\n",
       " 'https://www.coffeereview.com/review/h-coffee-blend-d02/',\n",
       " 'https://www.coffeereview.com/review/h-coffee-blend-f03/',\n",
       " 'https://www.coffeereview.com/review/le-roi-espresso/',\n",
       " 'https://www.coffeereview.com/review/ethiopia-sidama-anaerobic/',\n",
       " 'https://www.coffeereview.com/review/kenya-kiti-peaberry/',\n",
       " 'https://www.coffeereview.com/review/kenya-nyeri-aa-ichuga/',\n",
       " 'https://www.coffeereview.com/review/wolde-hirbe-natural-espresso/',\n",
       " 'https://www.coffeereview.com/review/hacienda-la-esmeralda-geisha-panama/',\n",
       " 'https://www.coffeereview.com/review/san-sebastian-colombia/']"
      ]
     },
     "execution_count": 145,
     "metadata": {},
     "output_type": "execute_result"
    }
   ],
   "source": [
    "coffee_links =[]\n",
    "\n",
    "for i in range(1,3):\n",
    "    url = \"https://www.coffeereview.com/review/page/{page_num}/\".format(page_num=i)\n",
    "    r = Request(url, headers={'User-Agent': 'Mozilla/5.0'})\n",
    "    page = urlopen(r).read()\n",
    "    soup = BeautifulSoup(page,'html.parser')\n",
    "    \n",
    "    paragraphs = soup.find_all('p', attrs={'class':'review-roaster'})\n",
    "    for paragraph in paragraphs:\n",
    "        coffee_links.append(paragraph.find('a').get('href'))\n",
    "\n",
    "coffee_links"
   ]
  },
  {
   "cell_type": "code",
   "execution_count": null,
   "metadata": {},
   "outputs": [],
   "source": [
    "# base_url=https://www.coffeereview.com/review/\n",
    "# base_req = Request(base_url, headers={'User-Agent': 'Mozilla/5.0'})\n",
    "# base_webpage = urlopen(base_req).read()\n",
    "# soup = BeautifulSoup(base_webpage,'html.parser')"
   ]
  }
 ],
 "metadata": {
  "kernelspec": {
   "display_name": "Python [conda env:learn-env] *",
   "language": "python",
   "name": "conda-env-learn-env-py"
  },
  "language_info": {
   "codemirror_mode": {
    "name": "ipython",
    "version": 3
   },
   "file_extension": ".py",
   "mimetype": "text/x-python",
   "name": "python",
   "nbconvert_exporter": "python",
   "pygments_lexer": "ipython3",
   "version": "3.6.6"
  },
  "toc": {
   "base_numbering": 1,
   "nav_menu": {},
   "number_sections": true,
   "sideBar": true,
   "skip_h1_title": false,
   "title_cell": "Table of Contents",
   "title_sidebar": "Contents",
   "toc_cell": true,
   "toc_position": {},
   "toc_section_display": true,
   "toc_window_display": false
  },
  "varInspector": {
   "cols": {
    "lenName": 16,
    "lenType": 16,
    "lenVar": 40
   },
   "kernels_config": {
    "python": {
     "delete_cmd_postfix": "",
     "delete_cmd_prefix": "del ",
     "library": "var_list.py",
     "varRefreshCmd": "print(var_dic_list())"
    },
    "r": {
     "delete_cmd_postfix": ") ",
     "delete_cmd_prefix": "rm(",
     "library": "var_list.r",
     "varRefreshCmd": "cat(var_dic_list()) "
    }
   },
   "types_to_exclude": [
    "module",
    "function",
    "builtin_function_or_method",
    "instance",
    "_Feature"
   ],
   "window_display": false
  }
 },
 "nbformat": 4,
 "nbformat_minor": 2
}
